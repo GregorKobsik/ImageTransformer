{
 "cells": [
  {
   "source": [
    "Author: Gregor Kobsik\n",
    "\n",
    "Date: 15.12.2020\n",
    "\n",
    "Description: This notebook shows a basic implementation of a transformer (decoder) architecture for image generation in TensorFlow 2.\n",
    "\n",
    "References:\n",
    "\n",
    "[Transformers Tutorial](https://www.tensorflow.org/tutorials/text/transformer) - This notebook is based on this tutorial.\n",
    "\n",
    "[Illustrated Transformers Guide](http://jalammar.github.io/illustrated-transformer/) - Quick visuall explanation.\n",
    "\n",
    "[ImageGPT in PyTorch](https://github.com/teddykoker/image-gpt) - Other reference implementation in PyTorch.\n"
   ],
   "cell_type": "markdown",
   "metadata": {}
  },
  {
   "source": [
    "# Transformer Decoder for Images aka ImageGPT"
   ],
   "cell_type": "markdown",
   "metadata": {}
  },
  {
   "cell_type": "code",
   "execution_count": 1,
   "metadata": {
    "execution": {
     "iopub.execute_input": "2020-11-02T02:23:45.920611Z",
     "iopub.status.busy": "2020-11-02T02:23:45.919935Z",
     "iopub.status.idle": "2020-11-02T02:23:53.342882Z",
     "shell.execute_reply": "2020-11-02T02:23:53.342273Z"
    },
    "id": "JjJJyJTZYebt"
   },
   "outputs": [],
   "source": [
    "import tensorflow as tf\n",
    "# https://stackoverflow.com/a/60699372/7989988\n",
    "physical_devices = tf.config.list_physical_devices('GPU') \n",
    "tf.config.experimental.set_memory_growth(physical_devices[0], True)\n",
    "\n",
    "import tensorflow_datasets as tfds\n",
    "\n",
    "import time\n",
    "import numpy as np\n",
    "import matplotlib.pyplot as plt\n",
    "\n",
    "from tqdm.notebook import tqdm\n",
    "from sklearn.cluster import MiniBatchKMeans"
   ]
  },
  {
   "cell_type": "markdown",
   "metadata": {
    "id": "fd1NWMxjfsDd"
   },
   "source": [
    "## Setup input pipeline"
   ]
  },
  {
   "cell_type": "markdown",
   "metadata": {
    "id": "t4_Qt8W1hJE_"
   },
   "source": [
    "### Download data\n",
    "\n",
    "This dataset contains 60000 training examples. [MNIST](https://www.tensorflow.org/datasets/catalog/mnist)-Reference."
   ]
  },
  {
   "cell_type": "code",
   "execution_count": 2,
   "metadata": {
    "execution": {
     "iopub.execute_input": "2020-11-02T02:23:53.350740Z",
     "iopub.status.busy": "2020-11-02T02:23:53.349965Z",
     "iopub.status.idle": "2020-11-02T02:24:16.829151Z",
     "shell.execute_reply": "2020-11-02T02:24:16.829598Z"
    },
    "id": "8q9t4FmN96eN"
   },
   "outputs": [
    {
     "output_type": "display_data",
     "data": {
      "text/plain": "<Figure size 648x648 with 3 Axes>",
      "image/svg+xml": "<?xml version=\"1.0\" encoding=\"utf-8\" standalone=\"no\"?>\r\n<!DOCTYPE svg PUBLIC \"-//W3C//DTD SVG 1.1//EN\"\r\n  \"http://www.w3.org/Graphics/SVG/1.1/DTD/svg11.dtd\">\r\n<!-- Created with matplotlib (https://matplotlib.org/) -->\r\n<svg height=\"161.507216pt\" version=\"1.1\" viewBox=\"0 0 516.565455 161.507216\" width=\"516.565455pt\" xmlns=\"http://www.w3.org/2000/svg\" xmlns:xlink=\"http://www.w3.org/1999/xlink\">\r\n <metadata>\r\n  <rdf:RDF xmlns:cc=\"http://creativecommons.org/ns#\" xmlns:dc=\"http://purl.org/dc/elements/1.1/\" xmlns:rdf=\"http://www.w3.org/1999/02/22-rdf-syntax-ns#\">\r\n   <cc:Work>\r\n    <dc:type rdf:resource=\"http://purl.org/dc/dcmitype/StillImage\"/>\r\n    <dc:date>2020-12-15T10:43:32.907237</dc:date>\r\n    <dc:format>image/svg+xml</dc:format>\r\n    <dc:creator>\r\n     <cc:Agent>\r\n      <dc:title>Matplotlib v3.3.3, https://matplotlib.org/</dc:title>\r\n     </cc:Agent>\r\n    </dc:creator>\r\n   </cc:Work>\r\n  </rdf:RDF>\r\n </metadata>\r\n <defs>\r\n  <style type=\"text/css\">*{stroke-linecap:butt;stroke-linejoin:round;}</style>\r\n </defs>\r\n <g id=\"figure_1\">\r\n  <g id=\"patch_1\">\r\n   <path d=\"M 0 161.507216 \r\nL 516.565455 161.507216 \r\nL 516.565455 0 \r\nL 0 0 \r\nz\r\n\" style=\"fill:none;\"/>\r\n  </g>\r\n  <g id=\"axes_1\">\r\n   <g id=\"patch_2\">\r\n    <path d=\"M 10.7 140.629091 \r\nL 144.129091 140.629091 \r\nL 144.129091 7.2 \r\nL 10.7 7.2 \r\nz\r\n\" style=\"fill:#ffffff;\"/>\r\n   </g>\r\n   <g clip-path=\"url(#pdf688825a0)\">\r\n    <image height=\"134\" id=\"image926a0d2412\" transform=\"scale(1 -1)translate(0 -134)\" width=\"134\" x=\"10.7\" xlink:href=\"data:image/png;base64,\r\niVBORw0KGgoAAAANSUhEUgAAAIYAAACGCAYAAAAYefKRAAAD6ElEQVR4nO3dvyu9bRzA8XOenpKFMpAMGFiUEJuizqAsiIWS+CeQf4AyU5KRshiVBYNYJWVR5NfgV1lk4ZnP+byHk+ec4z6d92u7P93f4xreXV0d3/uWTqVSPykpxz9/vQAlk2EIGYaQYQgZhpBhCBmGkGEIGYaQYQgZhpBhCBmG0L9/vYBSeHl5CbP39/cwa2trK8VyyoI7hpBhCBmGkGEIVcTh8/PzM8waGhrCrKWlJcxubm6KsKLkc8cQMgwhwxAyDKF0qgKeKzk4OAizTCYTZufn52E2NDQUZs/Pz4VZWIK5YwgZhpBhCBmGUEV885lOp/OadXR0hNnExESYra+vF2ZhCeaOIWQYQoYhZBhCFfHNZ09PT5gdHh6G2cnJSZgNDw8XZU1J544hZBhChiFUEWcM8vr6Gma1tbVh1t/fH2ZnZ2dFWVOSuGMIGYaQYQgZhlBF/HaVHB8fh9nIyEiYDQwMhJmHT1UswxAyDCHDEKrYw+f29naYjY6OhllfX18JVpM87hhChiFkGEKGIZTYw+fa2lqYTU9Ph9nW1laYPT4+Zl2/vb2Fe+gVjz8/8X8gjI2NhVlNTU3W9cfHR7in3LljCBmGkGEIJfa/9s3OzobZ5ubmrz6LnlOl80S+Jicns653d3d//VlJ5Y4hZBhChiFkGEKJPXxWVVWF2f39fZjV1dWF2cXFRdb16elpXv+us7MzzNrb28Ms9+1+vb294Z7v7+8wKyfuGEKGIWQYQoYhlNjfrn59fYXZxsZGmC0uLobZzs5O1vXKykpeP7OpqSnMLi8vw6y7uzvrurW1NdxzfX2d189MKncMIcMQMgwhwxBK7OGT7O3thdnCwkLBPv/h4SHM6PXQ8/PzWddzc3PhnqWlpYKt6y+4YwgZhpBhCBmGUFkdPun5kGLLfUaFDA4OFn8hJeaOIWQYQoYhVFZnjPr6+pL/TPpSbXV1Neua/pZaY2NjmD09PRVuYUXmjiFkGEKGIWQYQmV1+Kyurg6z3GdIUil+HfRv0bMsuZ+fyWTCPTMzM2G2vLxcsHUVmzuGkGEIGYaQYQiV1eHz6OgozHKf8Uil/t/bcvKRe+Clw2dXV1dR11Bs7hhChiFkGEKGIZTYN+okWXNzc9b11dVVuIe+kR0fHw+zu7u7wi2sgNwxhAxDyDCEDEOorL75TIrb29us6/39/XAP/dXnqampMMv3bT+l5o4hZBhChiHkGaMA8v3jvn/x7O1vuWMIGYaQYQgZhpC/XRVyxxAyDCHDEDIMIcMQMgwhwxAyDCHDEDIMIcMQMgwhwxAyDCHDEDIMIcMQMgwhwxAyDCHDEDIMIcMQ+g/OarrKTt5A0wAAAABJRU5ErkJggg==\" y=\"-6.629091\"/>\r\n   </g>\r\n   <g id=\"matplotlib.axis_1\">\r\n    <g id=\"text_1\">\r\n     <!-- 4 (4) -->\r\n     <g transform=\"translate(65.56142 152.227528)scale(0.1 -0.1)\">\r\n      <defs>\r\n       <path d=\"M 37.796875 64.3125 \r\nL 12.890625 25.390625 \r\nL 37.796875 25.390625 \r\nz\r\nM 35.203125 72.90625 \r\nL 47.609375 72.90625 \r\nL 47.609375 25.390625 \r\nL 58.015625 25.390625 \r\nL 58.015625 17.1875 \r\nL 47.609375 17.1875 \r\nL 47.609375 0 \r\nL 37.796875 0 \r\nL 37.796875 17.1875 \r\nL 4.890625 17.1875 \r\nL 4.890625 26.703125 \r\nz\r\n\" id=\"DejaVuSans-52\"/>\r\n       <path id=\"DejaVuSans-32\"/>\r\n       <path d=\"M 31 75.875 \r\nQ 24.46875 64.65625 21.28125 53.65625 \r\nQ 18.109375 42.671875 18.109375 31.390625 \r\nQ 18.109375 20.125 21.3125 9.0625 \r\nQ 24.515625 -2 31 -13.1875 \r\nL 23.1875 -13.1875 \r\nQ 15.875 -1.703125 12.234375 9.375 \r\nQ 8.59375 20.453125 8.59375 31.390625 \r\nQ 8.59375 42.28125 12.203125 53.3125 \r\nQ 15.828125 64.359375 23.1875 75.875 \r\nz\r\n\" id=\"DejaVuSans-40\"/>\r\n       <path d=\"M 8.015625 75.875 \r\nL 15.828125 75.875 \r\nQ 23.140625 64.359375 26.78125 53.3125 \r\nQ 30.421875 42.28125 30.421875 31.390625 \r\nQ 30.421875 20.453125 26.78125 9.375 \r\nQ 23.140625 -1.703125 15.828125 -13.1875 \r\nL 8.015625 -13.1875 \r\nQ 14.5 -2 17.703125 9.0625 \r\nQ 20.90625 20.125 20.90625 31.390625 \r\nQ 20.90625 42.671875 17.703125 53.65625 \r\nQ 14.5 64.65625 8.015625 75.875 \r\nz\r\n\" id=\"DejaVuSans-41\"/>\r\n      </defs>\r\n      <use xlink:href=\"#DejaVuSans-52\"/>\r\n      <use x=\"63.623047\" xlink:href=\"#DejaVuSans-32\"/>\r\n      <use x=\"95.410156\" xlink:href=\"#DejaVuSans-40\"/>\r\n      <use x=\"134.423828\" xlink:href=\"#DejaVuSans-52\"/>\r\n      <use x=\"198.046875\" xlink:href=\"#DejaVuSans-41\"/>\r\n     </g>\r\n    </g>\r\n   </g>\r\n   <g id=\"matplotlib.axis_2\"/>\r\n   <g id=\"patch_3\">\r\n    <path d=\"M 10.7 140.629091 \r\nL 10.7 7.2 \r\n\" style=\"fill:none;stroke:#000000;stroke-linecap:square;stroke-linejoin:miter;stroke-width:0.8;\"/>\r\n   </g>\r\n   <g id=\"patch_4\">\r\n    <path d=\"M 144.129091 140.629091 \r\nL 144.129091 7.2 \r\n\" style=\"fill:none;stroke:#000000;stroke-linecap:square;stroke-linejoin:miter;stroke-width:0.8;\"/>\r\n   </g>\r\n   <g id=\"patch_5\">\r\n    <path d=\"M 10.7 140.629091 \r\nL 144.129091 140.629091 \r\n\" style=\"fill:none;stroke:#000000;stroke-linecap:square;stroke-linejoin:miter;stroke-width:0.8;\"/>\r\n   </g>\r\n   <g id=\"patch_6\">\r\n    <path d=\"M 10.7 7.2 \r\nL 144.129091 7.2 \r\n\" style=\"fill:none;stroke:#000000;stroke-linecap:square;stroke-linejoin:miter;stroke-width:0.8;\"/>\r\n   </g>\r\n  </g>\r\n  <g id=\"axes_2\">\r\n   <g id=\"patch_7\">\r\n    <path d=\"M 193.318182 140.629091 \r\nL 326.747273 140.629091 \r\nL 326.747273 7.2 \r\nL 193.318182 7.2 \r\nz\r\n\" style=\"fill:#ffffff;\"/>\r\n   </g>\r\n   <g clip-path=\"url(#p4db9bade3c)\">\r\n    <image height=\"134\" id=\"image093789af3a\" transform=\"scale(1 -1)translate(0 -134)\" width=\"134\" x=\"193.318182\" xlink:href=\"data:image/png;base64,\r\niVBORw0KGgoAAAANSUhEUgAAAIYAAACGCAYAAAAYefKRAAADpUlEQVR4nO3dvS4sYRyA8V2ORJAgQSISCh3xkb0GEo1GLaFTcAtE4wZcAZWWQiQqNYqNj4RGo6BCBIWP7GnP+D/JCLOHsc+vm39mTl7Jc9682V22WCgUKgXpnbrvXoB+JsMQMgwhwxAyDCHDEDIMIcMQMgwhwxAyDCHDEDIMoT/fvYCv6ujoCLPT09PEdaUS30Du7+8Ps8fHx+wWlnPuGEKGIWQYQoYhlPvD5/z8fJh1dnamPjc2NhZmW1tbmazpN3DHEDIMIcMQMgyhYiHnv1dSKpXC7PDwMPW57e3tMJucnMxkTb+BO4aQYQgZhpBhCOX+8NnS0hJm5+fnievu7u5wz+3tbZjRfc/Pz19YXX65YwgZhpBhCBmGUO7fdn94eAizi4uLxDUdKtvb28NsYGAgzMrl8ucXl2PuGEKGIWQYQrl/gYuMjIwkrvf398M9DQ0NYba5uRlmU1NTma0rT9wxhAxDyDCEDEPoVx4+3zs+Pg6zwcHBDz1bV1eb/3dq86dWKsMQMgwhwxDK/burH7G3txdmHz18zs7Ohtna2trXFpQD7hhChiFkGEKGIVQTr3z29fWF2cnJSZg1NzeH2dnZWZjRRwB/G3cMIcMQMgyhmjhjkN3d3TAbHx8Ps5eXlzDr7e1NXF9fX2e3sB/CHUPIMIQMQ8gwhGr28Dk6OhpmBwcHYVZfXx9mKysrievFxcXM1vVTuGMIGYaQYQgZhlDNHj7J09NTmDU2NobZ3d1d4rqrqyvc8/r6mtm6voM7hpBhCBmGkGEI1cTvlWStra0tcU1v1+/s7Pyn1VSHO4aQYQgZhpBhCPnK5z9WV1fDbGFhIfU5+vzoxMREJmv6Lu4YQoYhZBhCnjH+8f6Fq0KhULi5uUl97urqKsx6enqyWNK3cccQMgwhwxAyDCEPnynoi3tbW1sT1/QxvpmZmTDb2NjIbmFV5o4hZBhChiFkGEIePlMsLy+H2dLSUupz9FcBh4eHs1jSf+GOIWQYQoYhZBhCHj5T0Pea0JfvvXd/fx9mQ0NDYXZ5efm5hVWZO4aQYQgZhpBhCHn4TFEsFsNsfX09cT09Pf2hf6tUKoVZuVz+1LqqzR1DyDCEDEPIP5ySolKJR7C5ubnE9dvbW7inqakpzI6OjrJbWJW5YwgZhpBhCBmGkC9wCbljCBmGkGEIGYaQYQgZhpBhCBmGkGEIGYaQYQgZhpBhCBmGkGEIGYaQYQgZhpBhCBmGkGEIGYaQYQj9BetgmdwvOYPbAAAAAElFTkSuQmCC\" y=\"-6.629091\"/>\r\n   </g>\r\n   <g id=\"matplotlib.axis_3\">\r\n    <g id=\"text_2\">\r\n     <!-- 1 (1) -->\r\n     <g transform=\"translate(248.179602 152.227528)scale(0.1 -0.1)\">\r\n      <defs>\r\n       <path d=\"M 12.40625 8.296875 \r\nL 28.515625 8.296875 \r\nL 28.515625 63.921875 \r\nL 10.984375 60.40625 \r\nL 10.984375 69.390625 \r\nL 28.421875 72.90625 \r\nL 38.28125 72.90625 \r\nL 38.28125 8.296875 \r\nL 54.390625 8.296875 \r\nL 54.390625 0 \r\nL 12.40625 0 \r\nz\r\n\" id=\"DejaVuSans-49\"/>\r\n      </defs>\r\n      <use xlink:href=\"#DejaVuSans-49\"/>\r\n      <use x=\"63.623047\" xlink:href=\"#DejaVuSans-32\"/>\r\n      <use x=\"95.410156\" xlink:href=\"#DejaVuSans-40\"/>\r\n      <use x=\"134.423828\" xlink:href=\"#DejaVuSans-49\"/>\r\n      <use x=\"198.046875\" xlink:href=\"#DejaVuSans-41\"/>\r\n     </g>\r\n    </g>\r\n   </g>\r\n   <g id=\"matplotlib.axis_4\"/>\r\n   <g id=\"patch_8\">\r\n    <path d=\"M 193.318182 140.629091 \r\nL 193.318182 7.2 \r\n\" style=\"fill:none;stroke:#000000;stroke-linecap:square;stroke-linejoin:miter;stroke-width:0.8;\"/>\r\n   </g>\r\n   <g id=\"patch_9\">\r\n    <path d=\"M 326.747273 140.629091 \r\nL 326.747273 7.2 \r\n\" style=\"fill:none;stroke:#000000;stroke-linecap:square;stroke-linejoin:miter;stroke-width:0.8;\"/>\r\n   </g>\r\n   <g id=\"patch_10\">\r\n    <path d=\"M 193.318182 140.629091 \r\nL 326.747273 140.629091 \r\n\" style=\"fill:none;stroke:#000000;stroke-linecap:square;stroke-linejoin:miter;stroke-width:0.8;\"/>\r\n   </g>\r\n   <g id=\"patch_11\">\r\n    <path d=\"M 193.318182 7.2 \r\nL 326.747273 7.2 \r\n\" style=\"fill:none;stroke:#000000;stroke-linecap:square;stroke-linejoin:miter;stroke-width:0.8;\"/>\r\n   </g>\r\n  </g>\r\n  <g id=\"axes_3\">\r\n   <g id=\"patch_12\">\r\n    <path d=\"M 375.936364 140.629091 \r\nL 509.365455 140.629091 \r\nL 509.365455 7.2 \r\nL 375.936364 7.2 \r\nz\r\n\" style=\"fill:#ffffff;\"/>\r\n   </g>\r\n   <g clip-path=\"url(#p62cb373f4a)\">\r\n    <image height=\"134\" id=\"image36222247f9\" transform=\"scale(1 -1)translate(0 -134)\" width=\"134\" x=\"375.936364\" xlink:href=\"data:image/png;base64,\r\niVBORw0KGgoAAAANSUhEUgAAAIYAAACGCAYAAAAYefKRAAAFLUlEQVR4nO3dPUgcWxjG8aOJCqJitDBqGiFYRCTKtiKaCMHKUiGKKdKJjQE7JZBCUAkEK4WVJaDYJQRRgp+VaVL4ERtBEIyipomFgorJ7S7MvM9lx3HXXa//X3cexuMJeXIyzOzMZjjn/jrAJzPVC0B6ohiQKAYkigGJYkCiGJAoBiSKAYliQKIYkCgGJIoBiWJAohiQKAYkigGJYkCiGJAoBiSKAYliQKIYkCgGpPupXoBzzj148MBkbW1tJuvr6zNZSUlJqN8Zi8VMNj09bbJv376Z7ODgINTvvE3YMSBRDEgUAxLFgJThUvBQc1lZmWf89etXc8yTJ09uajn/ysjIMNmvX79MNjY25hlHo1FzzM7OTsLWlQrsGJAoBiSKAYliQErJyefr168949HR0ZtegpSZaf+d/PnzJ+7PHR4emuz9+/cmGx4eDrewFGDHgEQxIFEMSGlxd/U61P/bW1tbnnEkEjHH7O7umqyhocFk9fX1JsvOzvaM1R3egYEBk9XW1pqso6PDMw5yTnMT2DEgUQxIFAMSxYCUkpPPhw8fJmyu8/Nzk/nvdqq7n4o6YWxvbzfZ27dvPeOKigpzjLpYpj6uuLq66hkPDQ3FWeXNYMeARDEgUQxIFANSSu6urq+ve8ZVVVWh59re3jZZZWVl6PmCaGxs9IzVRxPv3bsXaK6zszPPuLq62hyj/ozJxo4BiWJAohiQKAaklJx8+m9lf/nyxRyTn58faK6/f+3yOzs7PeOJiYkrrO7qlpaWTKZu1ysXFxeecV1dnTnm+/fv4RZ2DewYkCgGJIoBKSXnGH7qo3H7+/uh55uamvKMX758GXquIN68eWOywcHBQD97cnLiGRcUFCRkTdfFjgGJYkCiGJAoBqS0OPksLCw02cbGhsn8L1z5L/4TOv8FL+ec+/TpU7DFBeB/zsQ552ZnZ02mnlu5vLz0jFtaWgLNlWzsGJAoBiSKAYliQEqLh5p///5tMv/LVZwLfhKWl5fnGX/8+NEco94KqB50DkI923J0dGQy9VbA+/e9fwXl5eWh1pBo7BiQKAYkigGJYkBKi5NPRT2rMTc3Z7Kmpqa4c+Xm5prs8+fPJnv27JnJjo+P486vqI8cqswv6Ecak40dAxLFgEQxIFEMSGlx2z2oR48emWxmZsZkYR+S7unpMdmHDx9CzTU5OWmy1tbWuD/348cPkz19+jTUGq6DHQMSxYBEMSCl7QUu5efPnyZrbm422fz8vGcc9EUqvb29JltbWzPZ8vJyoPnC2NzcTNrcV8GOAYliQKIYkCgGpFt18qns7e2ZzP/qZ/8X6DrnXFZWlslKS0tNpr6v7cWLF55xIr98d2FhIWFzXQc7BiSKAYliQKIYkG79yafif45EPXQ8MjJispycHJM9fvzYZP6PGKovwSsuLo67TufsK6OTeVX1KtgxIFEMSBQDEsWAdKs+2pdI6gFp/xVN54I9C+L/wjvnnKupqQm0Dl7niFuFYkCiGJAoBqQ7e/KpHnRWVx0jkUhS1+F/aLqoqCipvy8odgxIFAMSxYD0v7y7GsTp6anJ+vv7Teb/7hPnEvtyk3fv3iVsrkRix4BEMSBRDEgUA9KdvcAV1KtXr0wWjUZDzTU+Pm6yrq4uz1i9fjoV2DEgUQxIFAMSxYB0Z698BrWysmKyxcVFz/j58+fmmFgsZrLu7m6TpcvJph87BiSKAYliQKIYkLjyCYkdAxLFgEQxIFEMSBQDEsWARDEgUQxIFAMSxYBEMSBRDEgUA9I/SykV/yPzJEUAAAAASUVORK5CYII=\" y=\"-6.629091\"/>\r\n   </g>\r\n   <g id=\"matplotlib.axis_5\">\r\n    <g id=\"text_3\">\r\n     <!-- 0 (0) -->\r\n     <g transform=\"translate(430.797784 152.227528)scale(0.1 -0.1)\">\r\n      <defs>\r\n       <path d=\"M 31.78125 66.40625 \r\nQ 24.171875 66.40625 20.328125 58.90625 \r\nQ 16.5 51.421875 16.5 36.375 \r\nQ 16.5 21.390625 20.328125 13.890625 \r\nQ 24.171875 6.390625 31.78125 6.390625 \r\nQ 39.453125 6.390625 43.28125 13.890625 \r\nQ 47.125 21.390625 47.125 36.375 \r\nQ 47.125 51.421875 43.28125 58.90625 \r\nQ 39.453125 66.40625 31.78125 66.40625 \r\nz\r\nM 31.78125 74.21875 \r\nQ 44.046875 74.21875 50.515625 64.515625 \r\nQ 56.984375 54.828125 56.984375 36.375 \r\nQ 56.984375 17.96875 50.515625 8.265625 \r\nQ 44.046875 -1.421875 31.78125 -1.421875 \r\nQ 19.53125 -1.421875 13.0625 8.265625 \r\nQ 6.59375 17.96875 6.59375 36.375 \r\nQ 6.59375 54.828125 13.0625 64.515625 \r\nQ 19.53125 74.21875 31.78125 74.21875 \r\nz\r\n\" id=\"DejaVuSans-48\"/>\r\n      </defs>\r\n      <use xlink:href=\"#DejaVuSans-48\"/>\r\n      <use x=\"63.623047\" xlink:href=\"#DejaVuSans-32\"/>\r\n      <use x=\"95.410156\" xlink:href=\"#DejaVuSans-40\"/>\r\n      <use x=\"134.423828\" xlink:href=\"#DejaVuSans-48\"/>\r\n      <use x=\"198.046875\" xlink:href=\"#DejaVuSans-41\"/>\r\n     </g>\r\n    </g>\r\n   </g>\r\n   <g id=\"matplotlib.axis_6\"/>\r\n   <g id=\"patch_13\">\r\n    <path d=\"M 375.936364 140.629091 \r\nL 375.936364 7.2 \r\n\" style=\"fill:none;stroke:#000000;stroke-linecap:square;stroke-linejoin:miter;stroke-width:0.8;\"/>\r\n   </g>\r\n   <g id=\"patch_14\">\r\n    <path d=\"M 509.365455 140.629091 \r\nL 509.365455 7.2 \r\n\" style=\"fill:none;stroke:#000000;stroke-linecap:square;stroke-linejoin:miter;stroke-width:0.8;\"/>\r\n   </g>\r\n   <g id=\"patch_15\">\r\n    <path d=\"M 375.936364 140.629091 \r\nL 509.365455 140.629091 \r\n\" style=\"fill:none;stroke:#000000;stroke-linecap:square;stroke-linejoin:miter;stroke-width:0.8;\"/>\r\n   </g>\r\n   <g id=\"patch_16\">\r\n    <path d=\"M 375.936364 7.2 \r\nL 509.365455 7.2 \r\n\" style=\"fill:none;stroke:#000000;stroke-linecap:square;stroke-linejoin:miter;stroke-width:0.8;\"/>\r\n   </g>\r\n  </g>\r\n </g>\r\n <defs>\r\n  <clipPath id=\"pdf688825a0\">\r\n   <rect height=\"133.429091\" width=\"133.429091\" x=\"10.7\" y=\"7.2\"/>\r\n  </clipPath>\r\n  <clipPath id=\"p4db9bade3c\">\r\n   <rect height=\"133.429091\" width=\"133.429091\" x=\"193.318182\" y=\"7.2\"/>\r\n  </clipPath>\r\n  <clipPath id=\"p62cb373f4a\">\r\n   <rect height=\"133.429091\" width=\"133.429091\" x=\"375.936364\" y=\"7.2\"/>\r\n  </clipPath>\r\n </defs>\r\n</svg>\r\n",
      "image/png": "[encoded data removed]"
     },
     "metadata": {}
    },
    {
     "output_type": "display_data",
     "data": {
      "text/plain": "<Figure size 648x648 with 3 Axes>",
      "image/svg+xml": "<?xml version=\"1.0\" encoding=\"utf-8\" standalone=\"no\"?>\r\n<!DOCTYPE svg PUBLIC \"-//W3C//DTD SVG 1.1//EN\"\r\n  \"http://www.w3.org/Graphics/SVG/1.1/DTD/svg11.dtd\">\r\n<!-- Created with matplotlib (https://matplotlib.org/) -->\r\n<svg height=\"161.507216pt\" version=\"1.1\" viewBox=\"0 0 516.565455 161.507216\" width=\"516.565455pt\" xmlns=\"http://www.w3.org/2000/svg\" xmlns:xlink=\"http://www.w3.org/1999/xlink\">\r\n <metadata>\r\n  <rdf:RDF xmlns:cc=\"http://creativecommons.org/ns#\" xmlns:dc=\"http://purl.org/dc/elements/1.1/\" xmlns:rdf=\"http://www.w3.org/1999/02/22-rdf-syntax-ns#\">\r\n   <cc:Work>\r\n    <dc:type rdf:resource=\"http://purl.org/dc/dcmitype/StillImage\"/>\r\n    <dc:date>2020-12-15T10:43:33.315624</dc:date>\r\n    <dc:format>image/svg+xml</dc:format>\r\n    <dc:creator>\r\n     <cc:Agent>\r\n      <dc:title>Matplotlib v3.3.3, https://matplotlib.org/</dc:title>\r\n     </cc:Agent>\r\n    </dc:creator>\r\n   </cc:Work>\r\n  </rdf:RDF>\r\n </metadata>\r\n <defs>\r\n  <style type=\"text/css\">*{stroke-linecap:butt;stroke-linejoin:round;}</style>\r\n </defs>\r\n <g id=\"figure_1\">\r\n  <g id=\"patch_1\">\r\n   <path d=\"M 0 161.507216 \r\nL 516.565455 161.507216 \r\nL 516.565455 0 \r\nL 0 0 \r\nz\r\n\" style=\"fill:none;\"/>\r\n  </g>\r\n  <g id=\"axes_1\">\r\n   <g id=\"patch_2\">\r\n    <path d=\"M 10.7 140.629091 \r\nL 144.129091 140.629091 \r\nL 144.129091 7.2 \r\nL 10.7 7.2 \r\nz\r\n\" style=\"fill:#ffffff;\"/>\r\n   </g>\r\n   <g clip-path=\"url(#pe534e02c70)\">\r\n    <image height=\"134\" id=\"image9c67f14402\" transform=\"scale(1 -1)translate(0 -134)\" width=\"134\" x=\"10.7\" xlink:href=\"data:image/png;base64,\r\niVBORw0KGgoAAAANSUhEUgAAAIYAAACGCAYAAAAYefKRAAAFhUlEQVR4nO3dT0gVaxzG8de4WIuzkMyFBCIoQtkyEDVS+rNJ1MKCyha6iCDa6DI5KiK2adfCjRIF/gFFaFMgpJUpgrkT4SwSlBIDK3FlWdZ63t/jde505h699/vZvQ/vGWfx+PIy58xMlnPulwM8hzJ9AtifKAYkigGJYkCiGJAoBiSKAYliQKIYkCgGJIoBiWJAohiQKAYkigGJYkCiGJAoBqS/on7w8OHDJisqKgr12Q8fPgTGm5ubUU/jwMvLy/vbsXPOvX//3mTfvn2L7ZycY8XALigGJIoBiWJAynIR7yvp6+szWVNTU6jPLi4uBsaTk5NmztTUlMn8Tatzzs3Ozob6m/vVkydPAuPGxkYzJ5lMmuzBgwexnZNzrBjYBcWARDEgUQxIkTefP3/+NNmvX/ZQr1+/NtmRI0cC41OnTpk5iUTCZFtbWyb79OmTyW7evBkYv3v3zsz58eOHyeI2NjZmstra2sB4ZWXFzLl3757JXrx4kb4TE1gxIFEMSBQDEsWAFPlr9/HxcZNdvHjRZGrz2dXVFRgXFxebOefPnzdZT0+PyQoKCkz29u3bPc+1vb3dZGqTGlVZWZnJysvLTZaVlRUYz8zMmDlxbzQVVgxIFAMSxYAU+QLXmTNnTKb2E6lUymQnT56M8iddYWGhyaqrq012//79wFj95PD79+8me/jwocmePXtmsjB7kc+fP5ssJyfHZG/evAmM6+vrzZxM/PSRFQMSxYBEMSBRDEiRN5/KxMSEyc6ePWuyx48fB8bq28M/uW/i+PHjgXFbW5uZc+fOHZOpb4fn5uZM5l9oa25uNnPUJlIdv6WlJTB+9OiRmZMJrBiQKAYkigGJYkBK6+bz6tWrJnv69KnJsrOzA2N/M+qcc7dv307XaUnq29W7d++a7NixY5GO739r6pxz/f39JvM33uqKbCawYkCiGJAoBiSKASmtm0/lypUrJhsYGAiM/c2oc86tr6+bTF05VBtX//6T4eFhM+fr168m839y6Fz0TbDafJ47d85k6qcK+wErBiSKAYliQIp9j6H4F8LUhaWqqiqTqT1GVGoPEPfxb926ZbKhoaG0/c10YsWARDEgUQxIFANSRjafYZSWlprs8uXLJqurqzPZ6dOn9zz+oUP2f2JnZ8dk6qd9fnbjxg0zJzc312QbGxsm838C6N9nkimsGJAoBiSKAYliQNq3m8+DRD118NWrVyYLc1Oz2mBzUzP2DYoBiWJAohiQ2HzGRD21Tz2dx79v5fr162bO6Oho+k4sJFYMSBQDEsWARDEgsfn8F4V54tDLly/NnJqaGpPF/b4VVgxIFAMSxYAU+bUU+8W1a9dM1tDQEBgvLCyYOd3d3bGd024GBwdN5r+qQr2Oo6SkxGT+S43TjRUDEsWARDEgUQxIB/4CV2dnp8mSyeSen5uenjaZuj/k48ePkc4rLP+FwuopgWqj3NHREds5OceKgV1QDEgUAxLFgHTgr3w+f/7cZBUVFYGxelpeZWWlyZaXl02mngq4tLS055y1tTV7ssKXL18CY3Uz9NGjR0MdK51YMSBRDEgUAxLFgHTgr3wq/s3D8/PzZo5663PUxzmurq6arLW1NdRn/SuYJ06cMHPGx8dNdunSpZBnFw0rBiSKAYliQKIYkP6Tm0+felv0yMiIycK+D8U/nnqiTiKRCHV83/b2tsnUTwQuXLiw57H+BCsGJIoBiWJA+l/sMeJWXFxsssnJSZPl5+ebzN9T9Pb2mjlhL5alEysGJIoBiWJAohiQ2HzGRG001U/0/AegpFKp2M7pn2DFgEQxIFEMSBQDEptPSKwYkCgGJIoBiWJAohiQKAYkigGJYkCiGJAoBiSKAYliQKIYkCgGJIoBiWJAohiQKAak3x5DW5Kf1ineAAAAAElFTkSuQmCC\" y=\"-6.629091\"/>\r\n   </g>\r\n   <g id=\"matplotlib.axis_1\">\r\n    <g id=\"text_1\">\r\n     <!-- 2 (2) -->\r\n     <g transform=\"translate(65.56142 152.227528)scale(0.1 -0.1)\">\r\n      <defs>\r\n       <path d=\"M 19.1875 8.296875 \r\nL 53.609375 8.296875 \r\nL 53.609375 0 \r\nL 7.328125 0 \r\nL 7.328125 8.296875 \r\nQ 12.9375 14.109375 22.625 23.890625 \r\nQ 32.328125 33.6875 34.8125 36.53125 \r\nQ 39.546875 41.84375 41.421875 45.53125 \r\nQ 43.3125 49.21875 43.3125 52.78125 \r\nQ 43.3125 58.59375 39.234375 62.25 \r\nQ 35.15625 65.921875 28.609375 65.921875 \r\nQ 23.96875 65.921875 18.8125 64.3125 \r\nQ 13.671875 62.703125 7.8125 59.421875 \r\nL 7.8125 69.390625 \r\nQ 13.765625 71.78125 18.9375 73 \r\nQ 24.125 74.21875 28.421875 74.21875 \r\nQ 39.75 74.21875 46.484375 68.546875 \r\nQ 53.21875 62.890625 53.21875 53.421875 \r\nQ 53.21875 48.921875 51.53125 44.890625 \r\nQ 49.859375 40.875 45.40625 35.40625 \r\nQ 44.1875 33.984375 37.640625 27.21875 \r\nQ 31.109375 20.453125 19.1875 8.296875 \r\nz\r\n\" id=\"DejaVuSans-50\"/>\r\n       <path id=\"DejaVuSans-32\"/>\r\n       <path d=\"M 31 75.875 \r\nQ 24.46875 64.65625 21.28125 53.65625 \r\nQ 18.109375 42.671875 18.109375 31.390625 \r\nQ 18.109375 20.125 21.3125 9.0625 \r\nQ 24.515625 -2 31 -13.1875 \r\nL 23.1875 -13.1875 \r\nQ 15.875 -1.703125 12.234375 9.375 \r\nQ 8.59375 20.453125 8.59375 31.390625 \r\nQ 8.59375 42.28125 12.203125 53.3125 \r\nQ 15.828125 64.359375 23.1875 75.875 \r\nz\r\n\" id=\"DejaVuSans-40\"/>\r\n       <path d=\"M 8.015625 75.875 \r\nL 15.828125 75.875 \r\nQ 23.140625 64.359375 26.78125 53.3125 \r\nQ 30.421875 42.28125 30.421875 31.390625 \r\nQ 30.421875 20.453125 26.78125 9.375 \r\nQ 23.140625 -1.703125 15.828125 -13.1875 \r\nL 8.015625 -13.1875 \r\nQ 14.5 -2 17.703125 9.0625 \r\nQ 20.90625 20.125 20.90625 31.390625 \r\nQ 20.90625 42.671875 17.703125 53.65625 \r\nQ 14.5 64.65625 8.015625 75.875 \r\nz\r\n\" id=\"DejaVuSans-41\"/>\r\n      </defs>\r\n      <use xlink:href=\"#DejaVuSans-50\"/>\r\n      <use x=\"63.623047\" xlink:href=\"#DejaVuSans-32\"/>\r\n      <use x=\"95.410156\" xlink:href=\"#DejaVuSans-40\"/>\r\n      <use x=\"134.423828\" xlink:href=\"#DejaVuSans-50\"/>\r\n      <use x=\"198.046875\" xlink:href=\"#DejaVuSans-41\"/>\r\n     </g>\r\n    </g>\r\n   </g>\r\n   <g id=\"matplotlib.axis_2\"/>\r\n   <g id=\"patch_3\">\r\n    <path d=\"M 10.7 140.629091 \r\nL 10.7 7.2 \r\n\" style=\"fill:none;stroke:#000000;stroke-linecap:square;stroke-linejoin:miter;stroke-width:0.8;\"/>\r\n   </g>\r\n   <g id=\"patch_4\">\r\n    <path d=\"M 144.129091 140.629091 \r\nL 144.129091 7.2 \r\n\" style=\"fill:none;stroke:#000000;stroke-linecap:square;stroke-linejoin:miter;stroke-width:0.8;\"/>\r\n   </g>\r\n   <g id=\"patch_5\">\r\n    <path d=\"M 10.7 140.629091 \r\nL 144.129091 140.629091 \r\n\" style=\"fill:none;stroke:#000000;stroke-linecap:square;stroke-linejoin:miter;stroke-width:0.8;\"/>\r\n   </g>\r\n   <g id=\"patch_6\">\r\n    <path d=\"M 10.7 7.2 \r\nL 144.129091 7.2 \r\n\" style=\"fill:none;stroke:#000000;stroke-linecap:square;stroke-linejoin:miter;stroke-width:0.8;\"/>\r\n   </g>\r\n  </g>\r\n  <g id=\"axes_2\">\r\n   <g id=\"patch_7\">\r\n    <path d=\"M 193.318182 140.629091 \r\nL 326.747273 140.629091 \r\nL 326.747273 7.2 \r\nL 193.318182 7.2 \r\nz\r\n\" style=\"fill:#ffffff;\"/>\r\n   </g>\r\n   <g clip-path=\"url(#p351af4276e)\">\r\n    <image height=\"134\" id=\"image2ec2137b96\" transform=\"scale(1 -1)translate(0 -134)\" width=\"134\" x=\"193.318182\" xlink:href=\"data:image/png;base64,\r\niVBORw0KGgoAAAANSUhEUgAAAIYAAACGCAYAAAAYefKRAAAFK0lEQVR4nO3dMUhbXRjG8WvR2kHBdnGpRFCpg4M4dLB1EJ0UdHBRURwChQyK1qFDcREFh9IuRaGzuggRSxHRKU4qgoggbWmLYkSoQ6guSlv9pm+4930+jMerST7+v+28HE8O4fHwkpt7k+d53qUHBNzL9AaQnQgGJIIBiWBAIhiQCAYkggGJYEAiGJAIBiSCAYlgQCIYkAgGJIIBiWBAIhiQCAak/Exv4KZ6enpMrayszDceGxsL9TXv3fP/P339+tXMeffunaltbW2Z2vr6engbCxEnBiSCAYlgQCIYkPK8LL2vJD/f9sUjIyOm9urVK1MrKCi4lT39Ky8vzze+vEzvLTw+Pja1lZUV33hgYMDMSaVS19hdODgxIBEMSAQDEsGAlBXNp2o0h4aGTG1iYuJW93F2dmZqDx48MLXgJ58XFxeh7SEej5taNBo1tdPTU1NLtwlOBycGJIIBiWBAIhiQsqL5HB0dNbXXr1+Htn4ikTC1tbU1U/v48aOptbW1mVrwk8/Hjx+bOd3d3dfZ4rU9fPjQ1E5OTkJbnxMDEsGARDAgZUWPsb29bWo1NTVp/e3Pnz9NLXjFsr+/38z59etXmru7mvoQLBKJmNr8/LypPXnyxOk1k8mkqXV0dJja5uam0/qcGJAIBiSCAYlgQMpI81lUVOQbb2xsmDnpNmXT09Om1tfX57axW1ZZWWlqnz598o2rqqqc15+dnTW13t5ep7U4MSARDEgEAxLBgJSR5jMWi/nG79+/d16rvLzc1A4ODpzXu2vBhlRd4U23Ed/Z2TG12tpap31xYkAiGJAIBiSCASnnn6iT6759++Ybf//+3cxJt/ksKSkxtWBzG3y9/8KJAYlgQCIYkHK+x5ibmzO1o6Mj3/jFixdmjnqISTZ4+/atqbW0tKT1t8GnFXqe5zU3N/vG9Bi4EYIBiWBAIhiQMtJ8dnV1+cbBe0Gv4+nTp1fOUY9lvu2HsLj68eOHqan3R9XUg1Nc31tODEgEAxLBgEQwIGWk+Xz+/LlvHObT5pTbXj9M6muOav+qpr7aNzU15bQPTgxIBAMSwYBEMCDl/GV35fz83Dc+PDzM0E6u9ujRI99YfT0vEzgxIBEMSAQDEsGAlJHmM9gc3r9/P9T19/f3fWP11J1MKCwsNLWmpibfuL6+3nl99XsrrjgxIBEMSAQDUkZ6jJcvX/rGN3lwirK0tBTqemFRv/M2Pj7utNbu7q6pdXZ2Oq2lcGJAIhiQCAYkggEpI0/ta21t9Y1nZmbMnOLiYuf1gzcsP3v2zMxRDyhxFbxC6nme19jYaGofPnwwNderqRUVFaa2t7fntJbCiQGJYEAiGJAIBqSc/7G8dHz+/NnU2tvbTS141dfz7A3Ynud5DQ0NvrFqIF2vkv79+9fU1L0hw8PDpvbnzx+n11Q4MSARDEgEAxLBgPS/vK8kqLq62tS+fPnivF7wKTVh3jQ9OTlpaoODg6Gtny5ODEgEAxLBgEQwIGXFJ5/qB93i8bipRSKRO9jN1VybT/U9zeCvK79588bM+f379zV2Fw5ODEgEAxLBgJQVPYai+o7FxUVTKy0tvYPd+KVSKd94dXXVzFG/O5JMJk0tzK/jhYkTAxLBgEQwIBEMSFnbfCp1dXWmFo1GTS0Wi/nGCwsLZs7y8rLzPoIfVCUSCee1shUnBiSCAYlgQCIYkHKq+cTd4cSARDAgEQxIBAMSwYBEMCARDEgEAxLBgEQwIBEMSAQDEsGARDAgEQxIBAMSwYBEMCD9A+fIIWzj3090AAAAAElFTkSuQmCC\" y=\"-6.629091\"/>\r\n   </g>\r\n   <g id=\"matplotlib.axis_3\">\r\n    <g id=\"text_2\">\r\n     <!-- 0 (0) -->\r\n     <g transform=\"translate(248.179602 152.227528)scale(0.1 -0.1)\">\r\n      <defs>\r\n       <path d=\"M 31.78125 66.40625 \r\nQ 24.171875 66.40625 20.328125 58.90625 \r\nQ 16.5 51.421875 16.5 36.375 \r\nQ 16.5 21.390625 20.328125 13.890625 \r\nQ 24.171875 6.390625 31.78125 6.390625 \r\nQ 39.453125 6.390625 43.28125 13.890625 \r\nQ 47.125 21.390625 47.125 36.375 \r\nQ 47.125 51.421875 43.28125 58.90625 \r\nQ 39.453125 66.40625 31.78125 66.40625 \r\nz\r\nM 31.78125 74.21875 \r\nQ 44.046875 74.21875 50.515625 64.515625 \r\nQ 56.984375 54.828125 56.984375 36.375 \r\nQ 56.984375 17.96875 50.515625 8.265625 \r\nQ 44.046875 -1.421875 31.78125 -1.421875 \r\nQ 19.53125 -1.421875 13.0625 8.265625 \r\nQ 6.59375 17.96875 6.59375 36.375 \r\nQ 6.59375 54.828125 13.0625 64.515625 \r\nQ 19.53125 74.21875 31.78125 74.21875 \r\nz\r\n\" id=\"DejaVuSans-48\"/>\r\n      </defs>\r\n      <use xlink:href=\"#DejaVuSans-48\"/>\r\n      <use x=\"63.623047\" xlink:href=\"#DejaVuSans-32\"/>\r\n      <use x=\"95.410156\" xlink:href=\"#DejaVuSans-40\"/>\r\n      <use x=\"134.423828\" xlink:href=\"#DejaVuSans-48\"/>\r\n      <use x=\"198.046875\" xlink:href=\"#DejaVuSans-41\"/>\r\n     </g>\r\n    </g>\r\n   </g>\r\n   <g id=\"matplotlib.axis_4\"/>\r\n   <g id=\"patch_8\">\r\n    <path d=\"M 193.318182 140.629091 \r\nL 193.318182 7.2 \r\n\" style=\"fill:none;stroke:#000000;stroke-linecap:square;stroke-linejoin:miter;stroke-width:0.8;\"/>\r\n   </g>\r\n   <g id=\"patch_9\">\r\n    <path d=\"M 326.747273 140.629091 \r\nL 326.747273 7.2 \r\n\" style=\"fill:none;stroke:#000000;stroke-linecap:square;stroke-linejoin:miter;stroke-width:0.8;\"/>\r\n   </g>\r\n   <g id=\"patch_10\">\r\n    <path d=\"M 193.318182 140.629091 \r\nL 326.747273 140.629091 \r\n\" style=\"fill:none;stroke:#000000;stroke-linecap:square;stroke-linejoin:miter;stroke-width:0.8;\"/>\r\n   </g>\r\n   <g id=\"patch_11\">\r\n    <path d=\"M 193.318182 7.2 \r\nL 326.747273 7.2 \r\n\" style=\"fill:none;stroke:#000000;stroke-linecap:square;stroke-linejoin:miter;stroke-width:0.8;\"/>\r\n   </g>\r\n  </g>\r\n  <g id=\"axes_3\">\r\n   <g id=\"patch_12\">\r\n    <path d=\"M 375.936364 140.629091 \r\nL 509.365455 140.629091 \r\nL 509.365455 7.2 \r\nL 375.936364 7.2 \r\nz\r\n\" style=\"fill:#ffffff;\"/>\r\n   </g>\r\n   <g clip-path=\"url(#p5fb4119047)\">\r\n    <image height=\"134\" id=\"imagec407434ab1\" transform=\"scale(1 -1)translate(0 -134)\" width=\"134\" x=\"375.936364\" xlink:href=\"data:image/png;base64,\r\niVBORw0KGgoAAAANSUhEUgAAAIYAAACGCAYAAAAYefKRAAAEAElEQVR4nO3dvyvtcRzH8eNHJnWQwcagGCQWgzKRjBZKWSwnf4BJMR2dQSZFKLPZLpEUZTAYiHBSbEeRIrp3u/X5vl/3nuPr8znf763nY/u8+zr30+3Zp2/nZ00mk/mVASJqk94A0okwIBEGJMKARBiQCAMSYUAiDEiEAak+6Q2kXW9vr5ltbW0566WlJXPN/v6+mb28vPjbWGCcGJAIAxJhQKrJ8OrqP62vr5vZ7Oxs2b/r6ekxs4uLCy97qgZODEiEAYkwIBEGJMKARBiQCAMSYUAiDEi8uhrIzMyMmc3NzSWwk3g4MSARBiTCgEQYkLj5LOPx8dHMPj8/nXV9vf1vHB8fNzNuPvHfIwxIhAGJMCDxns8YojekbW1t5pqbmxsz6+zsDLYn3zgxIBEGJMKARBiQCAMSYUAiDEiEAYlXVwPJZrNmNjg4aGbHx8fV2M63cWJAIgxIhAGJMCCl4uazttb22dDQYGYrKytmdnV1ZWYbGxvOemhoyFzzk7fZtbS0lL2mtbXVzCYnJ83s7OzMWb+/v8fel0+cGJAIAxJhQCIMSIm8ta+vr89Zj4yMmGuWl5ertJtkvb6+Ouvh4WFzzenpabW28wcnBiTCgEQYkII/wdXd3W1mOzs7zrqrqyv0NlKrsbHRWauvo+YeA6lBGJAIAxJhQPL6BJf6jY7Dw0Mza25uLvtYt7e3ZnZ9fR1vY55F37Y3MDAQ+7Giv502NjZmrvn4+Ij9+HFxYkAiDEiEAYkwIHl95lO9Xa6SG031zXhTU1NmdnJyEm9jnkVvNn+yr8XFRWedxI2mwokBiTAgEQYkwoDk9ebz/v7ezL6+vsysrq7OWb+9vZlrHh4e/G0M38aJAYkwIBEGJMKAFPxzJc/Pz2amvm0mKp/Pm9nCwoKPLf2Yz2c+ox+4Pjo6iv1YPnFiQCIMSIQBKfjnSp6ensysknuMNIt+uYm6j2pqaqrosVZXV511f39/3G15xYkBiTAgEQYkwoAU/OYzl8uZ2cHBQeh/Nqjz83Nnvba2Zq6Zn5+v6LHa29u97Mk3TgxIhAGJMCARBqTgr66qZwA3Nzed9cTEhLmmWCya2ejoqJldXl7G35wnHR0dZhb9sPLfriuVSs66kq+jrgZODEiEAYkwIBEGpODPfKqXpCv5zIj6u7T8lkfU3d2dmanPyih7e3ued+MHJwYkwoBEGJAIA1IiP5a3vb3trKenp801u7u7ZqZu8tKqUCiYmXqGV313eBpwYkAiDEiEASmR30RD+nFiQCIMSIQBiTAgEQYkwoBEGJAIAxJhQCIMSIQBiTAgEQYkwoBEGJAIAxJhQCIMSIQBiTAgEQYkwoBEGJAIAxJhQCIMSIQBiTAg/QbRa8GDCrigyQAAAABJRU5ErkJggg==\" y=\"-6.629091\"/>\r\n   </g>\r\n   <g id=\"matplotlib.axis_5\">\r\n    <g id=\"text_3\">\r\n     <!-- 4 (4) -->\r\n     <g transform=\"translate(430.797784 152.227528)scale(0.1 -0.1)\">\r\n      <defs>\r\n       <path d=\"M 37.796875 64.3125 \r\nL 12.890625 25.390625 \r\nL 37.796875 25.390625 \r\nz\r\nM 35.203125 72.90625 \r\nL 47.609375 72.90625 \r\nL 47.609375 25.390625 \r\nL 58.015625 25.390625 \r\nL 58.015625 17.1875 \r\nL 47.609375 17.1875 \r\nL 47.609375 0 \r\nL 37.796875 0 \r\nL 37.796875 17.1875 \r\nL 4.890625 17.1875 \r\nL 4.890625 26.703125 \r\nz\r\n\" id=\"DejaVuSans-52\"/>\r\n      </defs>\r\n      <use xlink:href=\"#DejaVuSans-52\"/>\r\n      <use x=\"63.623047\" xlink:href=\"#DejaVuSans-32\"/>\r\n      <use x=\"95.410156\" xlink:href=\"#DejaVuSans-40\"/>\r\n      <use x=\"134.423828\" xlink:href=\"#DejaVuSans-52\"/>\r\n      <use x=\"198.046875\" xlink:href=\"#DejaVuSans-41\"/>\r\n     </g>\r\n    </g>\r\n   </g>\r\n   <g id=\"matplotlib.axis_6\"/>\r\n   <g id=\"patch_13\">\r\n    <path d=\"M 375.936364 140.629091 \r\nL 375.936364 7.2 \r\n\" style=\"fill:none;stroke:#000000;stroke-linecap:square;stroke-linejoin:miter;stroke-width:0.8;\"/>\r\n   </g>\r\n   <g id=\"patch_14\">\r\n    <path d=\"M 509.365455 140.629091 \r\nL 509.365455 7.2 \r\n\" style=\"fill:none;stroke:#000000;stroke-linecap:square;stroke-linejoin:miter;stroke-width:0.8;\"/>\r\n   </g>\r\n   <g id=\"patch_15\">\r\n    <path d=\"M 375.936364 140.629091 \r\nL 509.365455 140.629091 \r\n\" style=\"fill:none;stroke:#000000;stroke-linecap:square;stroke-linejoin:miter;stroke-width:0.8;\"/>\r\n   </g>\r\n   <g id=\"patch_16\">\r\n    <path d=\"M 375.936364 7.2 \r\nL 509.365455 7.2 \r\n\" style=\"fill:none;stroke:#000000;stroke-linecap:square;stroke-linejoin:miter;stroke-width:0.8;\"/>\r\n   </g>\r\n  </g>\r\n </g>\r\n <defs>\r\n  <clipPath id=\"pe534e02c70\">\r\n   <rect height=\"133.429091\" width=\"133.429091\" x=\"10.7\" y=\"7.2\"/>\r\n  </clipPath>\r\n  <clipPath id=\"p351af4276e\">\r\n   <rect height=\"133.429091\" width=\"133.429091\" x=\"193.318182\" y=\"7.2\"/>\r\n  </clipPath>\r\n  <clipPath id=\"p5fb4119047\">\r\n   <rect height=\"133.429091\" width=\"133.429091\" x=\"375.936364\" y=\"7.2\"/>\r\n  </clipPath>\r\n </defs>\r\n</svg>\r\n",
      "image/png": "[encoded data removed]"
     },
     "metadata": {}
    }
   ],
   "source": [
    "DATASET = 'mnist'\n",
    "image_width = 28\n",
    "image_height = 28\n",
    "\n",
    "examples, metadata = tfds.load(DATASET, with_info=True, as_supervised=True)\n",
    "\n",
    "train_examples = examples['train']\n",
    "val_examples = examples['test']\n",
    "\n",
    "fig = tfds.show_examples(train_examples.take(3), metadata)\n",
    "fig = tfds.show_examples(val_examples.take(3), metadata)"
   ]
  },
  {
   "source": [
    "### Compute centroids\n",
    "Perform K-Means clustering to find `k` cluster centers of the given images/pixels. \n",
    "\n",
    "First map pixel values to a range `[0, 1]`."
   ],
   "cell_type": "markdown",
   "metadata": {}
  },
  {
   "cell_type": "code",
   "execution_count": 3,
   "metadata": {
    "tags": []
   },
   "outputs": [
    {
     "output_type": "display_data",
     "data": {
      "text/plain": "HBox(children=(HTML(value=''), FloatProgress(value=1.0, bar_style='info', layout=Layout(width='20px'), max=1.0…",
      "application/vnd.jupyter.widget-view+json": {
       "version_major": 2,
       "version_minor": 0,
       "model_id": "036c5272489641cf91a6695be917b695"
      }
     },
     "metadata": {}
    },
    {
     "output_type": "stream",
     "name": "stdout",
     "text": [
      "\n(8, 1)\n"
     ]
    }
   ],
   "source": [
    "NUM_CLUSTERS = 8\n",
    "\n",
    "def normalize_image(image, label):\n",
    "    return tf.cast(image, dtype=tf.float16) / 255.0, label\n",
    "\n",
    "def find_centroids(ds_train, num_clusters=16, batch_size=1024):\n",
    "    kmeans = MiniBatchKMeans(n_clusters=num_clusters, random_state=0, batch_size=batch_size, verbose=True)\n",
    "    ds_batched = ds_train.batch(batch_size)\n",
    "    for img, _ in tqdm(iter(ds_batched)):\n",
    "        pixels = img.numpy().reshape(-1, img.shape[-1])\n",
    "        kmeans.partial_fit(pixels)\n",
    "\n",
    "    return kmeans.cluster_centers_\n",
    "\n",
    "centroids = find_centroids(train_examples.map(normalize_image), NUM_CLUSTERS, NUM_CLUSTERS*4)\n",
    "centroids = tf.convert_to_tensor(centroids, dtype=tf.float16)\n",
    "print(centroids.shape)"
   ]
  },
  {
   "cell_type": "markdown",
   "metadata": {
    "id": "RCEKotqosGfq"
   },
   "source": [
    "### Quantize images\n",
    "\n",
    "Quantize all samples to create a training dataset.\n",
    "\n",
    "- First, flatten each input batch.\n",
    "- Next, compute the euclidean distance to the centroid for each pixel.\n",
    "- Last, take the index with the smallest distance as the resulting label.\n",
    "\n",
    "The size of the tensor shape is given in brackets."
   ]
  },
  {
   "cell_type": "code",
   "execution_count": 4,
   "metadata": {},
   "outputs": [],
   "source": [
    "def squared_euclidean_distance(a, b):\n",
    "    b = tf.transpose(b)        \n",
    "    a2 = tf.math.reduce_sum(tf.math.square(a), axis=1, keepdims=True)\n",
    "    b2 = tf.math.reduce_sum(tf.math.square(b), axis=0, keepdims=True)\n",
    "    ab = tf.linalg.matmul(a, b)\n",
    "    return a2 - 2 * ab + b2\n",
    "\n",
    "def quantize(image, label):\n",
    "    shape = tf.shape(image) # (height, width, color)\n",
    "    x = tf.reshape(image, (-1, shape[2])) # (height * width, color)\n",
    "    d = squared_euclidean_distance(x, centroids) # (height * width, centroids)\n",
    "    sequence = tf.math.argmin(d, axis=1)  # (height * width)\n",
    "    return sequence, label"
   ]
  },
  {
   "cell_type": "code",
   "execution_count": 5,
   "metadata": {},
   "outputs": [],
   "source": [
    "AUTOTUNE = tf.data.experimental.AUTOTUNE\n",
    "BUFFER_SIZE = 1000\n",
    "BATCH_SIZE = 16\n",
    "\n",
    "train_dataset = (\n",
    "    train_examples\n",
    "    .map(normalize_image)\n",
    "    .map(quantize)\n",
    "    .cache()\n",
    "    .shuffle(BUFFER_SIZE)\n",
    "    .padded_batch(BATCH_SIZE)\n",
    "    .prefetch(AUTOTUNE)\n",
    ")\n",
    "val_dataset = (\n",
    "    val_examples\n",
    "    .map(normalize_image)\n",
    "    .map(quantize)\n",
    "    .cache()\n",
    "    .padded_batch(BATCH_SIZE)\n",
    "    .prefetch(AUTOTUNE)\n",
    ")"
   ]
  },
  {
   "source": [
    "Inspect a random data sequence sample."
   ],
   "cell_type": "markdown",
   "metadata": {}
  },
  {
   "cell_type": "code",
   "execution_count": 6,
   "metadata": {},
   "outputs": [
    {
     "output_type": "stream",
     "name": "stdout",
     "text": [
      "tf.Tensor(\n[[0 0 0 0 0 0 0 0 0 0 0 0 0 0 0 0 0 0 0 0 0 0 0 0 0 0 0 0 0 0 0 0 0 0 0 0\n  0 0 0 0 0 0 0 0 0 0 0 0 0 0 0 0 0 0 0 0 0 0 0 0 0 0 0 0 0 0 0 0 0 0 0 0\n  0 0 0 0 0 0 0 0 0 0 0 0 0 0 0 0 0 0 0 0 0 0 0 0 0 0 0 0 0 0 0 0 0 0 0 0\n  0 0 0 0 0 0 0 0 0 0 0 0 0 0 0 0 0 0 0 0 0 0 0 0 0 0 0 0 0 0 0 0 0 0 0 0\n  0 0 0 0 0 0 0 0 0 0 0 0 0 0 0 0 0 0 0 0 0 0 0 0 0 0 0 0 0 0 0 0 0 0 0 0\n  0 0 0 0 0 0 0 0 0 0 0 0 0 0 0 0 0 0 0 0 0 0 4 1 1 7 0 0 0 0 0 0 0 0 0 2\n  1 3 0 0 0 0 0 0 0 0 0 0 0 0 4 1 1 7 0 0 0 0 0 0 0 0 0 7 1 1 0 0 0 0 0 0\n  0 0 0 0 0 0 3 1 1 3 0 0 0 0 0 0 0 0 5 1 1 2 0 0 0 0 0 0 0 0 0 0 0 5 1 1\n  7 4 0 0 0 0 0 0 0 0 5 1 1 2 0 0 0 0 0 0 0 0 0 0 0 7 1 1 5 0 0 0 0 0 0 0\n  0 0 5 1 1 4 0 0 0 0 0 0 0 0 0 0 2 1 1 3 4 0 0 0 0 0 0 0 0 0 3 1 1 4 0 0\n  0 0 0 0 0 0 0 0 1 1 1 2 4 4 4 4 0 0 0 0 0 0 7 1 3 0 0 4 0 0 0 0 0 0 0 0\n  1 1 1 1 1 1 7 3 3 3 6 5 3 2 1 1 7 3 3 7 0 0 0 0 0 0 0 0 7 1 1 1 1 1 1 1\n  1 1 1 1 1 1 1 1 1 1 1 1 0 0 0 0 0 0 0 0 4 2 4 5 3 3 6 5 3 3 3 3 3 1 1 1\n  1 1 1 3 0 0 0 0 0 0 0 0 0 0 0 0 0 0 0 0 0 0 0 0 4 7 1 7 5 4 4 0 0 0 0 0\n  0 0 0 0 0 0 0 0 0 0 0 0 0 0 0 4 3 1 1 6 0 0 0 0 0 0 0 0 0 0 0 0 0 0 0 0\n  0 0 0 0 0 0 0 5 1 1 1 4 0 0 0 0 0 0 0 0 0 0 0 0 0 0 0 0 0 0 0 0 0 0 0 5\n  1 1 3 0 0 0 0 0 0 0 0 0 0 0 0 0 0 0 0 0 0 0 0 0 0 0 0 2 1 1 7 4 0 0 0 0\n  0 0 0 0 0 0 0 0 0 0 0 0 0 0 0 0 0 0 0 4 6 7 4 0 0 0 0 0 0 0 0 0 0 0 0 0\n  0 0 0 0 0 0 0 0 0 0 0 0 0 0 0 0 0 0 0 0 0 0 0 0 0 0 0 0 0 0 0 0 0 0 0 0\n  0 0 0 0 0 0 0 0 0 0 0 0 0 0 0 0 0 0 0 0 0 0 0 0 0 0 0 0 0 0 0 0 0 0 0 0\n  0 0 0 0 0 0 0 0 0 0 0 0 0 0 0 0 0 0 0 0 0 0 0 0 0 0 0 0 0 0 0 0 0 0 0 0\n  0 0 0 0 0 0 0 0 0 0 0 0 0 0 0 0 0 0 0 0 0 0 0 0 0 0 0 0]], shape=(1, 784), dtype=int64)\n"
     ]
    }
   ],
   "source": [
    "NUM_SAMPLES = 1\n",
    "\n",
    "image_batch, _ = next(iter(train_dataset))\n",
    "print(image_batch[:NUM_SAMPLES])"
   ]
  },
  {
   "source": [
    "And now show some quantitized and unquantized images. \n",
    "\n",
    "First, define a function to revert the quantization."
   ],
   "cell_type": "markdown",
   "metadata": {}
  },
  {
   "cell_type": "code",
   "execution_count": 7,
   "metadata": {},
   "outputs": [],
   "source": [
    "def unquantize(x):\n",
    "    x_one_hot = tf.cast(tf.one_hot(x, depth=len(centroids)), dtype=tf.float16)  # (seq, num_centroids)\n",
    "    return tf.linalg.matmul(x_one_hot,centroids)  # (seq, num_features)\n",
    "\n",
    "def np_showSeq(seq, size, max_images=3, cmap=None):\n",
    "    \"\"\" Show one or more images encoded as sequence. (numpy version)\n",
    "\n",
    "        seq: numpy array of sequences which encode the image. Either a single sequence or multiple sequences.\n",
    "        size: the image size. e.g. (28, 28) for `mnist` images.\n",
    "        max_images: the maximum number of images to display.\n",
    "    \"\"\" \n",
    "    batch = seq.shape[0]\n",
    "    num_show_img = min(max_images, seq.shape[0])\n",
    "    img = np.reshape(seq, (batch, *size, -1))\n",
    "    if img.shape[-1] == 1:\n",
    "      img = np.squeeze(img, axis=-1)    \n",
    "    \n",
    "    fig=plt.figure(figsize=(3*num_show_img, 3))\n",
    "    for i in range(num_show_img):\n",
    "        ax = fig.add_subplot(1, num_show_img, i+1)\n",
    "        ax.set_axis_off()\n",
    "        plt.imshow(img[i], cmap=cmap)\n",
    "    plt.show()\n",
    "\n",
    "def showSeq(seq, size, max_images=3, cmap=None):\n",
    "    \"\"\" Show one or more images encoded as sequence. (tensorflow version)\n",
    "\n",
    "        seq: tensor of sequences which encode the image. Either a single sequence or multiple sequences.\n",
    "        size: the image size. e.g. (28, 28) for `mnist` images.\n",
    "        max_images: the maximum number of images to display.\n",
    "    \"\"\"\n",
    "    if cmap:\n",
    "        seq = tf.map_fn(fn=unquantize, elems=seq, fn_output_signature=tf.float16)\n",
    "    seq = tf.cast(seq, float).numpy()\n",
    "\n",
    "    np_showSeq(seq, size, max_images, cmap)"
   ]
  },
  {
   "cell_type": "code",
   "execution_count": 34,
   "metadata": {
    "execution": {
     "iopub.execute_input": "2020-11-02T02:26:24.700665Z",
     "iopub.status.busy": "2020-11-02T02:26:24.700009Z",
     "iopub.status.idle": "2020-11-02T02:26:24.702248Z",
     "shell.execute_reply": "2020-11-02T02:26:24.702679Z"
    },
    "id": "4DYWukNFkGQN",
    "tags": []
   },
   "outputs": [
    {
     "output_type": "stream",
     "name": "stdout",
     "text": [
      "quantized:\n"
     ]
    },
    {
     "output_type": "display_data",
     "data": {
      "text/plain": "<Figure size 2160x216 with 10 Axes>",
      "image/svg+xml": "<?xml version=\"1.0\" encoding=\"utf-8\" standalone=\"no\"?>\r\n<!DOCTYPE svg PUBLIC \"-//W3C//DTD SVG 1.1//EN\"\r\n  \"http://www.w3.org/Graphics/SVG/1.1/DTD/svg11.dtd\">\r\n<!-- Created with matplotlib (https://matplotlib.org/) -->\r\n<svg height=\"156.264407pt\" version=\"1.1\" viewBox=\"0 0 1688.4 156.264407\" width=\"1688.4pt\" xmlns=\"http://www.w3.org/2000/svg\" xmlns:xlink=\"http://www.w3.org/1999/xlink\">\r\n <metadata>\r\n  <rdf:RDF xmlns:cc=\"http://creativecommons.org/ns#\" xmlns:dc=\"http://purl.org/dc/elements/1.1/\" xmlns:rdf=\"http://www.w3.org/1999/02/22-rdf-syntax-ns#\">\r\n   <cc:Work>\r\n    <dc:type rdf:resource=\"http://purl.org/dc/dcmitype/StillImage\"/>\r\n    <dc:date>2020-12-15T14:26:30.625538</dc:date>\r\n    <dc:format>image/svg+xml</dc:format>\r\n    <dc:creator>\r\n     <cc:Agent>\r\n      <dc:title>Matplotlib v3.3.3, https://matplotlib.org/</dc:title>\r\n     </cc:Agent>\r\n    </dc:creator>\r\n   </cc:Work>\r\n  </rdf:RDF>\r\n </metadata>\r\n <defs>\r\n  <style type=\"text/css\">*{stroke-linecap:butt;stroke-linejoin:round;}</style>\r\n </defs>\r\n <g id=\"figure_1\">\r\n  <g id=\"patch_1\">\r\n   <path d=\"M 0 156.264407 \r\nL 1688.4 156.264407 \r\nL 1688.4 0 \r\nL 0 0 \r\nz\r\n\" style=\"fill:none;\"/>\r\n  </g>\r\n  <g id=\"axes_1\">\r\n   <g clip-path=\"url(#pf5bc4a688d)\">\r\n    <image height=\"142\" id=\"image0ea725ee07\" transform=\"scale(1 -1)translate(0 -142)\" width=\"142\" x=\"7.2\" xlink:href=\"data:image/png;base64,\r\niVBORw0KGgoAAAANSUhEUgAAAI4AAACOCAYAAADn/TAIAAAD8ElEQVR4nO3dTUhUURiH8Zksys1g1KIimT6QYrYRZKsWMWAkbiRKIYIgspWLtoXU1oWrjCCIIItoJxQIQasUImg1SIEoSSUUDW4ypI9Nu/eVbv9759x7pue3fEnnLh4Ox9uZe8sny4O/SsA/2pT3BSBOhAMJ4UBCOJAQDiSEAwnhQEI4kBAOJIQDCeFAQjiQEA4khAMJ4UBCOJAQDiSEAwnhQLI57wtIYsuL3Wb2Y3R7op8992jGzCZvDKa+pr9Zqa+bWc+F1y3/3FBYcSAhHEgIBxLCgaRcpC/kvbt3xJ0v1O+aWd+poVZfTirPnk6ZWe/Vy2a249JSot/XWNzjzvPacLPiQEI4kBAOJIQDSaE2x8Pzy+784dl64CuJh3dnfGxuwMyy3kSz4kBCOJAQDiSEAwnhQFKov6reXzvuzqvTzbAX0oY6Jr6a2fqJj/LvY8WBhHAgIRxICAeS3A6rewfQq6PN8Bfyx1J/l5k1Rm6ZWW3yipnFsHlfeL7fzLpLbI4RGOFAQjiQEA4kuW2Ov9ypmllXaTXzz/EOjZ9+22dma4udif5d982XZtbhbPSTOrPrlZl53zSdHb/t/nxeh/ZZcSAhHEgIBxLCgSS3YxXetza9b2yWStlvAJu1iplVpuYy/YxQVoeOmZn37dA0Ryg8rDiQEA4khAMJ4UBSqDPHeT7mxDtWsXbwu5m103P80mDFgYRwICEcSAgHkkJtjjfibZoPTXxr+eeyYd4YKw4khAMJ4UBCOJBEsTn2eMcJvHO5Ic7k/nzTaPlnFA0rDiSEAwnhQEI4kES7OfYkPcfMkYz0WHEgIRxICAcSwoGkrTbHnrzuMHtvdXlweG+mn5EnVhxICAcSwoGEcCDJ7VFuoXhPoegt2fd/Z/0YufOVz3Y4b0exbphZcSAhHEgIBxLCgSTaO8feHWHPSn3dzGr7PpiZ97zhEO87z/rNdaGw4kBCOJAQDiSEA0m0d467Gsnu9M6O25eA3F/daWaPPx01M+8FIlkfv/BehlJJ8ea6UFhxICEcSAgHEsKBJIo7x95d4qSb46LzNuAHZi6aWdG+zMeKAwnhQEI4kBAOJFFsjofnl80sxJGHvMRw1IIVBxLCgYRwICEcSAgHkijO44zNDZjZtv6tZladbga4mmy5zw9c7DSznoKd0WHFgYRwICEcSAgHkij+y8HjPQy7SN/QTKpZq5iZ92iWomHFgYRwICEcSAgHkmg3x2l4h99Hrj8xs6w30e300GxWHEgIBxLCgYRwIPkvN8dIjxUHEsKBhHAgIRxICAcSwoGEcCAhHEgIBxLCgYRwICEcSAgHEsKBhHAgIRxICAcSwoGEcCD5DVIR0uPJVGOFAAAAAElFTkSuQmCC\" y=\"-7.064407\"/>\r\n   </g>\r\n  </g>\r\n  <g id=\"axes_2\">\r\n   <g clip-path=\"url(#p22480fe6ec)\">\r\n    <image height=\"142\" id=\"image8d580bda1d\" transform=\"scale(1 -1)translate(0 -142)\" width=\"142\" x=\"177.437288\" xlink:href=\"data:image/png;base64,\r\niVBORw0KGgoAAAANSUhEUgAAAI4AAACOCAYAAADn/TAIAAAEhElEQVR4nO3dO2gVQRTG8RMfqE0SSMAHhvjAB6kEEYxVChEUg42IiSCCIGplYWGjBNOmSKViFQSNiI0oBgOClQoipAqKKIjiAwzGNCoBtdBCcs6FyTfX3U38/8rD3jvL8mWYO5mZbdjZsP+nAbO0oOwbwNxEcCAhOJAQHEgIDiQEBxKCAwnBgYTgQEJwICE4kBAcSAgOJAQHEoIDCcGBhOBAQnAgITiQLCqr4cUPVrraxOX28NoT52662uHGT652Zao1/8b+0vd4X9J1G448rWu7cwE9DiQEBxKCAwnBgaShiA15L4a2utqmwa9Z3zly91rW52favadX/mzP9VFXu3h+v6s1Xnsst1E19DiQEBxICA4kBAeSQgbHU73bXa15fCr586+7m13t2/rvrpYzgxvNZEde3V/rau23J5M+O9nR6GrRrPiND9tcbbrrfVIbRaHHgYTgQEJwICE4kBAcSAr5VXXv3ZirRVP8tf6NsG70qKtVaQ1M9IvswIonrhatIUp9DtEzMCvvOdDjQEJwICE4kBAcSAoZHC/Y0pF0XTQlbzZ/1rFE65I61rxztTsbR/x1F08mt9P08oer1fsZ0uNAQnAgITiQEBxIStvJGWk59jqsT9d3XXppolne6eC6zt7jrjY+cCH8ztRF9n64nIceBxKCAwnBgYTgQFKpwTF+i2Z59x7bHV4bLeSPFs9HGwZyZpPpcSAhOJAQHEgIDiSVGhxHuyTNzNqsWrsYy1BrJ+e3oVVJn492zubMJtPjQEJwICE4kBAcSCo1OD5z6EZYv9q/uuA7mTuipRojiRsgc9DjQEJwICE4kBAcSAoZHEcb7aKZzOg0BzOzviH/FpcqnVbxP6LHgYTgQEJwICE4kBQyOA7XtgYnWNSa3VzavaTetzRvHHr21tWi5xitTW4b09ulx4GE4EBCcCAhOJCUtqwiOsu31uA42mDWEwwKr26ev8svog11ZmbDB/0MfPRsO0/7EzBy0ONAQnAgITiQEBxICjnnOBK9OCM639csfb3swsHPrhZtZEt9jeLE5XZX+7grOnwtTbQUJDr7ePnoYld7NHAp/M7o2Tw/tSyp7Rz0OJAQHEgIDiQEB5LSZo6jQeuVZ61Z3xkNrqMzg1vMn6ccvk98fNLVmsfT7iVaxvDm7A5X2zTo2zD7mtaIxT8INnQl3mQGehxICA4kBAcSggNJaTPHkWgW1cysb/stVxs+uEtup9Zrqmeq9wkPOXquj4b1spaS0ONAQnAgITiQEBxIKjU4no1oDW609KBKA9wc0Uy0mVlb/8Nib+QPehxICA4kBAcSggNJpc45no3oBIxO80sovnT7v41og1/VNb2s9wug89DjQEJwICE4kBAcSAgOJHP2Xw45aq37mSnaURkd7J0j9UiSnHeE/wv0OJAQHEgIDiQEB5L/cnCMfPQ4kBAcSAgOJAQHEoIDCcGBhOBAQnAgITiQEBxICA4kBAcSggMJwYGE4EBCcCAhOJAQHEgIDiQEBxKCAwnBgYTgQEJwICE4kBAcSAgOJAQHEoIDyS8MWeFCZbGnuQAAAABJRU5ErkJggg==\" y=\"-7.064407\"/>\r\n   </g>\r\n  </g>\r\n  <g id=\"axes_3\">\r\n   <g clip-path=\"url(#paac8f38151)\">\r\n    <image height=\"142\" id=\"image4246674e13\" transform=\"scale(1 -1)translate(0 -142)\" width=\"142\" x=\"347.674576\" xlink:href=\"data:image/png;base64,\r\niVBORw0KGgoAAAANSUhEUgAAAI4AAACOCAYAAADn/TAIAAAEaklEQVR4nO3dP0jUYRzH8UdLssUuCEoJjJP+cJMQgTUJhWEULSJ1QgQt1eTQ0GJIU0ODmy2BCP5BWsJQdHJLiMBJtNACQxuC7JYKyRqa4vsVnvuc3v1+1/s1fjnvnuLDw/cevz6/mks1Xb8DUKTaSi8A6URwICE4kBAcSAgOJAQHEoIDCcGBhOBAQnAgITiQEBxICA4kBAcSggMJwYGE4EBCcCAhOJAQHEgIDiQEBxKCAwnBgYTgQEJwICE4kBAcSAgOJPsrvYDd9H7orKkdna0ztXuPXpjak5FuU3vYMyGvZeLzOVNb/Nhkaidvv5U/o5LYcSAhOJAQHEgIDiQEB5KatN4BWDfXaGqvTk2bWueVfDmWE2V6atTUrr7rNLWt9o1yLKck7DiQEBxICA4kBAeSVPzKwWuEf/UeNrXOYBthryH1Guab47OmNvi4K3aJhvdrDY/37yjkm02tYXReXsteYMeBhOBAQnAgITiQJOrk2JunCSGE0wPfo37ea4SHC0eifnbkzPGo15WilNPuzVyD+56VaprZcSAhOJAQHEgIDiSJOjn2Bsv/ss2x1whnZ++YmtdYe6fE5eCNS2SH7Jrrrx0wtebJTfc9l50vFOUYgGfHgYTgQEJwICE4kCSqOf7W4uc4s2hr3qyu1xROry+YWuxpcjl4a3bHSCbt+EUIIfS3vTS1kbD3p+DsOJAQHEgIDiQEB5JEjVXUtuaiX7u94HTMjp6lT6Y2dqPD1LyxhSTN+a71XXDr3oly7P9NKdhxICE4kBAcSAgOJIlqjmecU94Q/Bnc5d6DpuadwnpzzN5pq9cwe+MX5ZhN9nhNfgj+ummOkVgEBxKCAwnBgSRRYxXnH9x165lQMLWd55P/5TXM/UPXbW08rmFe68uYWvbiB1Pb7cuwbzV8cetj8juWhh0HEoIDCcGBhOBAkqiT42Juq4j9g7xSGtJCvs3UMou2UY/lrTk3eN/UDq1sR3+u956Xm1qLX1yR2HEgITiQEBxICA4kiTo5Lob7cI/e3f0Mb+bYux2ifiXudglvzc3Bvs7jNcEh7PCFIHBbBRKK4EBCcCAhOJAk6uR4J7EnuJU6RfV4p+C5E+um1n3sjanFPrM8hMo9t5wdBxKCAwnBgYTgQJKK5tgTe7NF0m+hSCt2HEgIDiQEBxKCA0lqm+PYK9qSdONENWHHgYTgQEJwICE4kKR25rh/3t44sTr13NS8Od9CntPkUrHjQEJwICE4kBAcSAgOJKn9VuUNaQ8vxT0y8fXTZ6aW7djdK1KqHTsOJAQHEoIDCcGBJLXzOLG8RxJ6V5Ak6a9A04AdBxKCAwnBgYTgQJLak+NYP1p+mpo3wO7N7cys7/0l3GnFjgMJwYGE4EBCcCCp+pNjj3c/32pH3KC7Z9/AV1Pbat8ofmEpwo4DCcGBhOBAQnAg+S+b41h1c42m5l1o7an2q1TYcSAhOJAQHEgIDiQ0x5Cw40BCcCAhOJAQHEgIDiQEBxKCAwnBgYTgQPIHNJz96sxFmykAAAAASUVORK5CYII=\" y=\"-7.064407\"/>\r\n   </g>\r\n  </g>\r\n  <g id=\"axes_4\">\r\n   <g clip-path=\"url(#pfe44144aad)\">\r\n    <image height=\"142\" id=\"imagea1ec0f40dc\" transform=\"scale(1 -1)translate(0 -142)\" width=\"142\" x=\"517.911864\" xlink:href=\"data:image/png;base64,\r\niVBORw0KGgoAAAANSUhEUgAAAI4AAACOCAYAAADn/TAIAAAEEElEQVR4nO3d32dWcRzA8bNqF93Mk6IfympJ6TaRrmIZpXQz0zYSEd3tHyjpqv8gIhJbmW4SxYguI9HV9IOtKSqK2U1l+vEHfD7Led7P9pxz6v26/NiPI29f386+zzk9x3uGfxdSm9ZVfQFqJsMRYjhCDEeI4QgxHCGGI8RwhBiOEMMRYjhCDEeI4QgxHCGGI8RwhBiOEMMRYjhCDEeI4QgxHCGGI8RwhBiOEMMRYjhCDEeI4QjZUPUFUEtjR8KsNbu0qr9j9N5MmN24NhxmfVPPVvX3NoErjhDDEWI4QgxHiOEI6WnCMwC78T+oTjx+NBVmd5a2hNnVZ2fCbN/5F2tyTWvNFUeI4QgxHCGGI6RWf3Lofbo9nbcmym2Es03qqTcnwuzrzf4wu3Tlfpid6/sSZidOjpWaZbYe7C31dU3giiPEcIQYjhDDEVKrzfHckz3pvL9YLPX92UZ4+djHMOsr4mxyameYTT89XOr3lpXd7R599SFey4F4LXXjiiPEcIQYjhDDEVLZsYrsLvHPiU2lv//1xMYwW+0jCp0c58juYpe9w5z59XIWf+9acMURYjhCDEeI4QipbHPc6TnibmwW394+FGZzQ7fCLNv0LpxuhdnA4Hz8ecnd8v6Hi6V+XlEUxfe9P8KsG+eYXXGEGI4QwxFiOEIq2xyPJ8cJ7p4dKv39Vd1J7WRTv3iwL8w+Dy2H2dUjD8JspX+b7Gd247ErrjhCDEeI4QgxHCG1OnPcBNnGc7HkhjnfRMfN7fTu8medqzrH7IojxHCEGI4QwxFS2eY4e9B0q6jP49nakd39bZW8sZ1tbtOjFiU/lNgtrjhCDEeI4QgxHCGVbY43X1wIs3Y+kJd9oC97MkU3ZGd81yfXV/Z8cTarG1ccIYYjxHCEGI6QyjbHs+92hNnco/hht6LIP/CWbTR3JY9oq0q2Uc+uLzsC0c7Z66q44ggxHCGGI8RwhNTqDXnvLx9N59md1OxRaQMzF8KsiW+gy+6Kj2x7nn7t9cmRMOvGEyxccYQYjhDDEWI4Qmq1OV7pDXllj1v8yxvmunHFEWI4QgxHiOEIqdXTKlY6Mzz+Kt41zY4epC/ZmOj0qpRxxRFiOEIMR4jhCKnV5ngl05/4a5yzZwZPFvV/PXPdueIIMRwhhiPEcIQYjpBancdpRydvn+nGO8v/da44QgxHiOEIMRwhjfiTQ6aTP0NsneldxSv5P7niCDEcIYYjxHCENHZznD1DcH/xrYIr+T+54ggxHCGGI8RwhDR2c5wdg1hIniHYhDexNJErjhDDEWI4QgxHSGM3x5mBwfkw+/kwPj8we63jcnx8oP7CFUeI4QgxHCGGI6SxH8hTtVxxhBiOEMMRYjhCDEeI4QgxHCGGI8RwhPwBscPbRyqA7KkAAAAASUVORK5CYII=\" y=\"-7.064407\"/>\r\n   </g>\r\n  </g>\r\n  <g id=\"axes_5\">\r\n   <g clip-path=\"url(#p5f6ba19edd)\">\r\n    <image height=\"142\" id=\"image851805fd11\" transform=\"scale(1 -1)translate(0 -142)\" width=\"142\" x=\"688.149153\" xlink:href=\"data:image/png;base64,\r\niVBORw0KGgoAAAANSUhEUgAAAI4AAACOCAYAAADn/TAIAAAD2ElEQVR4nO3dvUuWURiA8dc+hhZ5g6APiiDpAyehxZoawiiIlogyiKClmhxaBekvaMopCKFsjcDAqSmECJrECIQwiCDIXCrC6g+47+B0KbzvOV2/8aA+73B5OD6e5zwDpwcu/u5I/2hLrz+A6mQ4QgxHiOEIMRwhhiPEcIQYjhDDEWI4QgxHiOEIMRwhhiNkW68/QC+8e3g8jE2NPg1j1wY/h7ETd26GsU9jP8PY4euv4aergzOOEMMRYjhCDEfIQOt7jre/2BvG1id2buo13p/vhrHvQz/CWEsLZmccIYYjxHCEGI6Qpu4cZ3eEj058K/rebIG7eOt+GDt7bjyMHXy2WvTzWuKMI8RwhBiOEMMR0tSd49K7xM/nHoexM/tGiq5xdelDGJu9PFb0vb/eLBZ9XQ2ccYQYjhDDEWI4QgxHSFP/cri051UYm+3Ev3iGp2+HsQOdl0XXmFq4EMaW5x6EsexfE2vjo2Fs8PFC0XX7jTOOEMMRYjhCDEdIU4vj6bsXw1i3sxbGsv0zb5O9PNnm8mxsZmlX0ef7OhR/TweLvrP/OOMIMRwhhiPEcIQ0tTjOjhvpFm6B2T2/fZM/TduccYQYjhDDEWI4QprarJ4p3VyebWA/NH+j6BrLY2XbKq48mQ9jj47tL7pGv3HGEWI4QgxHiOEIaX5xnB59co8ffZLJtmlk3k7sCGO1ngvojCPEcIQYjhDDEdL84jizkaNKSq0Ox93EtT58l3HGEWI4QgxHiOEIaWrPcalsK8PKZDeMld4R/h854wgxHCGGI8RwhPyXi+P8zvHqpl6juxhPyXg/eTKM1foKRmccIYYjxHCEGI6QphbH2f7i0oflMtlDepnSn5ceIZfsQ66BM44QwxFiOEIMR0i1i+PsNYrLR/hCODtJovS0iqOd+IBftrCeWYvnIWcvFamBM44QwxFiOEIMR0i1i+PsbXilC+HsYblsH/LhTuH2hpHhMJQthDd0jT7jjCPEcIQYjhDDEVLF4jjbLjF7OS5IM62fGtErzjhCDEeI4QgxHCFVLI77ydr4aBjLHr7LXmU92GlnUe6MI8RwhBiOEMMRUu05xyvJyQ+lR69tvfcljP089TGMZfua1yd2hrGW3nxXyhlHiOEIMRwhhiPEcIRU+1dV6V88my173WKt5/hthDOOEMMRYjhCDEdItftx8n8RxK/LnvgsfY2iC+G/c8YRYjhCDEeI4Qip9s6xessZR4jhCDEcIYYjxHCEGI4QwxFiOEIMR4jhCDEcIYYjxHCEGI4QwxFiOEIMR4jhCDEcIYYjxHCEGI4QwxFiOEL+ABQtwioZhU92AAAAAElFTkSuQmCC\" y=\"-7.064407\"/>\r\n   </g>\r\n  </g>\r\n  <g id=\"axes_6\">\r\n   <g clip-path=\"url(#p768cf7afb7)\">\r\n    <image height=\"142\" id=\"image0708759fea\" transform=\"scale(1 -1)translate(0 -142)\" width=\"142\" x=\"858.386441\" xlink:href=\"data:image/png;base64,\r\niVBORw0KGgoAAAANSUhEUgAAAI4AAACOCAYAAADn/TAIAAAEXElEQVR4nO3dP0hVYRjH8dfIoeWm0FBSWEgZdxIiMKeGuKIULSL+gWisJodWQ2ppbLMlkMA/REsUCkHgFEIETaJJl0SxhCBzqRCrpcnnkc793et5z7HvZ3y4557X+PXynvc895y6S3U9vwNQoQOxB4B8IjiQEBxICA4kBAcSggMJwYGE4EBCcCAhOJAQHEgIDiQEBxKCA8nB2ANIYmnsnKmNtD8ztcm+Uk3P2z/10tSefD5vavMfm0zt9PW3NR1L1jDjQEJwICE4kBAcSDK1ON4caHfr5dJDU+vqHpDPMzM9kehzxdFbiT7X+nzD1JaHO0ztR8tPU8vrIpoZBxKCAwnBgYTgQFIX6wd53m5wufTI/WzShfBGsWBq66UtU6tmQVo/e8zUtoca5e/zxlyYmJO/Ly3MOJAQHEgIDiQEB5Joi+PBhVVT260twtvpvfy+y9S2Ln6qfmCCWrd9eO0c42ePVz6wPcSMAwnBgYTgQEJwICE4kKRyVZX09sJutxa8q6rOpraqx5W2Sq4kd/JuTYQQ7/YEMw4kBAcSggMJwYEklWb14sk1U6um2TyvvNsGgwv29oK3YG6Y33S/c9G58EijAZ4ZBxKCAwnBgYTgQJLK4th7DEh5OvnO8X7mLZhXhhtMrdn5tWgIft/PeNj73h1mHEgIDiQEBxKCA0kqi2N3J9NuJuOvwx9+xR7CPzHjQEJwICE4kBAcSKI9A/Dx5pFYp848r494Zu1d4uPZOUZmERxICA4kBAeSaIvj0bs9ptYQ/L5ar92ifvarqcV6zElMsf5tmHEgITiQEBxICA4k0RbHleyOegvAF2dmTK0ztFU7rH2h9+gbU6v1bjIzDiQEBxKCAwnBgSRTr1aspNXCWzAvjR0ytby+urAa1wpfTI3FMTKB4EBCcCAhOJBkanE8MnfVrbeG74mO956d/D/uJqfRz82MAwnBgYTgQEJwIIn2asVKbA60m9puz/3dKY/v9fbebe61kYTg76Cn8Tcz40BCcCAhOJAQHEhysTiu9g17Oy0OZaf9YmW4w9R2e6axZ/lKg6mduPe6ihElw4wDCcGBhOBAQnAgycXi2OMtmFsfJGu/SGNn1dv93R5qrOk5Qgihf8q+Yc97sUitMeNAQnAgITiQEBxIMtVzXAlvp3cjYfvFtxbn/4tz7M07TxONxfsBXFd3MdGxSXk7xCGksxD2MONAQnAgITiQEBxIcrtz7BlcWDW1yb5ShJEkNzM9YWoXbt8wtfXSlnt8rHYQZhxICA4kBAcSggMJwYEkt7ccPPfHe02tOWzs+Xm92wHeu8O9K6POpjZTKwTbG1SwF19RMeNAQnAgITiQEBxI9tUtB4/XNO4pvzplat4vKmM1h2cNMw4kBAcSggMJwYFk3y+OsTeYcSAhOJAQHEgIDiQEBxKCAwnBgYTgQEJwICE4kBAcSAgOJAQHEoIDCcGBhOBAQnAgITiQEBxICA4kBAcSggMJwYGE4EDyB4Bj5As7kgStAAAAAElFTkSuQmCC\" y=\"-7.064407\"/>\r\n   </g>\r\n  </g>\r\n  <g id=\"axes_7\">\r\n   <g clip-path=\"url(#p7f2ccf2db7)\">\r\n    <image height=\"142\" id=\"image17e5b179f4\" transform=\"scale(1 -1)translate(0 -142)\" width=\"142\" x=\"1028.623729\" xlink:href=\"data:image/png;base64,\r\niVBORw0KGgoAAAANSUhEUgAAAI4AAACOCAYAAADn/TAIAAADmUlEQVR4nO3dsWtVZxzH4ZNqqNM1hUJRKLdVgpCp0EWcAg0pFbplskuhk07+Ay66OmRqSqAgHfwHAhWEQibtUuiURVSKoHQQb13aEoJOTu8bOPnem3vOvT7P+MOr7/DJy5vjuecsrC1svGngiD7oegHMJuEQEQ4R4RARDhHhEBEOEeEQEQ6Rk10v4H3y7MalYrZ39cdi9vXZL6awmvHYcYgIh4hwiAiHiMPxMXl95WIxG+6Mitkv3308hdVMnh2HiHCICIeIcIg4HB+Tf86XP5NLe+Wf27q5UcwGze/HsaSJsuMQEQ4R4RARDhGH4479vb5fzAZ3O1jIEdlxiAiHiHCICIeIw3HHlr//o+slROw4RIRDRDhEhENEOET8VjVFf327VMw+/XPqy5gIOw4R4RARDhHhEHE4noDF3TPFbHh9VMxGK4MprGY67DhEhENEOESEQ0Q4RIRDRDhEhENEOERm4srxoztfFrNTjz8sZv+d/7+Y9elm8Ie3fypm59Z/KGZ9WvNh7DhEhENEOESEQ2QmDsdP1n8uZt9cvlLMTmy+KmblQ0TGU7uF4slvnxezYTMqZrU1f7KyOJF1TZsdh4hwiAiHiHCILKwtbLzpehHv1K4QN03TXNj8t9Xnx7mnt/ZA69rbXsZRW9/gbv8fhl1jxyEiHCLCISIcIr26crzy2fPq/KD5qNXnl/Zex/927c0u934tn1S9snWt1d836YN139hxiAiHiHCICIdIrw7H46o9Kq2tc189LWf3K/cD33pQzGrvGJ93dhwiwiEiHCLCITJXh+PaAXd/9UWrz+7fKmfLTbvPtn3H+Dyx4xARDhHhEBEOkbk6HE9D7b7oC5ujVp+tHaJn9cnHdhwiwiEiHCLCIeJwPAG12zlq9xzXZicqT79oe7W7S3YcIsIhIhwiwiHicHxEtWcQ1x7vdrDT7kuEL7eHxWzQ8naOLtlxiAiHiHCICIeIw/EE1K70PrtRefZx5crxrN5qYcchIhwiwiEiHCK9OhwfdjvB4m45O7je7spsV2pfDqxdTa5+ibDy5cC+seMQEQ4R4RARDhHhEOnVb1WHqf229ejO2WK2vNqfZ4u0/W+I09uVN8q4H4d5JRwiwiEiHCK9erUis8OOQ0Q4RIRDRDhEhENEOESEQ0Q4RIRDRDhEhENEOESEQ0Q4RIRDRDhEhENEOESEQ0Q4RIRDRDhEhENEOESEQ0Q4RIRDRDhEhEPkLRHcgOE14jVFAAAAAElFTkSuQmCC\" y=\"-7.064407\"/>\r\n   </g>\r\n  </g>\r\n  <g id=\"axes_8\">\r\n   <g clip-path=\"url(#pf5f47fa22d)\">\r\n    <image height=\"142\" id=\"image10545c89bc\" transform=\"scale(1 -1)translate(0 -142)\" width=\"142\" x=\"1198.861017\" xlink:href=\"data:image/png;base64,\r\niVBORw0KGgoAAAANSUhEUgAAAI4AAACOCAYAAADn/TAIAAADx0lEQVR4nO3dv0vUYRzA8VMTazGjhpKiEqS4KXBxDArDKFoiypYgCNoaW4qof8AtCAIJzIiWEJSEwCmCCJoiCvtBUDRE4tIg/VjcPp/h69s77h7v/Ro/6N0Nbx4evz73/XYd7zr7ryatU3erP4DKZDhCDEeI4QgxHCGGI8RwhBiOEMMRYjhCDEeI4QgxHCGGI8RwhBiOEMMRYjhCDEeI4QgxHCGGI8RwhBiOkC2t/gCNtDIxGmYDb1fC7MKjhTC79fJMmA1fet2YD7YJueIIMRwhhiPEcIR0lXq3iqob4aqyDfP04b349TY7VxwhhiPEcIQYjhDDEVLEX1UfpkbC7NDk76a/b8/krzBbPfq96e9bAlccIYYjxHCEGI6QIs7j1A98C7M/tR1hNj/3MMyGFi6H2dalvjDbP7sc3+NafI/exfj53n4eDLPsM2ey3y3hHJArjhDDEWI4QgxHSBFXjjPdR+qVfm653h9mO698CbNsI9wq2Sb/1Pvx9GdbdSXbFUeI4QgxHCGGI6SIK8eZL6cHwiy7+psdYG/3jXB2tbvdria74ggxHCGGI8RwhBS7OR469inM/sy2z6Y3O6+cOTF4JMyGa+21Ec644ggxHCGGI8RwhBS7Oc6OE2TngT8+Pxhm1y8+rvQed2+fDbOrN5+E2cz5sTD7eW9/mPU/fFnpfUvgiiPEcIQYjhDDEVLsmeNW6V3cE2bZMY3s2Me+Oy+a8ZFawhVHiOEIMRwhhiOk2CvHrZJdsf56I16dzs4/9yQb61JvDeeKI8RwhBiOEMMR4ua4Aaqefz63+1WYTdfKfEKNK44QwxFiOEIMR4ib4wbI7lX8ce5+pd91c6yOYjhCDEeI4Qhxc9wA2W3WHrzbFWbZF/d6F8t8Cp8rjhDDEWI4QgxHiJvjJsnudDFQi/dcTu9qUXNzrE3KcIQYjhDDEeLmuEna/Sl8G+WKI8RwhBiOEMMR0pGb4w9TI5V+biNPpcu+fDdTi8cqsk30anxoXttxxRFiOEIMR4jhCDEcIR35V9XWpb4wy54oU/VbltlfaTPn6+v/YAVxxRFiOEIMR4jhCOnIzXF2z77sW5YrE/1h9mNsNcxujT6Nr5f8e2G5nrze521hNuxhdW1WhiPEcIQYjhAfrbjm2bc3YTZ+cgK/3vxcPFQztHA5zDZy5qeVXHGEGI4QwxFiOELcHK/JjkZkxy8y25f+hll2hbnUjXDGFUeI4QgxHCGGI8TNsRBXHCGGI8RwhBiOEMMRYjhCDEeI4QgxHCGGI8RwhBiOEMMRYjhC/gMqZa2rD10L3QAAAABJRU5ErkJggg==\" y=\"-7.064407\"/>\r\n   </g>\r\n  </g>\r\n  <g id=\"axes_9\">\r\n   <g clip-path=\"url(#p25b23c41dc)\">\r\n    <image height=\"142\" id=\"imagecffe7033ee\" transform=\"scale(1 -1)translate(0 -142)\" width=\"142\" x=\"1369.098305\" xlink:href=\"data:image/png;base64,\r\niVBORw0KGgoAAAANSUhEUgAAAI4AAACOCAYAAADn/TAIAAADrklEQVR4nO3dz4tWZRjH4XeyWbSZJlpUUvRDxJhVEEG5EooRo2gTkbZpFdnKRYs2E/0JrapN0EYLaSc4JAjuFCJoNfSDLBkZa5W5sRCrP+C+hdO3Xqdz5rqWN87xLD4+PJ73vM8sPLfw8l8z+Ifu2O4bYJyEQ0Q4RIRDRDhEhENEOESEQ0Q4RIRDRDhEhENEOESEQ0Q4RIRDRDhEhENEOETu3O4bmLfNtf1ltnH0gzI7uPuJ23A302HFISIcIsIhIhwik98cv/PayTI79PyRMls892uZ3ThwZS73NAVWHCLCISIcIsIhMvnN8XsXXiqzfbPrZfbK/V+W2fHZg3O5pymw4hARDhHhEBEOEeEQWdiJZwB27+g8fOpqme1638cQt2LFISIcIsIhIhwik//IofPYsz+W2c1T95SZjyFuzYpDRDhEhENEOERGuzlePPdAmV08+2iZdRvh7unv5lr92U9fXW3+Xk+TZzMrDiHhEBEOEeEQGcVrFd9/8mSZXVz9uMy6b2h2rq4sldnRdz8vs25zfOnF5TK7+4c/y2zpxIVB9zJWVhwiwiEiHCLCITKKzXHn2pGny2x541p8vfXTJ8ps6Gb78Gdnyuz449N+/cKKQ0Q4RIRDRDhERvtaxS+rN8pseWPYz3ZftHvm7TfL7PzpjwZdbycerm3FISIcIsIhIhwio31y3Bn6NHnoKRRDr9e9puG1CmgIh4hwiAiHyGifHHe6Den61tdltvLhW2X20Kxuju9941KZ3TxWT7X4bU/991e3y9NixSEiHCLCISIcIpPaHHe6jXB3pvG3zZf+9h74qsy6Uy0GX+/1er2xsuIQEQ4R4RARDpHJb46Hnml835nFQdfrTqborDyyVWb1LenxsuIQEQ4R4RARDpHJb467d4m/2Fovs+4LeZ2hXwTszlzuXt0YKysOEeEQEQ4R4RCZ/Oa488J3h8qs2/Qu1dPd2lcjDn9zucy6M5KHPXMeBysOEeEQEQ4R4RDZkZvj7mny3n/xVPfkz08N+nPdLzMZ63vIVhwiwiEiHCLCIbIjN8f/tY2fdpfZvtn1Mhv6XvMYWHGICIeIcIgIh4hwiPhf1W00pbMCrThEhENEOESEQ2RSvz3m/2RzbX+ZtWcFHrurzMbwjo4Vh4hwiAiHiHCIeHI8J7/v+WO7b2GurDhEhENEOESEQ8STYyJWHCLCISIcIsIhIhwiwiEiHCLCISIcIsIhIhwiwiEiHCLCISIcIsIhIhwiwiEiHCJ/AzUNp4jVwI13AAAAAElFTkSuQmCC\" y=\"-7.064407\"/>\r\n   </g>\r\n  </g>\r\n  <g id=\"axes_10\">\r\n   <g clip-path=\"url(#p35fd799ec2)\">\r\n    <image height=\"142\" id=\"image7d57fc3086\" transform=\"scale(1 -1)translate(0 -142)\" width=\"142\" x=\"1539.335593\" xlink:href=\"data:image/png;base64,\r\niVBORw0KGgoAAAANSUhEUgAAAI4AAACOCAYAAADn/TAIAAAD40lEQVR4nO3dT4hNYRiA8TuYsLmuUiIaEemulNTYKRqNTDYWzJQssbK0oYmthR1NKSlDk52irGZlZqOsboP8i/wpMs2KprCwUe+7OPPMnDvO6fkt38yds3j6+u5x5js9h3qO/25IC7RiuS9A1WQ4QgxHiOEIMRwhhiPEcIQYjhDDEWI4QgxHiOEIMRwhhiNkVTd+ydxwf5hNXb0RZoNHhrtxOal3Q60wW/fqV5h9GZgPs52nn5ZxSf81VxwhhiPEcIQYjpAl3xy/vLU3zEb774fZ0ReDYfb8/Nr0M9vbPi7+wv7xbayv0L9rdebCbOrqeJjtHz4TZs3x6YVfWIW44ggxHCGGI8RwhPT4B3kLMzLzIczunhgIs+xO9NYrT8q4pGXhiiPEcIQYjhDDEeLmeAkU3TCvvPY9zOYPfCrlmsrmiiPEcIQYjhDDEWI4QrrysHrd3dm9JczeX2yFWWdXfJbncGNPCVdUPlccIYYjxHCEGI4QN8cl2X7wTZhlf6naO1nN/4ZwxRFiOEIMR4jhCHFzXJLO281h9vrhzTDL/qK1ClxxhBiOEMMRYjhC3ByXJDsX8PbMhmW4knK44ggxHCGGI8RwhLg57qJTza9hNvF5GS5kCbjiCDEcIYYjxHCEuDkuSfbGnMEj7TDLjj6pAlccIYYjxHCEGI6QWm2OszfXLEbRVyb2Tm4Ks6ld8dWRt+fiYxXZSRdV4IojxHCEGI4QwxFSq83xxse9YZa9HvHRw3ikWnaSxKOPzwr93uyOcHvoXJj92PEzzHY2qvnOclccIYYjxHCEGI6QWm2OF2O23Qyz9vW4wb0wMhFm2aMRWw90lubC/lOuOEIMR4jhCDEcIbV/tWL27G92N7lOrz3sBlccIYYjxHCEGI6Q2t85bo5Ph9nJgu8J752Mn+eG+S9XHCGGI8RwhBiOkNpvjjOj08fCbM3Q6jDrOx9/1g3zX644QgxHiOEIMRwhtX+soqjspIs1r5IN84PZMMueV87uWNeJK44QwxFiOEIMR0gl7hxnG9fsZIovA/OFPi87oi2bZb/35L3HYZY9kpE9ulHVY9syrjhCDEeI4QgxHCGGI6QS36qyW/+tzmwyK/iBe+KZfe+GWmE22h+PNJn4vK/Qz2bftEZm4jeyqn7TcsURYjhCDEeI4QipxOY4O1i66CsJv431hdnZS/cL/Wz2nvC7J9aHWV9jttDnXb98PMyajWo+t+OKI8RwhBiOEMMR4sPqQlxxhBiOEMMRYjhCDEeI4QgxHCGGI8RwhBiOEMMRYjhCDEeI4QgxHCGGI8RwhBiOEMMRYjhCDEeI4QgxHCGGI+QPi6Wq1UcmhM8AAAAASUVORK5CYII=\" y=\"-7.064407\"/>\r\n   </g>\r\n  </g>\r\n </g>\r\n <defs>\r\n  <clipPath id=\"pf5bc4a688d\">\r\n   <rect height=\"141.864407\" width=\"141.864407\" x=\"7.2\" y=\"7.2\"/>\r\n  </clipPath>\r\n  <clipPath id=\"p22480fe6ec\">\r\n   <rect height=\"141.864407\" width=\"141.864407\" x=\"177.437288\" y=\"7.2\"/>\r\n  </clipPath>\r\n  <clipPath id=\"paac8f38151\">\r\n   <rect height=\"141.864407\" width=\"141.864407\" x=\"347.674576\" y=\"7.2\"/>\r\n  </clipPath>\r\n  <clipPath id=\"pfe44144aad\">\r\n   <rect height=\"141.864407\" width=\"141.864407\" x=\"517.911864\" y=\"7.2\"/>\r\n  </clipPath>\r\n  <clipPath id=\"p5f6ba19edd\">\r\n   <rect height=\"141.864407\" width=\"141.864407\" x=\"688.149153\" y=\"7.2\"/>\r\n  </clipPath>\r\n  <clipPath id=\"p768cf7afb7\">\r\n   <rect height=\"141.864407\" width=\"141.864407\" x=\"858.386441\" y=\"7.2\"/>\r\n  </clipPath>\r\n  <clipPath id=\"p7f2ccf2db7\">\r\n   <rect height=\"141.864407\" width=\"141.864407\" x=\"1028.623729\" y=\"7.2\"/>\r\n  </clipPath>\r\n  <clipPath id=\"pf5f47fa22d\">\r\n   <rect height=\"141.864407\" width=\"141.864407\" x=\"1198.861017\" y=\"7.2\"/>\r\n  </clipPath>\r\n  <clipPath id=\"p25b23c41dc\">\r\n   <rect height=\"141.864407\" width=\"141.864407\" x=\"1369.098305\" y=\"7.2\"/>\r\n  </clipPath>\r\n  <clipPath id=\"p35fd799ec2\">\r\n   <rect height=\"141.864407\" width=\"141.864407\" x=\"1539.335593\" y=\"7.2\"/>\r\n  </clipPath>\r\n </defs>\r\n</svg>\r\n",
      "image/png": "[encoded data removed]"
     },
     "metadata": {
      "needs_background": "light"
     }
    },
    {
     "output_type": "stream",
     "name": "stdout",
     "text": [
      "unquantized\n"
     ]
    },
    {
     "output_type": "display_data",
     "data": {
      "text/plain": "<Figure size 2160x216 with 10 Axes>",
      "image/svg+xml": "<?xml version=\"1.0\" encoding=\"utf-8\" standalone=\"no\"?>\r\n<!DOCTYPE svg PUBLIC \"-//W3C//DTD SVG 1.1//EN\"\r\n  \"http://www.w3.org/Graphics/SVG/1.1/DTD/svg11.dtd\">\r\n<!-- Created with matplotlib (https://matplotlib.org/) -->\r\n<svg height=\"156.264407pt\" version=\"1.1\" viewBox=\"0 0 1688.4 156.264407\" width=\"1688.4pt\" xmlns=\"http://www.w3.org/2000/svg\" xmlns:xlink=\"http://www.w3.org/1999/xlink\">\r\n <metadata>\r\n  <rdf:RDF xmlns:cc=\"http://creativecommons.org/ns#\" xmlns:dc=\"http://purl.org/dc/elements/1.1/\" xmlns:rdf=\"http://www.w3.org/1999/02/22-rdf-syntax-ns#\">\r\n   <cc:Work>\r\n    <dc:type rdf:resource=\"http://purl.org/dc/dcmitype/StillImage\"/>\r\n    <dc:date>2020-12-15T14:26:31.365422</dc:date>\r\n    <dc:format>image/svg+xml</dc:format>\r\n    <dc:creator>\r\n     <cc:Agent>\r\n      <dc:title>Matplotlib v3.3.3, https://matplotlib.org/</dc:title>\r\n     </cc:Agent>\r\n    </dc:creator>\r\n   </cc:Work>\r\n  </rdf:RDF>\r\n </metadata>\r\n <defs>\r\n  <style type=\"text/css\">*{stroke-linecap:butt;stroke-linejoin:round;}</style>\r\n </defs>\r\n <g id=\"figure_1\">\r\n  <g id=\"patch_1\">\r\n   <path d=\"M 0 156.264407 \r\nL 1688.4 156.264407 \r\nL 1688.4 0 \r\nL 0 0 \r\nz\r\n\" style=\"fill:none;\"/>\r\n  </g>\r\n  <g id=\"axes_1\">\r\n   <g clip-path=\"url(#p0afc696baf)\">\r\n    <image height=\"142\" id=\"imagef43d855c92\" transform=\"scale(1 -1)translate(0 -142)\" width=\"142\" x=\"7.2\" xlink:href=\"data:image/png;base64,\r\niVBORw0KGgoAAAANSUhEUgAAAI4AAACOCAYAAADn/TAIAAADpElEQVR4nO3dMUozWxzG4eRyN2EnKFiIC4jgFrSx1VpwCdoEdAmCtTYpbBTs7ARdgKQQFOxchre45TkfN76ZzGRyn6f8g8588ONwzHdmMhwMBj8D+KW/ur4B+kk4RIRDRDhEhENEOESEQ0Q4RIRDRDhEhENEOESEQ0Q4RIRDRDhEhENEOESEQ+Tvrm9gFvv7+8Xs/v5+pp+9vb0tZu/v73Pf03+ZTCbF7PPzc+HXbYsVh4hwiAiHiHCIDAdL9EDexsZGdf78/FzM1tbWFn07c/n+/i5mV1dXxezt7W2m3zedTqvzrjbcVhwiwiEiHCLCIbJUm+Obm5vq/OjoqOU76Y/aJ+Pj8biYNb2JtuIQEQ4R4RARDhHhEFmqv6peXl6q89Fo1PKdrJ6Dg4Ni9vDwEP8+Kw4R4RARDhHhEOlsczzPAfRFeH19LWbr6+vF7Ovrq5j1YfNe+/ft7u7Gv8+KQ0Q4RIRDRDhEOnuSc2dnp5Xr1A6Nn5ycFLPaYfDt7e1iVvu0tbbRn9Xh4WExqz1penp6Wv35rg7tW3GICIeIcIgIh0hnnxzXntqsPbE5GDS/ATw/Py9ml5eXjV6jLWdnZ8Ws9nToPEcoaqw4RIRDRDhEhENkqc4cd/mak9qxg9oTpKv0Hr95WHGICIeIcIgIh8hSbY7/pLZp/vj4WPh1bZj/zIpDRDhEhENEOER6sTmuqR0nqJ3LbeNM7nA4XPg1lo0Vh4hwiAiHiHCI9HZzXDPrOWZHMuZnxSEiHCLCISIcIiu1Oa7p6hPm2re6HB8fN3qNLllxiAiHiHCICIfIym+Oa2ob5ouLi0avUXuF3NPTUzHr64bZikNEOESEQ0Q4RHq7Oa5tcGsmk0kxq72/uPa+4Ta+77zpb65rixWHiHCICIeIcIj0dnP88zPbbc/6Ce7d3V0xu76+LmbeufwvKw4R4RARDhHhEOnF5riNYxBdqW3e9/b2itmyPcxnxSEiHCLCISIcIp19ffRvbG1tdX0LC1P7JLp27MPmmJUgHCLCISIcIsIh0ou/qsbjcTHb3NwsZqPRqI3baVTt/YHT6bSDO/kdKw4R4RARDhHhEOnF5rj2cXvtKctlekJzVo+Pj8Vs2f57ocaKQ0Q4RIRDRDhEenFYvWm1w++1Mz9Nb6JX6aXZVhwiwiEiHCLCIfK/3BwzPysOEeEQEQ4R4RARDhHhEBEOEeEQEQ4R4RARDhHhEBEOEeEQEQ4R4RARDhHhEBEOkX8AKtjNyqm4Bo8AAAAASUVORK5CYII=\" y=\"-7.064407\"/>\r\n   </g>\r\n  </g>\r\n  <g id=\"axes_2\">\r\n   <g clip-path=\"url(#p1c743f1859)\">\r\n    <image height=\"142\" id=\"image1fee50b7da\" transform=\"scale(1 -1)translate(0 -142)\" width=\"142\" x=\"177.437288\" xlink:href=\"data:image/png;base64,\r\niVBORw0KGgoAAAANSUhEUgAAAI4AAACOCAYAAADn/TAIAAAEA0lEQVR4nO3dsUojQRyA8cnhS1grWEgeQMHOTjCNhY3Wgi8gKIigjyBYJ42FlWBn7wNYBRSs9DG84poj81+YfBN3V/1+5ZDchvAxzK2zk0FK6TNJc/rT9QfQ92Q4QgxHiOEIMRwhhiPEcIQYjhDDEWI4QgxHiOEIMRwhhiPEcIQYjhDDEWI4QgxHyFJXF97d3c3GhsNh+Nq1tbVsbHt7Oxt7fHys/2D/ubi4KHrd6+vrQq/7HTjjCDEcIYYjxHCEDFILD+StrKxkYy8vL1X/5sfHR9X7Zy0vL+P3TiaTbGw6nWZjV1dX+Bp944wjxHCEGI4QwxHSyp3j/f39qvc/PT1lYwcHB9lYzR3c6E525OTkpOizlIruit/d3WVj9/f3+BpfwRlHiOEIMRwhhiPEcIS08ieH9/f3bCy6xd/0Z4Stra1srE97YKL/ke3t7WVj0R6i0u8h+g5S6u57cMYRYjhCDEeI4QhpZXH8+Vl2ibOzs3D8p+xjifYlra+vZ2M3NzfZ2NvbW/F1Hh4esrFFf4fOOEIMR4jhCDEcIb1aHI9Go3C8b3tRvtrp6Wk2dnx8HL62dJP9YDCo+kyznHGEGI4QwxFiOEI6O+ZEzaK7vM/Pz+Fro83zGxsb2Vi04K65m+yMI8RwhBiOEMMR0qs7x9ETmymltLm5uciP86PUHCFTczfZGUeI4QgxHCGGI6RXd45rzwX8jaIH8qIH+mrOOIw44wgxHCGGI8RwhLSyOI4etLu8vMzGotMcUorvjvbptIrfyBlHiOEIMRwhhiOklW0VkdKtFinF2y3cavHPeDzOxqIDuxf9HTrjCDEcIYYjxHCEdLatYp4//UcPmEWLwsPDw/oP1lPRA3UpxQvh6LuNjner4YwjxHCEGI4QwxHS2Z3j6IczovN9UyrfLxsdBRcdA1f6M4rD4TAbu729LXpvJNoKEm0ZiX6Kcp6j3FZXV4uuXcMZR4jhCDEcIYYjpLPFcSS6G5xS+e96R3dMr6+vs7HoWLTSI9FKNZ28Qa/R9OuBR0dH2Vgb50I74wgxHCGGI8RwhPRqcRzdRU0ppfPz82ysdMEcaVpozlr0CQ81JpNJON7VVhJnHCGGI8RwhBiOkF4d5db0p/9oATidTrOxaOtBtMDt06K3VLRVokvOOEIMR4jhCDEcIb1aHM+j9NfddnZ2srGa7RJdWfQDdbWccYQYjhDDEWI4QgxHSK/247Slad/PrOiJyuhg7xqlG+xrfiP8KzjjCDEcIYYjxHCE/MrFseo54wgxHCGGI8RwhBiOEMMRYjhCDEeI4QgxHCGGI8RwhBiOEMMRYjhCDEeI4QgxHCGGI8RwhBiOEMMRYjhCDEeI4QgxHCGGI8RwhBiOkL/8VNzq8vwL8AAAAABJRU5ErkJggg==\" y=\"-7.064407\"/>\r\n   </g>\r\n  </g>\r\n  <g id=\"axes_3\">\r\n   <g clip-path=\"url(#p7492b848b9)\">\r\n    <image height=\"142\" id=\"image4fc385decd\" transform=\"scale(1 -1)translate(0 -142)\" width=\"142\" x=\"347.674576\" xlink:href=\"data:image/png;base64,\r\niVBORw0KGgoAAAANSUhEUgAAAI4AAACOCAYAAADn/TAIAAAD7UlEQVR4nO3dMUosTRSG4Z6fuwlNFQxcgYGZmTAmBiZO7B4UBkHBDQjGmhiYOGBmJrgDA0HBzGV4F1DfQPXbc2e6/d8nPIxOcfkojnVPV4+apvlppJb+W/UCNEwGR4jBEWJwhBgcIQZHiMERYnCEGBwhBkeIwRFicIQYHCEGR4jBEWJwhBgcIQZHiMERYnCEGBwhBkeIwRFicIQYHCEGR4jBEWJwhBgcIX9WvYBF2tjYKGpHR0dFbWtrq6htbm4WtY+PD7yWh4eHovb29lbUPj8/8XeskjuOEIMjxOAIMThCDI6QUTPQOwDH43FRu7m5KWpra2vLWE6V7+/vonZyclLUZrPZMpbTiTuOEIMjxOAIMThCBtEcp0b48fGx6mdTQ5oa5ru7u6L2/v5e9R1J+m+Nvb29qrWcnZ0VtcvLS7yWf8EdR4jBEWJwhBgcIb1qjtM8TdPUz8WkRvj5+bnqZyeTSdXnuuhy2p0a5qZZXdPsjiPE4AgxOEIMjpBeDaunwfJ5UiO8u7tb1FJjnU6JlyGNS6QB9rS+i4uL+Dvv7++L2jIG4N1xhBgcIQZHiMER0qvmeH9/v/qzaVY3NYWpie6TtOarq6uiNm+MZDqdFrVlnIK74wgxOEIMjhCDI6RXYxU/P/VLGY1GVZ+7vb0tasfHx0Wt73O+r6+vsb6zs1PUav9tunDHEWJwhBgcIQZHSK9Ojued8qYZ3DSfnE5hz8/Pq747jS2kh+qWcSqbzJu7Ts3xMrjjCDE4QgyOEIMjpFfN8fX1daynxjXNJ6eT3i4NczphThdppzGIRV+GnW66WCV3HCEGR4jBEWJwhPRqrKLNbRW1D+R1aUhPT0+L2rwH42qkNX99fRW1p6en6u9Nv3N9fb394lpyxxFicIQYHCEGR8hgm+Mkneou+uaGtMZ0u8Sixx3mjZws+g+CWu44QgyOEIMjxOAI6VVzPE/tCe6qTlGT1ERvb28XtcPDw6JW+87yplnde8vdcYQYHCEGR4jBETKI5jipvdmi77dQDJU7jhCDI8TgCDE4Qnr1QF4baZQhPUCXbpxQd+44QgyOEIMjxOAIGezJcRpbeHl5KWq1r2L2NLkddxwhBkeIwRFicIQYHCGD/asqqX1TzDKuSPnt3HGEGBwhBkeIwRHyq5rjJL2SMF1B0qenQIfAHUeIwRFicIQYHCG/vjlOczvT6bSoecLcjjuOEIMjxOAIMThCfn1znHQZdE8ODg6K2mw2a7+wAXHHEWJwhBgcIQZHyP+yOa41Ho+LWrrQOplMJoteTq+44wgxOEIMjhCDI8TmWIg7jhCDI8TgCDE4QgyOEIMjxOAIMThCDI6Qv/TA/Rwi246VAAAAAElFTkSuQmCC\" y=\"-7.064407\"/>\r\n   </g>\r\n  </g>\r\n  <g id=\"axes_4\">\r\n   <g clip-path=\"url(#p20b63ac6a6)\">\r\n    <image height=\"142\" id=\"image40f831e190\" transform=\"scale(1 -1)translate(0 -142)\" width=\"142\" x=\"517.911864\" xlink:href=\"data:image/png;base64,\r\niVBORw0KGgoAAAANSUhEUgAAAI4AAACOCAYAAADn/TAIAAADtUlEQVR4nO3dMUokQRhA4ZrFSxgrGHkABTNjTQxMNBa8gKAggoIX8AKaGJhobDYwc4DBwEAw8xi7+dY/UL6e6erS94XFuDbLo/hnrOkepZT+Jumb/tS+ALXJcIQYjhDDEWI4QgxHiOEIMRwhhiPEcIQYjhDDEWI4QgxHiOEIMRwhhiPEcIQYjhDDEWI4QgxHiOEIMRwhhiPEcIQYjhDDEWI4QlZqXwB1fn6erV1fXy/0dzw8PGRr7+/v2drNzc1Cf28L3HGEGI4QwxFiOEIMR8goNXAPwD7eQXXx9fWVrb2+vmZrV1dX2drHx8dSrmnZ3HGEGI4QwxFiOEIGNRzv7e2F68/Pz0U/Hw2pJycn2drm5ma2trGxka3t7u5ma6urq0XXErm4uMjWWv1zhTuOEMMRYjhCDEfIoIbjyWQSrm9tbRX9/P7+frb28vKCryca1ksH9VLRmZ/j4+OF/o5lcMcRYjhCDEeI4Qipdlg9GjxLh+CUUlpfX8/WFn1EIfqEuVT0KXb0qfPR0VHR2mg0wteyDO44QgxHiOEIMRwh1YbjLoNnSv2c1X18fMzWTk9Ps7Vo6P38/MzWoiMeZ2dn2Vr0JmHep+rRIN3H/407jhDDEWI4QgxHSLXhODrjOzTRkHl3d5etRV8OjAbc6A1BNNxeXl4WvS6llA4PD7O1Ps4xu+MIMRwhhiPEcIQ0ew/AWkoHz2hgLr3DxtPTU7Y2bziO/s3ojceizzG74wgxHCGGI8RwhFQbjqMbTbcqOn5ROghHr5tOp52vadnccYQYjhDDEWI4QqoNx7PZrNPPR1/o63Jnii6i4xfRnTNKzxd/54uJtbjjCDEcIYYjxHCEVLuV29raWrY2Ho/D10ZfeIs+Xd3e3u5+YT27v7/P1uYdoSjVx+3h3HGEGI4QwxFiOEKavc9xdKu0nZ2dbK3FJ9BFn4ofHByEr41uadfHHSzccYQYjhDDEWI4QgY1HC/jCXk/ZWAeGnccIYYjxHCEGI6QQQ3H83Q5etDHw0J+I3ccIYYjxHCEGI6QJobjLo9xbvXxzEPnjiPEcIQYjhDDEWI4Qpp4VxXxzxB1ueMIMRwhhiPEcIQ0+/SY7zxh5X+1Hkf4k7jjCDEcIYYjxHCENDscv7291b6EX80dR4jhCDEcIYYjpNnhODoGEd00u4UnsbTIHUeI4QgxHCGGI6TZ4Thye3ubrUXf+Oz6WEe54wgyHCGGI8RwhDT7hTzV5Y4jxHCEGI4QwxFiOEIMR4jhCDEcIYYj5B9GZM45kFMVNAAAAABJRU5ErkJggg==\" y=\"-7.064407\"/>\r\n   </g>\r\n  </g>\r\n  <g id=\"axes_5\">\r\n   <g clip-path=\"url(#pa8bed83680)\">\r\n    <image height=\"142\" id=\"image07bcf06527\" transform=\"scale(1 -1)translate(0 -142)\" width=\"142\" x=\"688.149153\" xlink:href=\"data:image/png;base64,\r\niVBORw0KGgoAAAANSUhEUgAAAI4AAACOCAYAAADn/TAIAAADdklEQVR4nO3dMUqjWxjH4cwwm7ATtHMFWtsJsbGw0Q24hAgi6BIEa21sY20n6BoEBTuXcW9zu/NeOPNXzHxnnqd8SWKKH4eTz5MvP2az2T8z+E0/V/0GmCbhEBEOEeEQEQ4R4RARDhHhEBEOEeEQEQ4R4RARDhHhEPm16jewChsbG83s7Oysme3u7jazq6urZnZ3d9fM3t7ewnc3DVYcIsIhIhwiwiHyYzb4meP5fN7Mlsvll/6N5+fnZnZ0dNTMRtowW3GICIeIcIgIh8hQm+PqivDr62vXc6sN7vr6ejNbW1uLX29nZ6fruVNgxSEiHCLCISIcIkMdq9ja2up63MfHRzPr3bje3Nw0s+oq8fb2dtfrTZUVh4hwiAiHiHCICIfIUJ+qDg4Ouh73/v4e/43z8/NmVh1qr/41sVgsmtnl5WX8XlbJikNEOESEQ0Q4RIbaHL+8vHQ9rvp3QHWWpzpcXs0eHh6aWfVviL29vWZmc8xfRThEhENEOESG2hxXtxu5uLjoeu7h4WEzm+rG9TtYcYgIh4hwiAiHyFCb4+qq7u3tbTOrruqenJw0s2qzXamOVVR6v1U6BVYcIsIhIhwiwiEy1G1OKl9965NK77c2Nzc3m9lU7wtoxSEiHCLCISIcIsNvjiu9tyr5jNPT02Y20jENKw4R4RARDhHhEBnqWEWv4+PjZlZd1R39Pn6fYcUhIhwiwiEiHCKuHP/nq68cV0b6CUYrDhHhEBEOEeEQGerKcXW++PHxsZn1/jxi9Sszld7XG+lKtBWHiHCICIeIcIhMdnM8n8+b2fX1dTPr3bhWd7WofvCjUn3Br9pYV/dDniorDhHhEBEOEeEQmezmuPo1vN6N8Hd8Wa7aCFdnnafKikNEOESEQ0Q4RCaxOa6OS/SeER79rhGrYsUhIhwiwiEiHCKT2Bz/SRaLRdfjen/KeqqsOESEQ0Q4RIRDZLJ3q3h6empmvV9429/fb2b39/fNrDrXvFwum1l1XnmkIxQVKw4R4RARDhHhEBEOkcl+qur9xPPVRrqP32dYcYgIh4hwiAiHyGQ3x5Vqw1x947P3oLuN8P+z4hARDhHhEBEOkaE2x3wfKw4R4RARDhHhEBEOEeEQEQ4R4RARDhHhEBEOEeEQEQ4R4RARDhHhEBEOEeEQEQ4R4RARDhHhEBEOEeEQ+RdYvrSMAuZU3QAAAABJRU5ErkJggg==\" y=\"-7.064407\"/>\r\n   </g>\r\n  </g>\r\n  <g id=\"axes_6\">\r\n   <g clip-path=\"url(#pd9e0547177)\">\r\n    <image height=\"142\" id=\"imagee3eb873e0e\" transform=\"scale(1 -1)translate(0 -142)\" width=\"142\" x=\"858.386441\" xlink:href=\"data:image/png;base64,\r\niVBORw0KGgoAAAANSUhEUgAAAI4AAACOCAYAAADn/TAIAAAD0UlEQVR4nO3dMUokQRhA4XLZS2iq4BkUzIyNTTQWvIAwgokewQtoMoGJA2ZmgnMCA0HBSI+xm1t/Q/Xrsau7fV9YzGqvPIqamprutZTSvyS19Kf2BWicDEeI4QgxHCGGI8RwhBiOEMMRYjhCDEeI4QgxHCGGI8RwhPytfQElNjc3s7GLi4ts7OjoaKW/9/b2Nhu7u7vLxl5eXrKx9/f3lV7L0DjjCDEcIYYjxHCErKUBnTmezWbh+OnpaTa2vr6Of8/X11fR6z4+Popet7Ozk40tl8tsLFq8j3UR7YwjxHCEGI4QwxFSbXEc7QY/PT2Fry1dCJ+fn2dj8/k8G+uyID04OMjG7u/v8c+Lrvnq6gr/vL444wgxHCGGI8RwhFRbHN/c3GRjTcciop3ek5OTbGyxWHS/MGDVxz6i4xzHx8ftL+wHOeMIMRwhhiPEcIQYjpBe3lWVfrzQ9NFC9K5qY2Oj+4X1rM07ye+ijyZSqvfxhDOOEMMRYjhCDEdIL4vjrmdYprI4jnRZMKeU0tbWVjbWxwF4ZxwhhiPEcIQYjhB3jgfo+fk5G4u+LZpSvbM7zjhCDEeI4QgxHCG93ANwrLfyqOXh4SEba1oc1+KMI8RwhBiOEMMRMtpvck555zjy+flZ/No+/jbOOEIMR4jhCDEcIdWeHvP6+lr82ui4RXSOudZtTmqq9bdxxhFiOEIMR4jhCBnU02OadkejBeBv201u87fp4xyyM44QwxFiOEIMR8ignjv++PgYjkfHLaJFYfTFv9943nl/f//Hf4czjhDDEWI4QgxHyKB2jqPFbUopvb29Ff37Ke8mu3OsSTAcIYYjxHCEDGrnuGmXN3oAxuXlZTYWLRRns1k2NvTnekdnhttoc56bcsYRYjhCDEeI4QgZ1M5xk673Sf6u1oMzIm3uaRxZLpfZ2O7ubqdrKuGMI8RwhBiOEMMRMqid4ybRwnVvby8bKz1+cXh4mI2teje561MBS5X+n1fNGUeI4QgxHCGGI2QUO8eloiMU0fGLaLc1evDG9vZ20e+NvgBXuotdKrrmlPrZJY444wgxHCGGI8RwhIxi57hU6WI2OrZQ6wl00ZcIr6+vs7H5fN7H5RRzxhFiOEIMR4jhCDEcIZN6VxUdQu9D6UcY0Tujsd6j0BlHiOEIMRwhhiNkUudxIqW3DDk7O8vGoo8h+ri/3hg44wgxHCGGI8RwhEx+cayf4YwjxHCEGI4QwxFiOEIMR4jhCDEcIYYjxHCEGI4QwxFiOEIMR4jhCDEcIYYjxHCEGI4QwxFiOEIMR4jhCDEcIf8BeOTs/FntuYIAAAAASUVORK5CYII=\" y=\"-7.064407\"/>\r\n   </g>\r\n  </g>\r\n  <g id=\"axes_7\">\r\n   <g clip-path=\"url(#p8b5e4db12c)\">\r\n    <image height=\"142\" id=\"image484010b210\" transform=\"scale(1 -1)translate(0 -142)\" width=\"142\" x=\"1028.623729\" xlink:href=\"data:image/png;base64,\r\niVBORw0KGgoAAAANSUhEUgAAAI4AAACOCAYAAADn/TAIAAADHUlEQVR4nO3dMUokQRiG4XbZS2gkGIoH8AyCpiaewAsIGip4DxNTBU8gjCcwMBDMPIYbbFi/0H7T090zPk9Y6G4FL8W/vTU9W13XfXXwQ3+m3gDrSThEhENEOESEQ0Q4RIRDRDhEhEPk79Qb+E0Wi0Wztru726zt7OyMsJvlOHGICIeIcIgIh4jheEUuLy+btcPDw2bt7u5ujO0MzolDRDhEhENEOEQMxytydHTU6+fe3t5WvJPVcOIQEQ4R4RARDhHD8cTu7++n3kLEiUNEOESEQ0Q4RAzHE3t/f596CxEnDhHhEBEOEeEQEQ4R/6oa0cvLy9RbGIwTh4hwiAiHiHCIGI4HcHx83KxVn9q8uroaYzujcOIQEQ4R4RARDhHhEBEOEeEQEQ4R4RBZiyfHe3t7zVr17ryzs7NmbU6Xwc/Pz5u16pOcc9rzd5w4RIRDRDhEhENkLYbj5+fnZm17e7tZ29/fb9aGHjSrKxQXFxe9frfa8+npabN2c3Pz842NzIlDRDhEhENEOERmNRxXT4i7rh4qKwcHB73WKtULrat7w8uo7hyvwyBcceIQEQ4R4RARDpFZDcfVk9+fuL6+Hmgn/31+fjZrHx8fvX536MF6bpw4RIRDRDhEhENkVsPxspZ5Vdrt7W2z9vr62qxV1zT6fsf4JnHiEBEOEeEQEQ6RjRqOqwH38fFx5X9v3+8Y3yROHCLCISIcIsIhslHD8Riqe9F9nxJXQ7Q7x/wqwiEiHCLCIWI4HkB1naMamKu16u0XYzztXpYTh4hwiAiHiHCIGI5/qLpzXF3neHh46PXnVW/TMByzsYRDRDhEhEPEcDyAapjt+zR5Xa9aOHGICIeIcIgIh8ishuPvnpienJw0a32fzE6l79Pk6ufWgROHiHCICIeIcIgIh8hW13VfU28iUX2icu7f171YLJq1p6enZs1/ObCxhENEOESEQ2Rth2Om5cQhIhwiwiEiHCLCISIcIsIhIhwiwiEiHCLCISIcIsIhIhwiwiEiHCLCISIcIsIhIhwiwiEiHCLCISIcIsIhIhwiwiEiHCLCIfIPUFB7QrAOB2QAAAAASUVORK5CYII=\" y=\"-7.064407\"/>\r\n   </g>\r\n  </g>\r\n  <g id=\"axes_8\">\r\n   <g clip-path=\"url(#p02e33c91c4)\">\r\n    <image height=\"142\" id=\"image4d08d597f6\" transform=\"scale(1 -1)translate(0 -142)\" width=\"142\" x=\"1198.861017\" xlink:href=\"data:image/png;base64,\r\niVBORw0KGgoAAAANSUhEUgAAAI4AAACOCAYAAADn/TAIAAADX0lEQVR4nO3dMUprWxiG4ZzLnYS2FhbiABQyBW1stXYIggERFByHNrYKjkDQAUgKQVszDG9zuvUX+3wnucmKz1P+JGYXL4vldrnzazQafY/gD/2z7AugT8IhIhwiwiEiHCLCISIcIsIhIhwiwiEiHCLCISIcIsIhIhwiwiEiHCLCISIcIsIhIhwiwiEiHCLCIfLvsi9gns7Pz5vZ1dVVM7u7u2tml5eXzezz83M+F7aGrDhEhENEOESEQ6TbzfHQjXDl+Ph40OtOTk7+6Jp+EisOEeEQEQ4R4RARDpFfow6eAbi1tdXMPj4+Fv65h4eHzezx8XHhn9sDKw4R4RARDhHhEOniTw47OzuDXjebzZrZeDxuZtV5nL29vWb28PDQzKoN83Q6bWZDr7l6bw/ngKw4RIRDRDhEhEOkizvHle/vYZc9mUya2dvbWzOrNsLLUm3yT09Py9cu6062FYeIcIgIh4hwiHS7OX55eWlm1d3fVTf0bveq3U224hARDhHhEBEOkW43xwcHB81sle7+VscvKr2eYbbiEBEOEeEQEQ6RLs4cV6pNZbUhPTs7a2ZD/5nv/f29mW1vbzez6rEpu7u7zez6+nrQ5/bAikNEOESEQ0Q4RLq9c7wsQ+9Yv76+NrP9/f2FXNMyWHGICIeIcIgIh4jN8RwMPf+8To+Gs+IQEQ4R4RARDhGb4zkYeje5eoRcr99QY8UhIhwiwiEiHCI2x3NQfUnJ8/PzoPdubm7O+3L+F1YcIsIhIhwiwiFic7wgt7e3zaz6x71ej1pYcYgIh4hwiAiHSLdPq1h11ZMuKtVTLWyOWVvCISIcIsIhYnO8INW38K0TKw4R4RARDhHhEPmRm+PqjHDlb76V7ujoaNDret1EW3GICIeIcIgIh4hwiPzI36qqx41U3ygz9BEk1W9p1cH0dWLFISIcIsIhIhwiP3JzfHNz08yqZ/ZVB87v7++b2cXFxaDPnUwmzWw6nQ5676qx4hARDhHhEBEOEY85+e3r66uZbWxsxD9vNps1s/F43Mz+5szPMllxiAiHiHCICIeIzfFv1dGI6vhF5enpqZlVd5h73QhXrDhEhENEOESEQ8TmmIgVh4hwiAiHiHCICIeIcIgIh4hwiAiHiHCICIeIcIgIh4hwiPwH4gKu0aeruJEAAAAASUVORK5CYII=\" y=\"-7.064407\"/>\r\n   </g>\r\n  </g>\r\n  <g id=\"axes_9\">\r\n   <g clip-path=\"url(#p19815d34ca)\">\r\n    <image height=\"142\" id=\"imagee5f15bd527\" transform=\"scale(1 -1)translate(0 -142)\" width=\"142\" x=\"1369.098305\" xlink:href=\"data:image/png;base64,\r\niVBORw0KGgoAAAANSUhEUgAAAI4AAACOCAYAAADn/TAIAAADNElEQVR4nO3dMUokQRiG4ZllL6GRoGAgHkAPoekkegEvIGio4AW8gJ5AwRMIzgnMFIz0GLvBhvUvlB+O0t3PE/5B08FLUVtT9s5ns9mfGXzSr59+AYZJOESEQ0Q4RIRDRDhEhENEOESEQ0Q4RIRDRDhEhENEOESEQ0Q4RIRDRDhEhEPk90+/wKo9PT01s42NjWa2vr7+DW8zHlYcIsIhIhwiwiEy+s3xy8tLM9vb22tmBwcHzez+/n4l7zQGVhwiwiEiHCLCITKfjfxrFZubm82s2jDf3t42s+Pj45W80xhYcYgIh4hwiAiHiHCIjP5fVZXqjk71M8Th4WEz8zPEP1YcIsIhIhwiwiEyyc1xdffm7u6umfkZ4v+sOESEQ0Q4RIRDZLCb42qDe3p62syurq6aWXX66zT5c6w4RIRDRDhEhENkEJvj6sL54+NjM1tbW+t63vn5eTPb3t5uZkdHR81suVw2s4eHh2Z2eXnZ9S5DZcUhIhwiwiEiHCKD2BxXzs7OmtnFxUX8vI+Pj2bWu9me4vULKw4R4RARDhHhEBns5rj38yWV6mrE7u5uMzs5Oel63hQ/rm3FISIcIsIhIhwig/1A9uvrazOrrkv0nib3XoOonledYrtWAQXhEBEOEeEQGezJca/39/dm9vb21sz29/ebWe9XLap7yNXzxsSKQ0Q4RIRDRDhERr857v0KxdbWVjOrTqe/+nlDZcUhIhwiwiEiHCKDvVbRq/qUW3X6u1gsmll1NaL6MkW1Od7Z2WlmNsdMnnCICIeIcIiM/uS4Ul21uL6+bmbV5rj3DwHHftXCikNEOESEQ0Q4RCa5Oa7uEj8/Pzez3pPem5ubZlZ9I3k+n3c9bwisOESEQ0Q4RIRDZJKb46/W+4d7Y7qHbMUhIhwiwiEiHCKjv3P8HapT50rvveYhsOIQEQ4R4RARDhHhEPGTwxeY4gV2Kw4R4RARDhHhELE5XpGxfyvQikNEOESEQ0Q4RNzHWZHqLzl7/1/0IbDiEBEOEeEQEQ4RJ8dErDhEhENEOESEQ0Q4RIRDRDhEhENEOESEQ0Q4RIRDRDhEhENEOESEQ0Q4RIRDRDhE/gJuQrLfnVhUXwAAAABJRU5ErkJggg==\" y=\"-7.064407\"/>\r\n   </g>\r\n  </g>\r\n  <g id=\"axes_10\">\r\n   <g clip-path=\"url(#pcba879d3ca)\">\r\n    <image height=\"142\" id=\"image2e627a6fbf\" transform=\"scale(1 -1)translate(0 -142)\" width=\"142\" x=\"1539.335593\" xlink:href=\"data:image/png;base64,\r\niVBORw0KGgoAAAANSUhEUgAAAI4AAACOCAYAAADn/TAIAAADh0lEQVR4nO3dP0pzaRjGYb9hNqGVYGERsoBY2wna2ugG3ICgEASzBME6NilsFOys4wosBK1dxkwxzcD7DJy5Y4wn33WVDyae4sfL6/H8+bWxsfHXBvxPf6z6AOgn4RARDhHhEBEOEeEQEQ4R4RARDhHhEBEOEeEQEQ4R4RD58zt+ycXFRTM7OztrZpubm99xOKWXl5dm9vT01Mxms1kz+/j4WMox/WRWHCLCISIcIsIh8mvji6853tnZaWbj8biZ3d/fN7PX19fyOweDweIH9i/D4bCZHRwcNLPRaNTMPj8/m9nNzU0zm0wm4dH1gxWHiHCICIeIcIh8+eZ43U2n02Z2cnLSzKoz0Xt7e0s5plWw4hARDhHhEBEOkW+5rGKdnJ6edvq5asN8eHjYzB4fHxc+plWw4hARDhHhEBEOEeEQ8S+HJZnP581se3u7mW1tbX3D0Xw9Kw4R4RARDhHhELE5XpLq3wsPDw/N7OjoqJn14d8QVhwiwiEiHCLCIeJ6nCWp7kqt7gLtKysOEeEQEQ4R4RCxOV6S6rmAz8/PKziS5bDiEBEOEeEQEQ4Rm+NvtL+/38yqZyH2gRWHiHCICIeIcIjYHC9J9cacVb4d56tZcYgIh4hwiAiHyFrdkFe9uWYRXV+ZWN18d3t728yqyyq6PlPwp7HiEBEOEeEQEQ6RtTpzfHx83Myur6+bWXVjXHVWt+sNdNVnq7fHXF1ddfq+PrDiEBEOEeEQEQ6RtdocL+Ly8rKZVe8if39/b2bVdcN9eBzbIqw4RIRDRDhEhENkrS6rqFTX/lZnk/v6vOFVseIQEQ4R4RARDpG13xxXptNpM6veE27D/N+sOESEQ0Q4RIRD5LfcHFc37t3d3TWz0WjUzGyY/2HFISIcIsIhIhwiv+XmuLLIhrm6XnkymXzNgf1QVhwiwiEiHCLCIdKLzXG1ca2eTDGbzTp9X9dHtFW/dzweN7PqkoxqY93Xx7ZVrDhEhENEOESEQ0Q4RHrxV9V8Pm9m1an/RVTP7Ov6SJPz8/NmVh3fOv2lZcUhIhwiwiEiHCK9eAZgdUp/MBh0+uxwOGxmu7u7nT5bvSe8Opau3t7e4s/+NFYcIsIhIhwiwiHSizPH/DxWHCLCISIcIsIhIhwiwiEiHCLCISIcIsIhIhwiwiEiHCLCISIcIsIhIhwiwiEiHCLCISIcIsIhIhwiwiHyN7tjpELfxcynAAAAAElFTkSuQmCC\" y=\"-7.064407\"/>\r\n   </g>\r\n  </g>\r\n </g>\r\n <defs>\r\n  <clipPath id=\"p0afc696baf\">\r\n   <rect height=\"141.864407\" width=\"141.864407\" x=\"7.2\" y=\"7.2\"/>\r\n  </clipPath>\r\n  <clipPath id=\"p1c743f1859\">\r\n   <rect height=\"141.864407\" width=\"141.864407\" x=\"177.437288\" y=\"7.2\"/>\r\n  </clipPath>\r\n  <clipPath id=\"p7492b848b9\">\r\n   <rect height=\"141.864407\" width=\"141.864407\" x=\"347.674576\" y=\"7.2\"/>\r\n  </clipPath>\r\n  <clipPath id=\"p20b63ac6a6\">\r\n   <rect height=\"141.864407\" width=\"141.864407\" x=\"517.911864\" y=\"7.2\"/>\r\n  </clipPath>\r\n  <clipPath id=\"pa8bed83680\">\r\n   <rect height=\"141.864407\" width=\"141.864407\" x=\"688.149153\" y=\"7.2\"/>\r\n  </clipPath>\r\n  <clipPath id=\"pd9e0547177\">\r\n   <rect height=\"141.864407\" width=\"141.864407\" x=\"858.386441\" y=\"7.2\"/>\r\n  </clipPath>\r\n  <clipPath id=\"p8b5e4db12c\">\r\n   <rect height=\"141.864407\" width=\"141.864407\" x=\"1028.623729\" y=\"7.2\"/>\r\n  </clipPath>\r\n  <clipPath id=\"p02e33c91c4\">\r\n   <rect height=\"141.864407\" width=\"141.864407\" x=\"1198.861017\" y=\"7.2\"/>\r\n  </clipPath>\r\n  <clipPath id=\"p19815d34ca\">\r\n   <rect height=\"141.864407\" width=\"141.864407\" x=\"1369.098305\" y=\"7.2\"/>\r\n  </clipPath>\r\n  <clipPath id=\"pcba879d3ca\">\r\n   <rect height=\"141.864407\" width=\"141.864407\" x=\"1539.335593\" y=\"7.2\"/>\r\n  </clipPath>\r\n </defs>\r\n</svg>\r\n",
      "image/png": "[encoded data removed]"
     },
     "metadata": {
      "needs_background": "light"
     }
    }
   ],
   "source": [
    "NUM_SAMPLES = 10\n",
    "\n",
    "image_batch, _ = next(iter(train_dataset))\n",
    "image_batch = image_batch[:NUM_SAMPLES]\n",
    "\n",
    "print(\"quantized:\")\n",
    "showSeq(image_batch, (image_width, image_height), NUM_SAMPLES)\n",
    "print(\"unquantized\")\n",
    "showSeq(image_batch, (image_width, image_height), NUM_SAMPLES, cmap='gray')"
   ]
  },
  {
   "cell_type": "markdown",
   "metadata": {
    "id": "Z0hzukDBgVom"
   },
   "source": [
    "## Masking\n",
    "\n",
    "The look-ahead mask is used to mask the future tokens in a sequence. In other words, the mask indicates which entries should not be used.\n",
    "\n",
    "e.g. If we predict the third token, we use only the first and second token as reference. \n",
    "All future tokens will be masked in the seöf-attention by subtracting a very big number from the corresponding attention logits."
   ]
  },
  {
   "cell_type": "code",
   "execution_count": 9,
   "metadata": {
    "execution": {
     "iopub.execute_input": "2020-11-02T02:26:25.206009Z",
     "iopub.status.busy": "2020-11-02T02:26:25.205344Z",
     "iopub.status.idle": "2020-11-02T02:26:25.207194Z",
     "shell.execute_reply": "2020-11-02T02:26:25.207586Z"
    },
    "id": "dVxS8OPI9uI0"
   },
   "outputs": [],
   "source": [
    "def create_look_ahead_mask(size_q, size_k):\n",
    "  mask = 1 - tf.linalg.band_part(tf.ones((size_q, size_k)), -1, 0)\n",
    "  return mask  # (seq_len, seq_len)"
   ]
  },
  {
   "cell_type": "code",
   "execution_count": 10,
   "metadata": {},
   "outputs": [
    {
     "output_type": "stream",
     "name": "stdout",
     "text": [
      "tf.Tensor(\n[[0. 1. 1. 1. 1.]\n [0. 0. 1. 1. 1.]\n [0. 0. 0. 1. 1.]\n [0. 0. 0. 0. 1.]\n [0. 0. 0. 0. 0.]], shape=(5, 5), dtype=float32)\n"
     ]
    }
   ],
   "source": [
    "print(create_look_ahead_mask(5, 5))"
   ]
  },
  {
   "cell_type": "markdown",
   "metadata": {
    "id": "xluDl5cXYy4y"
   },
   "source": [
    "## Scaled dot product attention\n",
    "\n",
    "The attention function used by the transformer takes three inputs: Q (query), K (key), V (value). The equation used to calculate the attention weights is:\n",
    "\n",
    "$$\\Large{Attention(Q, K, V) = softmax_k(\\frac{QK^T}{\\sqrt{d_k}}) V} $$\n",
    "\n",
    "We call the function Self-Attention if we use the same input for Q, K and V.\n",
    "\n",
    "The mask is applied by multiplying it with -1e9 (close to negative infinity) and subtracting it from the attention logits. The following softmax function will render the corresponding positions to zero or almost zero and thus ignore them."
   ]
  },
  {
   "cell_type": "code",
   "execution_count": 11,
   "metadata": {
    "execution": {
     "iopub.execute_input": "2020-11-02T02:26:25.222000Z",
     "iopub.status.busy": "2020-11-02T02:26:25.221312Z",
     "iopub.status.idle": "2020-11-02T02:26:25.223205Z",
     "shell.execute_reply": "2020-11-02T02:26:25.223597Z"
    },
    "id": "LazzUq3bJ5SH"
   },
   "outputs": [],
   "source": [
    "def scaled_dot_product_attention(q, k, v, mask):\n",
    "  \"\"\"Calculate the attention weights.\n",
    "  q, k, v must have matching leading dimensions.\n",
    "  k, v must have matching penultimate dimension, i.e.: seq_len_k = seq_len_v.\n",
    "  The mask has different shapes depending on its type(padding or look ahead) \n",
    "  but it must be broadcastable for addition.\n",
    "  \n",
    "  Args:\n",
    "    q: query shape == (..., seq_len_q, depth)\n",
    "    k: key shape == (..., seq_len_k, depth)\n",
    "    v: value shape == (..., seq_len_v, depth_v)\n",
    "    mask: Any value to create and use a lookahead mask. \n",
    "          Defaults to None.\n",
    "    \n",
    "  Returns:\n",
    "    output, attention_weights\n",
    "  \"\"\"\n",
    "\n",
    "  matmul_qk = tf.matmul(q, k, transpose_b=True)  # (..., seq_len_q, seq_len_k)\n",
    "  \n",
    "  # scale matmul_qk\n",
    "  dk = tf.cast(tf.shape(k)[-1], tf.float32)\n",
    "  scaled_attention_logits = matmul_qk / tf.math.sqrt(dk)\n",
    "\n",
    "  # add the mask to the scaled tensor.\n",
    "  if mask is not None:\n",
    "    mask = create_look_ahead_mask(tf.shape(q)[-2], tf.shape(k)[-2])\n",
    "    scaled_attention_logits += (mask * -1e9)  \n",
    "\n",
    "  # softmax is normalized on the last axis (seq_len_k) so that the scores\n",
    "  # add up to 1.\n",
    "  attention_weights = tf.nn.softmax(scaled_attention_logits, axis=-1)  # (..., seq_len_q, seq_len_k)\n",
    "\n",
    "  output = tf.matmul(attention_weights, v)  # (..., seq_len_q, depth_v)\n",
    "\n",
    "  return output, attention_weights"
   ]
  },
  {
   "cell_type": "code",
   "execution_count": 12,
   "metadata": {},
   "outputs": [
    {
     "output_type": "stream",
     "name": "stdout",
     "text": [
      "Attention weights are:\ntf.Tensor(\n[[1.000000e+00 0.000000e+00 0.000000e+00]\n [8.433274e-26 1.000000e+00 0.000000e+00]\n [8.433274e-26 8.433274e-26 1.000000e+00]], shape=(3, 3), dtype=float32)\nOutput is:\ntf.Tensor(\n[[1.000000e+01 0.000000e+00 0.000000e+00]\n [8.433274e-25 1.000000e+01 0.000000e+00]\n [8.433274e-25 8.433274e-25 1.000000e+01]], shape=(3, 3), dtype=float32)\n"
     ]
    }
   ],
   "source": [
    "temp_x = tf.constant([[10,0,0],\n",
    "                      [0,10,0],\n",
    "                      [0,0,10]], dtype=tf.float32)  # (3, 3)\n",
    "temp_mask = create_look_ahead_mask(3, 3)\n",
    "\n",
    "temp_out, temp_attn = scaled_dot_product_attention(\n",
    "      temp_x, temp_x, temp_x, temp_mask)\n",
    "print ('Attention weights are:')\n",
    "print (temp_attn)\n",
    "print ('Output is:')\n",
    "print (temp_out)"
   ]
  },
  {
   "cell_type": "markdown",
   "metadata": {
    "id": "kmzGPEy64qmA"
   },
   "source": [
    "## Multi-head attention\n",
    "\n",
    "Multi-head attention consists of four parts:\n",
    "*    Linear layers and split into heads.\n",
    "*    Scaled dot-product attention.\n",
    "*    Concatenation of heads.\n",
    "*    Final linear layer.\n",
    "\n",
    "Each multi-head attention block gets three inputs; Q (query), K (key), V (value). These are put through linear (Dense) layers and split up into multiple heads.\n",
    "\n",
    "The `scaled_dot_product_attention` defined above is applied to each head (broadcasted for efficiency). An appropriate mask must be used in the attention step.  The attention output for each head is then concatenated (using `tf.transpose`, and `tf.reshape`) and put through a final `Dense` layer.\n",
    "\n",
    "TODO: Use directly [MultiHeadAttention](https://www.tensorflow.org/api_docs/python/tf/keras/layers/MultiHeadAttention)"
   ]
  },
  {
   "cell_type": "code",
   "execution_count": 13,
   "metadata": {
    "execution": {
     "iopub.execute_input": "2020-11-02T02:26:25.319284Z",
     "iopub.status.busy": "2020-11-02T02:26:25.318566Z",
     "iopub.status.idle": "2020-11-02T02:26:25.320448Z",
     "shell.execute_reply": "2020-11-02T02:26:25.320855Z"
    },
    "id": "BSV3PPKsYecw"
   },
   "outputs": [],
   "source": [
    "class MultiHeadAttention(tf.keras.layers.Layer):\n",
    "  def __init__(self, d_model, num_heads):\n",
    "    super(MultiHeadAttention, self).__init__()\n",
    "    self.num_heads = num_heads\n",
    "    self.d_model = d_model\n",
    "    \n",
    "    assert d_model % self.num_heads == 0\n",
    "    \n",
    "    self.depth = d_model // self.num_heads\n",
    "    \n",
    "    self.wq = tf.keras.layers.Dense(d_model)\n",
    "    self.wk = tf.keras.layers.Dense(d_model)\n",
    "    self.wv = tf.keras.layers.Dense(d_model)\n",
    "    \n",
    "    self.dense = tf.keras.layers.Dense(d_model)\n",
    "        \n",
    "  def split_heads(self, x, batch_size):\n",
    "    \"\"\"Split the last dimension into (num_heads, depth).\n",
    "    Transpose the result such that the shape is (batch_size, num_heads, seq_len, depth)\n",
    "    \"\"\"\n",
    "    x = tf.reshape(x, (batch_size, -1, self.num_heads, self.depth))\n",
    "    return tf.transpose(x, perm=[0, 2, 1, 3])\n",
    "    \n",
    "  def call(self, v, k, q, mask):\n",
    "    batch_size = tf.shape(q)[0]\n",
    "    \n",
    "    q = self.wq(q)  # (batch_size, seq_len, d_model)\n",
    "    k = self.wk(k)  # (batch_size, seq_len, d_model)\n",
    "    v = self.wv(v)  # (batch_size, seq_len, d_model)\n",
    "    \n",
    "    q = self.split_heads(q, batch_size)  # (batch_size, num_heads, seq_len_q, depth)\n",
    "    k = self.split_heads(k, batch_size)  # (batch_size, num_heads, seq_len_k, depth)\n",
    "    v = self.split_heads(v, batch_size)  # (batch_size, num_heads, seq_len_v, depth)\n",
    "    \n",
    "    # scaled_attention.shape == (batch_size, num_heads, seq_len_q, depth)\n",
    "    # attention_weights.shape == (batch_size, num_heads, seq_len_q, seq_len_k)\n",
    "    scaled_attention, attention_weights = scaled_dot_product_attention(\n",
    "        q, k, v, mask)\n",
    "    \n",
    "    scaled_attention = tf.transpose(scaled_attention, perm=[0, 2, 1, 3])  # (batch_size, seq_len_q, num_heads, depth)\n",
    "\n",
    "    concat_attention = tf.reshape(scaled_attention, \n",
    "                                  (batch_size, -1, self.d_model))  # (batch_size, seq_len_q, d_model)\n",
    "\n",
    "    output = self.dense(concat_attention)  # (batch_size, seq_len_q, d_model)\n",
    "        \n",
    "    return output, attention_weights"
   ]
  },
  {
   "cell_type": "code",
   "execution_count": 14,
   "metadata": {},
   "outputs": [
    {
     "output_type": "execute_result",
     "data": {
      "text/plain": [
       "(TensorShape([32, 50, 64]), TensorShape([32, 8, 50, 50]))"
      ]
     },
     "metadata": {},
     "execution_count": 14
    }
   ],
   "source": [
    "temp_mha = MultiHeadAttention(d_model=64, num_heads=8)\n",
    "y = tf.random.uniform((32, 50, 64))  # (batch_size, encoder_sequence, d_model)\n",
    "out, attn = temp_mha(y, k=y, q=y, mask=None)\n",
    "out.shape, attn.shape"
   ]
  },
  {
   "cell_type": "markdown",
   "metadata": {
    "id": "gBqzJXGfHK3X"
   },
   "source": [
    "## Point wise feed forward network\n",
    "\n",
    "Point wise feed forward network consists of two fully-connected layers with a ReLU activation in between.\n",
    "\n",
    "`TODO`: Use gelu activation function instead of relu."
   ]
  },
  {
   "cell_type": "code",
   "execution_count": 15,
   "metadata": {
    "execution": {
     "iopub.execute_input": "2020-11-02T02:26:25.364864Z",
     "iopub.status.busy": "2020-11-02T02:26:25.364204Z",
     "iopub.status.idle": "2020-11-02T02:26:25.366219Z",
     "shell.execute_reply": "2020-11-02T02:26:25.366676Z"
    },
    "id": "ET7xLt0yCT6Z"
   },
   "outputs": [],
   "source": [
    "def point_wise_feed_forward_network(d_model, dff):\n",
    "  return tf.keras.Sequential([\n",
    "      tf.keras.layers.Dense(dff, activation='relu'),  # (batch_size, seq_len, dff)\n",
    "      # tf.keras.activations.gelu(approximate=False), # tf-nightly\n",
    "      tf.keras.layers.Dense(d_model)  # (batch_size, seq_len, d_model)\n",
    "  ])"
   ]
  },
  {
   "cell_type": "markdown",
   "metadata": {
    "id": "7e7hKcxn6-zd"
   },
   "source": [
    "## Decoder"
   ]
  },
  {
   "cell_type": "markdown",
   "metadata": {
    "id": "QFv-FNYUmvpn"
   },
   "source": [
    "### Decoder Layer\n",
    "\n",
    "Each `DecoderLayer` consists of sublayers:\n",
    "\n",
    "-   Multi-head attention (with masking) \n",
    "-   Point wise feed forward networks. \n",
    "\n",
    "Each of these sublayers has a residual connection around it preceeded by a layer normalization and dropout. Residual connections help in avoiding the vanishing gradient problem in deep networks."
   ]
  },
  {
   "cell_type": "code",
   "execution_count": 16,
   "metadata": {
    "execution": {
     "iopub.execute_input": "2020-11-02T02:26:25.446072Z",
     "iopub.status.busy": "2020-11-02T02:26:25.445347Z",
     "iopub.status.idle": "2020-11-02T02:26:25.447785Z",
     "shell.execute_reply": "2020-11-02T02:26:25.447205Z"
    },
    "id": "ncyS-Ms3i2x_"
   },
   "outputs": [],
   "source": [
    "class DecoderLayer(tf.keras.layers.Layer):\n",
    "  def __init__(self, d_model, num_heads, dff, rate=0.1):\n",
    "    super(DecoderLayer, self).__init__()\n",
    "\n",
    "    self.mha = MultiHeadAttention(d_model, num_heads)\n",
    "    self.ffn = point_wise_feed_forward_network(d_model, dff)\n",
    "\n",
    "    self.layernorm1 = tf.keras.layers.LayerNormalization(epsilon=1e-6)\n",
    "    self.layernorm2 = tf.keras.layers.LayerNormalization(epsilon=1e-6)\n",
    "    \n",
    "    self.dropout1 = tf.keras.layers.Dropout(rate)\n",
    "    self.dropout2 = tf.keras.layers.Dropout(rate)\n",
    "    \n",
    "  def call(self, x, training, mask):\n",
    "    # t.shape == (batch_size, input_seq_len, d_model) \n",
    "    # for t in [x, out1, attn_out, res1, out2, ffn_out, res2]\n",
    "    \n",
    "    # masked multihead self-attention with residual connection\n",
    "    out1 = self.layernorm1(self.dropout1(x, training=training)) \n",
    "    attn_out, attn_weights = self.mha(out1, out1, out1, mask) \n",
    "    res1 = x + attn_out\n",
    "\n",
    "    # feed forward neural network with residual connection\n",
    "    out2 = self.layernorm2(self.dropout2(res1, training=training))\n",
    "    ffn_out = self.ffn(out2)\n",
    "    res2 = res1 + ffn_out\n",
    "    \n",
    "    return res2, attn_weights"
   ]
  },
  {
   "source": [
    "### Decoder Block\n",
    "\n",
    "The `Decoder` consists of:\n",
    "-   Input Embedding\n",
    "-   Positional Embedding\n",
    "-   N Decoder Layers\n",
    "\n",
    "The input is put through an token embedding which is summed with the positional embedding. \n",
    "The position of each token is simply encoded by their embedded position number, e.g. (0, 1, 2, 3, ...)\n",
    "\n",
    "The output of this summation is the input to the decoder layers. Afterwards the output is put through a dropout and normalization layer."
   ],
   "cell_type": "markdown",
   "metadata": {}
  },
  {
   "cell_type": "code",
   "execution_count": 17,
   "metadata": {},
   "outputs": [],
   "source": [
    "class DecoderBlock(tf.keras.layers.Layer):\n",
    "  def __init__(self, num_layers, d_model, num_heads, dff, vocab_size,\n",
    "               maximum_position_encoding, rate=0.1):\n",
    "    super(DecoderBlock, self).__init__()\n",
    "\n",
    "    self.d_model = d_model\n",
    "    self.num_layers = num_layers\n",
    "    \n",
    "    self.tok_embedding = tf.keras.layers.Embedding(vocab_size, d_model)\n",
    "    self.pos_embedding = tf.keras.layers.Embedding(maximum_position_encoding, d_model)                                            \n",
    "        \n",
    "    self.enc_layers = [DecoderLayer(d_model, num_heads, dff, rate) \n",
    "                       for _ in range(num_layers)]\n",
    "  \n",
    "    self.dropout = tf.keras.layers.Dropout(rate)\n",
    "    self.layer_norm = tf.keras.layers.LayerNormalization(epsilon=1e-6)\n",
    "        \n",
    "  def call(self, x, training, mask):\n",
    "\n",
    "    batch = tf.shape(x)[0]\n",
    "    seq_len = tf.shape(x)[1]\n",
    "    attention_weights = {}  \n",
    "\n",
    "    # token and positional embedding\n",
    "    positions = tf.expand_dims(tf.range(seq_len), axis=0)\n",
    "    x = self.tok_embedding(x)  # (batch_size, input_seq_len, d_model)\n",
    "    x = x + tf.tile(self.pos_embedding(positions), [batch, 1, 1])  # (batch_size, input_seq_len, d_model)\n",
    "    \n",
    "    # n * decoder layers\n",
    "    for i in range(self.num_layers):\n",
    "      x, attn_w = self.enc_layers[i](x, training, mask)\n",
    "      attention_weights['decoder_layer{}'.format(i+1)] = attn_w\n",
    "\n",
    "    # dropout and layer normalization\n",
    "    x = self.dropout(x, training=training)\n",
    "    x = self.layer_norm(x)\n",
    "              \n",
    "    return x, attention_weights  # (batch_size, input_seq_len, d_model)"
   ]
  },
  {
   "cell_type": "code",
   "execution_count": 18,
   "metadata": {
    "tags": []
   },
   "outputs": [
    {
     "output_type": "stream",
     "name": "stdout",
     "text": [
      "(32, 783, 16)\n"
     ]
    }
   ],
   "source": [
    "sample_encoder = DecoderBlock(num_layers=4, d_model=16, num_heads=2, \n",
    "                         dff=64, vocab_size=8,\n",
    "                         maximum_position_encoding=783)\n",
    "temp_input = tf.random.uniform((32, 783), dtype=tf.int64, minval=0, maxval=8)\n",
    "\n",
    "sample_encoder_output, _ = sample_encoder(temp_input, training=False, mask=True)\n",
    "\n",
    "print (sample_encoder_output.shape)  # (batch_size, input_seq_len, d_model)"
   ]
  },
  {
   "cell_type": "markdown",
   "metadata": {
    "id": "uERO1y54cOKq"
   },
   "source": [
    "## Create the Image Transformer \n",
    "\n",
    "The Image Transformer consists of the encoder and a final linear layer. The output of the decoder is the input to the linear layer.\n",
    "\n",
    "Return the output of the final layer, as well as the attention weights of each Decoder Layer."
   ]
  },
  {
   "cell_type": "code",
   "execution_count": 19,
   "metadata": {
    "execution": {
     "iopub.execute_input": "2020-11-02T02:26:26.763467Z",
     "iopub.status.busy": "2020-11-02T02:26:26.762728Z",
     "iopub.status.idle": "2020-11-02T02:26:26.764477Z",
     "shell.execute_reply": "2020-11-02T02:26:26.764889Z"
    },
    "id": "PED3bIpOYkBu"
   },
   "outputs": [],
   "source": [
    "class ImageTransformer(tf.keras.Model):\n",
    "  def __init__(self, num_layers, d_model, num_heads, dff,\n",
    "               vocab_size, max_pos_encoding, rate=0.1):\n",
    "    super(ImageTransformer, self).__init__()\n",
    "\n",
    "    self.decoder = DecoderBlock(num_layers, d_model, num_heads, dff, \n",
    "                           vocab_size, max_pos_encoding, rate)\n",
    "\n",
    "    self.final_layer = tf.keras.layers.Dense(vocab_size)\n",
    "    \n",
    "  def call(self, inp, tar, training, mask):\n",
    "\n",
    "    enc_output, attention_weights = self.decoder(inp, training, mask)  # (batch_size, inp_seq_len, d_model)    \n",
    "    \n",
    "    final_output = self.final_layer(enc_output)  # (batch_size, tar_seq_len, target_vocab_size)\n",
    "    \n",
    "    return final_output, attention_weights"
   ]
  },
  {
   "cell_type": "code",
   "execution_count": 20,
   "metadata": {},
   "outputs": [
    {
     "output_type": "execute_result",
     "data": {
      "text/plain": [
       "TensorShape([32, 783, 8])"
      ]
     },
     "metadata": {},
     "execution_count": 20
    }
   ],
   "source": [
    "sample_transformer = ImageTransformer(\n",
    "    num_layers=2, d_model=16, num_heads=2, dff=64,\n",
    "    vocab_size=8, max_pos_encoding=784)\n",
    "\n",
    "temp_input = tf.random.uniform((32, 783), dtype=tf.int64, minval=0, maxval=8)\n",
    "temp_target = tf.random.uniform((32, 783), dtype=tf.int64, minval=0, maxval=10)\n",
    "\n",
    "fn_out, _ = sample_transformer(temp_input, temp_target, training=False, mask=None)\n",
    "\n",
    "fn_out.shape  # (batch_size, tar_seq_len, target_vocab_size)"
   ]
  },
  {
   "cell_type": "markdown",
   "metadata": {
    "id": "zVjWCxFNcgbt"
   },
   "source": [
    "## Set hyperparameters\n",
    "To keep this example small and relatively fast, the values for *num_layers, d_model, and dff* have been reduced. "
   ]
  },
  {
   "cell_type": "code",
   "execution_count": 21,
   "metadata": {
    "execution": {
     "iopub.execute_input": "2020-11-02T02:26:27.701337Z",
     "iopub.status.busy": "2020-11-02T02:26:27.700717Z",
     "iopub.status.idle": "2020-11-02T02:26:27.702463Z",
     "shell.execute_reply": "2020-11-02T02:26:27.702871Z"
    },
    "id": "lnJn5SLA2ahP"
   },
   "outputs": [],
   "source": [
    "num_layers = 8\n",
    "d_model = 64\n",
    "dff = 256\n",
    "num_heads = 4\n",
    "\n",
    "vocab_size = len(centroids) # num_centroids\n",
    "max_sequence_length = image_width * image_height\n",
    "dropout_rate = 0.1"
   ]
  },
  {
   "cell_type": "markdown",
   "metadata": {
    "id": "GOmWW--yP3zx"
   },
   "source": [
    "## Optimizer\n",
    "\n",
    "Use the Adam optimizer with a custom learning rate scheduler according to the formula in the [paper](https://arxiv.org/abs/1706.03762).\n",
    "\n",
    "$$\\Large{lrate = d_{model}^{-0.5} * min(step{\\_}num^{-0.5}, step{\\_}num * warmup{\\_}steps^{-1.5})}$$\n"
   ]
  },
  {
   "cell_type": "code",
   "execution_count": 22,
   "metadata": {
    "execution": {
     "iopub.execute_input": "2020-11-02T02:26:27.709107Z",
     "iopub.status.busy": "2020-11-02T02:26:27.708470Z",
     "iopub.status.idle": "2020-11-02T02:26:27.710049Z",
     "shell.execute_reply": "2020-11-02T02:26:27.710587Z"
    },
    "id": "iYQdOO1axwEI"
   },
   "outputs": [],
   "source": [
    "class CustomSchedule(tf.keras.optimizers.schedules.LearningRateSchedule):\n",
    "  def __init__(self, d_model, warmup_steps=2000):\n",
    "    super(CustomSchedule, self).__init__()\n",
    "    \n",
    "    self.d_model = d_model\n",
    "    self.d_model = tf.cast(self.d_model, tf.float32)\n",
    "\n",
    "    self.warmup_steps = warmup_steps\n",
    "    \n",
    "  def __call__(self, step):\n",
    "    arg1 = tf.math.rsqrt(step)\n",
    "    arg2 = step * (self.warmup_steps ** -1.5)\n",
    "    \n",
    "    return tf.math.rsqrt(self.d_model) * tf.math.minimum(arg1, arg2)"
   ]
  },
  {
   "cell_type": "code",
   "execution_count": 23,
   "metadata": {
    "execution": {
     "iopub.execute_input": "2020-11-02T02:26:27.715008Z",
     "iopub.status.busy": "2020-11-02T02:26:27.714374Z",
     "iopub.status.idle": "2020-11-02T02:26:27.716089Z",
     "shell.execute_reply": "2020-11-02T02:26:27.716593Z"
    },
    "id": "7r4scdulztRx"
   },
   "outputs": [],
   "source": [
    "learning_rate = CustomSchedule(d_model)\n",
    "\n",
    "optimizer = tf.keras.optimizers.Adam(learning_rate, beta_1=0.9, beta_2=0.95, \n",
    "                                     epsilon=1e-9)"
   ]
  },
  {
   "cell_type": "markdown",
   "metadata": {
    "id": "YgkDE7hzo8r5"
   },
   "source": [
    "## Loss and metrics"
   ]
  },
  {
   "cell_type": "markdown",
   "metadata": {
    "id": "oxGJtoDuYIHL"
   },
   "source": [
    "Since the target sequences are padded, it is important to apply a padding mask when calculating the loss."
   ]
  },
  {
   "cell_type": "code",
   "execution_count": 24,
   "metadata": {
    "execution": {
     "iopub.execute_input": "2020-11-02T02:26:27.870775Z",
     "iopub.status.busy": "2020-11-02T02:26:27.870132Z",
     "iopub.status.idle": "2020-11-02T02:26:27.871766Z",
     "shell.execute_reply": "2020-11-02T02:26:27.872206Z"
    },
    "id": "MlhsJMm0TW_B"
   },
   "outputs": [],
   "source": [
    "loss_object = tf.keras.losses.SparseCategoricalCrossentropy(\n",
    "    from_logits=True, reduction='none')"
   ]
  },
  {
   "cell_type": "code",
   "execution_count": 25,
   "metadata": {
    "execution": {
     "iopub.execute_input": "2020-11-02T02:26:27.890929Z",
     "iopub.status.busy": "2020-11-02T02:26:27.890255Z",
     "iopub.status.idle": "2020-11-02T02:26:27.898638Z",
     "shell.execute_reply": "2020-11-02T02:26:27.899073Z"
    },
    "id": "phlyxMnm-Tpx"
   },
   "outputs": [],
   "source": [
    "def loss_function(real, pred):\n",
    "  loss_ = loss_object(real, pred)  \n",
    "  return tf.reduce_mean(loss_)\n",
    "train_loss = tf.keras.metrics.Mean(name='train_loss')"
   ]
  },
  {
   "cell_type": "markdown",
   "metadata": {
    "id": "aeHumfr7zmMa"
   },
   "source": [
    "## Training and checkpointing\n",
    "\n",
    "Create a new Image Transformer."
   ]
  },
  {
   "cell_type": "code",
   "execution_count": 26,
   "metadata": {
    "execution": {
     "iopub.execute_input": "2020-11-02T02:26:27.904511Z",
     "iopub.status.busy": "2020-11-02T02:26:27.903860Z",
     "iopub.status.idle": "2020-11-02T02:26:28.059188Z",
     "shell.execute_reply": "2020-11-02T02:26:28.059633Z"
    },
    "id": "UiysUa--4tOU"
   },
   "outputs": [
    {
     "output_type": "stream",
     "name": "stdout",
     "text": [
      "num_layers: 8, d_model: 64, num_heads: 4, dff: 256, vocab_size: 8, max_pos_encoding: 784, rate: 0.1\n"
     ]
    }
   ],
   "source": [
    "transformer = ImageTransformer(num_layers, d_model, num_heads, dff, vocab_size,\n",
    "                          max_pos_encoding=max_sequence_length, \n",
    "                          rate=dropout_rate)\n",
    "print(f'num_layers: {num_layers}, d_model: {d_model}, num_heads: {num_heads}, dff: {dff}, vocab_size: {vocab_size}, max_pos_encoding: {max_sequence_length}, rate: {dropout_rate}')"
   ]
  },
  {
   "cell_type": "markdown",
   "metadata": {
    "id": "Fzuf06YZp66w"
   },
   "source": [
    "Create the checkpoint path and the checkpoint manager. This will be used to save checkpoints every `n` epochs."
   ]
  },
  {
   "cell_type": "code",
   "execution_count": 27,
   "metadata": {
    "execution": {
     "iopub.execute_input": "2020-11-02T02:26:28.072057Z",
     "iopub.status.busy": "2020-11-02T02:26:28.071394Z",
     "iopub.status.idle": "2020-11-02T02:26:28.073614Z",
     "shell.execute_reply": "2020-11-02T02:26:28.073034Z"
    },
    "id": "hNhuYfllndLZ",
    "tags": []
   },
   "outputs": [],
   "source": [
    "checkpoint_path = \"./checkpoints/train\"\n",
    "\n",
    "ckpt = tf.train.Checkpoint(transformer=transformer,\n",
    "                           optimizer=optimizer)\n",
    "\n",
    "ckpt_manager = tf.train.CheckpointManager(ckpt, checkpoint_path, max_to_keep=5)"
   ]
  },
  {
   "source": [
    "If a checkpoint exists, restore the latest checkpoint. Skip if you want to retrain the model from the beginning."
   ],
   "cell_type": "markdown",
   "metadata": {}
  },
  {
   "cell_type": "code",
   "execution_count": 28,
   "metadata": {},
   "outputs": [],
   "source": [
    "if ckpt_manager.latest_checkpoint:\n",
    " ckpt.restore(ckpt_manager.latest_checkpoint)\n",
    " print ('Latest checkpoint restored!!')"
   ]
  },
  {
   "cell_type": "code",
   "execution_count": 29,
   "metadata": {
    "execution": {
     "iopub.execute_input": "2020-11-02T02:26:28.086043Z",
     "iopub.status.busy": "2020-11-02T02:26:28.085376Z",
     "iopub.status.idle": "2020-11-02T02:26:28.087078Z",
     "shell.execute_reply": "2020-11-02T02:26:28.087521Z"
    },
    "id": "iJwmp9OE29oj"
   },
   "outputs": [],
   "source": [
    "# The @tf.function trace-compiles train_step into a TF graph for faster\n",
    "# execution. The function specializes to the precise shape of the argument\n",
    "# tensors. To avoid re-tracing due to the variable sequence lengths or variable\n",
    "# batch sizes (the last batch is smaller), use input_signature to specify\n",
    "# more generic shapes.\n",
    "\n",
    "train_step_signature = [\n",
    "    tf.TensorSpec(shape=(None, None), dtype=tf.int64),\n",
    "    tf.TensorSpec(shape=(None), dtype=tf.int64),\n",
    "]\n",
    "\n",
    "@tf.function(input_signature=train_step_signature)\n",
    "def train_step(inp, tar):  \n",
    "  # add start of sequence token\n",
    "  tar_inp = inp[:, :-1]\n",
    "  tar_real = inp[:, 1:]\n",
    "  \n",
    "  with tf.GradientTape() as tape:\n",
    "    predictions, _ = transformer(tar_inp, tar, \n",
    "                                 training=True, \n",
    "                                 mask=True)\n",
    "    loss = loss_function(tar_real, predictions)\n",
    "\n",
    "  gradients = tape.gradient(loss, transformer.trainable_variables)    \n",
    "  optimizer.apply_gradients(zip(gradients, transformer.trainable_variables))\n",
    "  \n",
    "  train_loss(loss)"
   ]
  },
  {
   "cell_type": "code",
   "execution_count": 31,
   "metadata": {
    "execution": {
     "iopub.execute_input": "2020-11-02T02:26:28.094989Z",
     "iopub.status.busy": "2020-11-02T02:26:28.094309Z",
     "iopub.status.idle": "2020-11-02T04:16:37.754510Z",
     "shell.execute_reply": "2020-11-02T04:16:37.753863Z"
    },
    "id": "bbvmaKNiznHZ",
    "tags": []
   },
   "outputs": [
    {
     "output_type": "display_data",
     "data": {
      "text/plain": "HBox(children=(HTML(value='Training progress'), FloatProgress(value=0.0, max=10.0), HTML(value='')))",
      "application/vnd.jupyter.widget-view+json": {
       "version_major": 2,
       "version_minor": 0,
       "model_id": "24e9cfde7ec046ceab62da58ce2b4283"
      }
     },
     "metadata": {}
    },
    {
     "output_type": "display_data",
     "data": {
      "text/plain": "HBox(children=(HTML(value='Epoch 1'), FloatProgress(value=1.0, bar_style='info', layout=Layout(width='20px'), …",
      "application/vnd.jupyter.widget-view+json": {
       "version_major": 2,
       "version_minor": 0,
       "model_id": "e8d912ef71e24880a32f4cf3c6f74a48"
      }
     },
     "metadata": {}
    },
    {
     "output_type": "stream",
     "name": "stdout",
     "text": [
      "\n"
     ]
    },
    {
     "output_type": "display_data",
     "data": {
      "text/plain": "HBox(children=(HTML(value='Epoch 2'), FloatProgress(value=1.0, bar_style='info', layout=Layout(width='20px'), …",
      "application/vnd.jupyter.widget-view+json": {
       "version_major": 2,
       "version_minor": 0,
       "model_id": "1bf27718df804d6a8c5e0a2431f06a78"
      }
     },
     "metadata": {}
    },
    {
     "output_type": "stream",
     "name": "stdout",
     "text": [
      "\n"
     ]
    },
    {
     "output_type": "display_data",
     "data": {
      "text/plain": "HBox(children=(HTML(value='Epoch 3'), FloatProgress(value=1.0, bar_style='info', layout=Layout(width='20px'), …",
      "application/vnd.jupyter.widget-view+json": {
       "version_major": 2,
       "version_minor": 0,
       "model_id": "282d04ae56d84ccdb65bcb49ef49ebc5"
      }
     },
     "metadata": {}
    },
    {
     "output_type": "stream",
     "name": "stdout",
     "text": [
      "\n"
     ]
    },
    {
     "output_type": "display_data",
     "data": {
      "text/plain": "HBox(children=(HTML(value='Epoch 4'), FloatProgress(value=1.0, bar_style='info', layout=Layout(width='20px'), …",
      "application/vnd.jupyter.widget-view+json": {
       "version_major": 2,
       "version_minor": 0,
       "model_id": "227700c329724f8ca192a2cf86d46355"
      }
     },
     "metadata": {}
    },
    {
     "output_type": "stream",
     "name": "stdout",
     "text": [
      "\n"
     ]
    },
    {
     "output_type": "display_data",
     "data": {
      "text/plain": "HBox(children=(HTML(value='Epoch 5'), FloatProgress(value=1.0, bar_style='info', layout=Layout(width='20px'), …",
      "application/vnd.jupyter.widget-view+json": {
       "version_major": 2,
       "version_minor": 0,
       "model_id": "943c7de516824a378787108e3df19a61"
      }
     },
     "metadata": {}
    },
    {
     "output_type": "stream",
     "name": "stdout",
     "text": [
      "\n"
     ]
    },
    {
     "output_type": "display_data",
     "data": {
      "text/plain": "HBox(children=(HTML(value='Epoch 6'), FloatProgress(value=1.0, bar_style='info', layout=Layout(width='20px'), …",
      "application/vnd.jupyter.widget-view+json": {
       "version_major": 2,
       "version_minor": 0,
       "model_id": "eb704ccdecff4a5c9b68971120fdb10f"
      }
     },
     "metadata": {}
    },
    {
     "output_type": "stream",
     "name": "stdout",
     "text": [
      "\n"
     ]
    },
    {
     "output_type": "display_data",
     "data": {
      "text/plain": "HBox(children=(HTML(value='Epoch 7'), FloatProgress(value=1.0, bar_style='info', layout=Layout(width='20px'), …",
      "application/vnd.jupyter.widget-view+json": {
       "version_major": 2,
       "version_minor": 0,
       "model_id": "1247edee25774a6d9a6f3abe410a8863"
      }
     },
     "metadata": {}
    },
    {
     "output_type": "stream",
     "name": "stdout",
     "text": [
      "\n"
     ]
    },
    {
     "output_type": "display_data",
     "data": {
      "text/plain": "HBox(children=(HTML(value='Epoch 8'), FloatProgress(value=1.0, bar_style='info', layout=Layout(width='20px'), …",
      "application/vnd.jupyter.widget-view+json": {
       "version_major": 2,
       "version_minor": 0,
       "model_id": "913042768ada47128869d0d280548c1a"
      }
     },
     "metadata": {}
    },
    {
     "output_type": "stream",
     "name": "stdout",
     "text": [
      "\n"
     ]
    },
    {
     "output_type": "display_data",
     "data": {
      "text/plain": "HBox(children=(HTML(value='Epoch 9'), FloatProgress(value=1.0, bar_style='info', layout=Layout(width='20px'), …",
      "application/vnd.jupyter.widget-view+json": {
       "version_major": 2,
       "version_minor": 0,
       "model_id": "432f706903ee4281bac38a936b457f51"
      }
     },
     "metadata": {}
    },
    {
     "output_type": "stream",
     "name": "stdout",
     "text": [
      "\n"
     ]
    },
    {
     "output_type": "display_data",
     "data": {
      "text/plain": "HBox(children=(HTML(value='Epoch 10'), FloatProgress(value=1.0, bar_style='info', layout=Layout(width='20px'),…",
      "application/vnd.jupyter.widget-view+json": {
       "version_major": 2,
       "version_minor": 0,
       "model_id": "7154ed17be8940d18c363fa006422044"
      }
     },
     "metadata": {}
    },
    {
     "output_type": "stream",
     "name": "stdout",
     "text": [
      "\n",
      "\n"
     ]
    }
   ],
   "source": [
    "EPOCHS = 10\n",
    "\n",
    "epoch_pb = tqdm(range(EPOCHS), desc=f'Training progress')\n",
    "for epoch in epoch_pb:  \n",
    "  train_loss.reset_states()\n",
    "  \n",
    "  batch_pb = tqdm(enumerate(train_dataset), desc=f'Epoch {epoch+1}')\n",
    "  for (batch, (inp, tar)) in batch_pb:\n",
    "    train_step(inp, tar)\n",
    "    batch_pb.set_postfix_str(f'Loss: {train_loss.result():.4f}, Learning rate: {optimizer._decayed_lr(tf.float32):.5f}')\n",
    "      \n",
    "  if (epoch + 1) % 1 == 0:\n",
    "    ckpt_save_path = ckpt_manager.save()"
   ]
  },
  {
   "source": [
    "## Evaluate\n",
    "Remove half of the image values and restore them iteratively by the outputs of the image transformer."
   ],
   "cell_type": "markdown",
   "metadata": {}
  },
  {
   "cell_type": "code",
   "execution_count": 32,
   "metadata": {
    "execution": {
     "iopub.execute_input": "2020-11-02T04:16:37.762810Z",
     "iopub.status.busy": "2020-11-02T04:16:37.762085Z",
     "iopub.status.idle": "2020-11-02T04:16:37.764376Z",
     "shell.execute_reply": "2020-11-02T04:16:37.763905Z"
    },
    "id": "5buvMlnvyrFm"
   },
   "outputs": [],
   "source": [
    "eval_step_signature = [\n",
    "    tf.TensorSpec(shape=(None, None), dtype=tf.int64),\n",
    "    tf.TensorSpec(shape=(None), dtype=tf.int64),\n",
    "]\n",
    "\n",
    "@tf.function(input_signature=eval_step_signature)\n",
    "def call_transformer(inp, tar):\n",
    "    return transformer(inp, tar, training=False, mask=True)\n",
    "\n",
    "def evaluate(inp_sequence):\n",
    "\n",
    "  # remove half of the input \n",
    "  idx = int(inp_sequence.shape[-1] / 2) \n",
    "  seq = inp_sequence[:, :idx]\n",
    "\n",
    "  # create target and transform to batched shape\n",
    "  target = tf.expand_dims(tf.cast([0], dtype=tf.int64), axis=0)\n",
    "  target = tf.tile(target, [seq.shape[0], 1])\n",
    "\n",
    "  for _ in tqdm(range(idx)):\n",
    "    logits, _ = call_transformer(seq, target)\n",
    "    # apply softmax on the logits and return the result\n",
    "    predictions = tf.random.categorical(logits[:, -1], 1, dtype=tf.int64)\n",
    "    # append prediction\n",
    "    seq = tf.concat([seq, predictions], axis=-1)\n",
    "\n",
    "  return seq\n",
    "\n",
    "def process_batch(inp_sequence):\n",
    "  showSeq(inp_sequence, (image_width, image_height), inp_sequence.shape[0], cmap='gray')\n",
    "  result_seq = evaluate(inp_sequence)\n",
    "  showSeq(result_seq, (image_width, image_height), inp_sequence.shape[0], cmap='gray')"
   ]
  },
  {
   "cell_type": "code",
   "execution_count": 33,
   "metadata": {
    "execution": {
     "iopub.execute_input": "2020-11-02T04:16:37.785148Z",
     "iopub.status.busy": "2020-11-02T04:16:37.784487Z",
     "iopub.status.idle": "2020-11-02T04:16:39.025891Z",
     "shell.execute_reply": "2020-11-02T04:16:39.025281Z"
    },
    "id": "YsxrAlvFG8SZ",
    "tags": []
   },
   "outputs": [
    {
     "output_type": "display_data",
     "data": {
      "text/plain": "<Figure size 2160x216 with 10 Axes>",
      "image/svg+xml": "<?xml version=\"1.0\" encoding=\"utf-8\" standalone=\"no\"?>\r\n<!DOCTYPE svg PUBLIC \"-//W3C//DTD SVG 1.1//EN\"\r\n  \"http://www.w3.org/Graphics/SVG/1.1/DTD/svg11.dtd\">\r\n<!-- Created with matplotlib (https://matplotlib.org/) -->\r\n<svg height=\"156.264407pt\" version=\"1.1\" viewBox=\"0 0 1688.4 156.264407\" width=\"1688.4pt\" xmlns=\"http://www.w3.org/2000/svg\" xmlns:xlink=\"http://www.w3.org/1999/xlink\">\r\n <metadata>\r\n  <rdf:RDF xmlns:cc=\"http://creativecommons.org/ns#\" xmlns:dc=\"http://purl.org/dc/elements/1.1/\" xmlns:rdf=\"http://www.w3.org/1999/02/22-rdf-syntax-ns#\">\r\n   <cc:Work>\r\n    <dc:type rdf:resource=\"http://purl.org/dc/dcmitype/StillImage\"/>\r\n    <dc:date>2020-12-15T14:03:59.512224</dc:date>\r\n    <dc:format>image/svg+xml</dc:format>\r\n    <dc:creator>\r\n     <cc:Agent>\r\n      <dc:title>Matplotlib v3.3.3, https://matplotlib.org/</dc:title>\r\n     </cc:Agent>\r\n    </dc:creator>\r\n   </cc:Work>\r\n  </rdf:RDF>\r\n </metadata>\r\n <defs>\r\n  <style type=\"text/css\">*{stroke-linecap:butt;stroke-linejoin:round;}</style>\r\n </defs>\r\n <g id=\"figure_1\">\r\n  <g id=\"patch_1\">\r\n   <path d=\"M 0 156.264407 \r\nL 1688.4 156.264407 \r\nL 1688.4 0 \r\nL 0 0 \r\nz\r\n\" style=\"fill:none;\"/>\r\n  </g>\r\n  <g id=\"axes_1\">\r\n   <g clip-path=\"url(#p9d50bb6c03)\">\r\n    <image height=\"142\" id=\"image20bacbc647\" transform=\"scale(1 -1)translate(0 -142)\" width=\"142\" x=\"7.2\" xlink:href=\"data:image/png;base64,\r\niVBORw0KGgoAAAANSUhEUgAAAI4AAACOCAYAAADn/TAIAAAEGElEQVR4nO3dMUokQRSH8bfLXkJTAwNPoGBmJmhiYOLEghcQFEwUvIAwsSYGJgpmZoKewEDQVI/h5tYbtvrr3u6Z8fuFj2mnHf4Ur2tqqn5FxFdIDf0e+gY0mwyOEIMjxOAIMThCDI4QgyPE4AgxOEIMjhCDI8TgCDE4QgyOEIMjxOAIMThCDI4QgyPkT9d/cGlpqep17+/vXb/13Kj9DCOG+xwdcYQYHCEGR4jBEfIrWvwg7/Lysqjt7e1VXfv8/FzU3t7e0tfe3NwUtZeXl6I2Lw13k8/1+Pi4qJ2dnXV+T9854ggxOEIMjhCDI6RVc/z1VXdp1ghnVldX6a1ERMTn52dRW19fL2rT1ETXNsLZ/xYRsb+/X9Tu7u7a39g/OOIIMThCDI4QgyPE4AhptR4ne1rKnozu7++LWjYtPmkdyu7ublE7ODgoagsLC0Ut+xoju+/sSabrp6/s/9vY2Ki69uHhIa338QSVccQRYnCEGBwhBkdIq68ctra2itrt7W1Ry6bLFxcX6dtGRN5orqysFLXxeFzUsiY6k611ub6+Lmq1TfTHx0fVvWTN+9raWtV79MURR4jBEWJwhBgcIa2a48zT01NRy2aTr66uitpoNOryViIib6JPTk6KWptF9ufn50VtZ2cHv8dQC9CbcMQRYnCEGBwhBkdI581x7WxyJmuYI/5P0/zd0dFRUatdutFGXw8JXXPEEWJwhBgcIQZHSOfNcaZNwxwx+VeM311cXFS9LlsakWkzw1xre3u7qA21jrgJRxwhBkeIwRFicIT00hxnsob58PAwfW3b7U+mmc2xfhSDI8TgCDE4QgZrjpvI1g1nO1hsbm4Wta4b69qNvbNdKLIlGdms+FD7+jXhiCPE4AgxOEIMjpCZaI5nUdbQPz4+FjV3q9CPYnCEGBwhBkeIzXGP2jTM2fKLCPc51owxOEIMjhCDI8TmeGC1W99NOp5yqBllRxwhBkeIwRFicIS0OiFv2mQ/8sv2G359fS1qQ+0jnJ0emDXHk9ZOZ7PRfZyr7ogjxOAIMThCDI6QuZo5zvYqPj09rbp2qCOlM7Un6UUMd2CII44QgyPE4AgxOELmauY427+4dgeLrJbtQpEd2pHNRLc5ZrqJ5eXlzv9mDUccIQZHiMERYnCEzNXMca0mM7NU7RZtmWy/50nLKoba2cIRR4jBEWJwhBgcIQZHyFx95VAre7oZj8dV12bHN9Z+rdHkOMlp54gjxOAIMThCDI6QH/mVQx/a7PeXydYBRUSMRqNmN9YRRxwhBkeIwRFicITYHPcoa5hr9fEL0iYccYQYHCEGR4jBEWJzLMQRR4jBEWJwhBgcIQZHiMERYnCEGBwhBkeIwRFicIQYHCEGR4jBEWJwhBgcIQZHiMERYnCE/AXOqwvj+jiOogAAAABJRU5ErkJggg==\" y=\"-7.064407\"/>\r\n   </g>\r\n  </g>\r\n  <g id=\"axes_2\">\r\n   <g clip-path=\"url(#p1c974f3b59)\">\r\n    <image height=\"142\" id=\"image20642c6354\" transform=\"scale(1 -1)translate(0 -142)\" width=\"142\" x=\"177.437288\" xlink:href=\"data:image/png;base64,\r\niVBORw0KGgoAAAANSUhEUgAAAI4AAACOCAYAAADn/TAIAAAD40lEQVR4nO3dMUokQRSH8ZrFS5gJCgbiAQzMzARjE72AR1AQQcELeAITA5MRJjMT9ABiICgY6TF2g412681u+XXPVE3z/cKH47TDn8ebtrpqlFL6maRv+lH7ArSYDI4QgyPE4AgxOEIMjhCDI8TgCDE4QgyOEIMjxOAIMThCDI4QgyPE4AgxOEIMjhCDI2Sp9gX0aW9vL6ttbm5mtfPz85lfy9fXV1a7urrKajc3N1nt/f19JtfUJzuOEIMjxOAIMThCRmlBH8g7Pj7OavMYevsWDdH39/dZ7fDwcB6XU8yOI8TgCDE4QgyOkIUYjocyCHdxfX0d1msNzXYcIQZHiMERYnCEGBwhTX2rir49pdT/N6inp6esNplMslq0VmZ/f7/oPdbX17PawcFB0Wu7Go1GM38PO44QgyPE4AgxOEKaGo4fHx/D+tbWVtHrW1/bsrq6mtUeHh6y2vLycqf3iT6H7e3trNZlUbwdR4jBEWJwhBgcIU0Nx5+fn2G9dFiM1qy0tsj7b/MamPv+bOw4QgyOEIMjxOAIqbbNSbSEousAeHZ21un1NUR3b6O7vNHAnFL5Z7a2tva9C/sPO44QgyPE4AgxOEIGtQfgUEQD88fHR/izpcPxyspKVovuWpcutbDjCDE4QgyOEIMjZFDDcbR04O3tLatFd5hb35T68vIyrI/H46LXR0N09HDhxcVF0e+z4wgxOEIMjhCDI6TacLy7u9v774we3Itqr6+vWa10KKzl5eWl9iX8wY4jxOAIMThCDI6QasNx6Q4U+m3aBtmlou3runwhsOMIMThCDI4QgyNkUMsqSj0/P9e+hH+K1gK3xo4jxOAIMThCDI6QwQ/H0Z6/d3d3Fa6k3MbGRlZr7U67HUeIwRFicIQYHCHVhuOTk5OsNouzxKNDQFoyizPVoyUUfZ/OZ8cRYnCEGBwhBkdIteF4XksbdnZ2slqXLcxKRe8R3RE+Ojrq9X1Tigfhvv8+O44QgyPE4AgxOEKaOiGv6/HRpUqPV45E25+V7rwxi6URtU4FtOMIMThCDI4QgyNk8GuOI9Gev9F+yC2ZtltFreOx7ThCDI4QgyPE4AgxOEKa+pfDtO09ojO3u55R3opoYflkMslqrW3gbccRYnCEGBwhBkdIU8PxNNHQ3NLAHK3viZ4gvb29zWrRqTCtH/OYkh1HkMERYnCEGBwhCzEcR6KB+fT0NKtFTzVGa1ui4xZLRU+ltr7PYFd2HCEGR4jBEWJwhCzscKy67DhCDI4QgyPE4AgxOEIMjhCDI8TgCDE4QgyOEIMjxOAIMThCDI4QgyPE4AgxOEIMjhCDI+QXV/bYbgLywFIAAAAASUVORK5CYII=\" y=\"-7.064407\"/>\r\n   </g>\r\n  </g>\r\n  <g id=\"axes_3\">\r\n   <g clip-path=\"url(#p92e9b5111d)\">\r\n    <image height=\"142\" id=\"image2b88eb0922\" transform=\"scale(1 -1)translate(0 -142)\" width=\"142\" x=\"347.674576\" xlink:href=\"data:image/png;base64,\r\niVBORw0KGgoAAAANSUhEUgAAAI4AAACOCAYAAADn/TAIAAADXklEQVR4nO3dMUpjQQDH4XHZS5hK0EsoeAUrC5tYC17ATgSFXMALaGOrYGdn4RkEBSs9xm6x5czCyz8v7yX6feVgdIQfwxgn8zZKKX8KzOnX2BNgPQmHiHCICIeIcIgIh4hwiAiHiHCI/B57Autme3u7Gru9va3GZrNZNfbw8LCUOY3BikNEOESEQ0Q4RDaKYxVzubm5qcam02mn1+7s7FRj7+/vC89pDFYcIsIhIhwiwiEiHCLCISIcIsIhIhwijlUM6OjoqBq7uroaYSaLs+IQEQ4R4RARDhGb4zm9vr7Grz09Pa3GbI75UYRDRDhEhENEOEQcVu/B5+dnNba5uVmNfX19VWOTyWQpc1o2Kw4R4RARDhHhEBEOEeEQEQ4R4RARDhHncUZ2cHBQja3DXYFWHCLCISIcIsIhsrab49ZdfK2D5K3D4K0N6dnZWTyX1hGKrl93eHhYjdkc820Jh4hwiAiHyGhnjltPYWldA1JKKZeXl8uezsprXa5dyngXbFtxiAiHiHCICIfIIJvj1kb4+fm5Guv6DuxP1Hp8YymlHB8fDzyTf6w4RIRDRDhEhEOk983xMjbCrVsePj4+5prX0HZ3d+PXvry8VGN7e3uLTKd3VhwiwiEiHCLCIdL7mePz8/NqrOtGuLUJLqWU/f39amyVntfd+oPg7e0t/n6z2WyR6QzCikNEOESEQ0Q4RHrfHC/ydBXWhxWHiHCICIeIcIj0vjlu3Q7ReqRg693k/73D/J2e1/1dWHGICIeIcIgIh8jaXuW26lpHRLoeL2ldK7dq17tZcYgIh4hwiAiHyCCb45OTk2rs/v5+iB89iNb55+vr62qs65V0W1tbi05p6aw4RIRDRDhEhENktHuOWw/xmE6nza9tvQu7jh/S63prR+v3nUwm/UysJ1YcIsIhIhwiwiEy2rGKeT64t+rXtrW0Nuqt36O1OX56elrGlHplxSEiHCLCISIcIsIhMtpfVXd3d9VY6xOfpZTy+PhYja3Svxe6at3t13ru+MXFxRDTWYgVh4hwiAiHiHCIjHYeh/VmxSEiHCLCISIcIsIhIhwiwiEiHCLCISIcIsIhIhwiwiEiHCLCISIcIsIhIhwiwiEiHCLCISIcIsIhIhwiwiEiHCLCISIcIsIh8hcaRJbr67/evgAAAABJRU5ErkJggg==\" y=\"-7.064407\"/>\r\n   </g>\r\n  </g>\r\n  <g id=\"axes_4\">\r\n   <g clip-path=\"url(#p0c95b5fdf8)\">\r\n    <image height=\"142\" id=\"image41925d22d2\" transform=\"scale(1 -1)translate(0 -142)\" width=\"142\" x=\"517.911864\" xlink:href=\"data:image/png;base64,\r\niVBORw0KGgoAAAANSUhEUgAAAI4AAACOCAYAAADn/TAIAAADzklEQVR4nO3dMUokQRxG8XLZS2gkKBiIB1AwMxM0NdFY8AKCgggKXkAw1sTARMETCHoAMVMw0mO4wW6wbH0u7ZueaW3fL/yjO73wKMqanp6xUspbkT7oR9cXoK/JcIQYjhDDEWI4QgxHiOEIMRwhhiPEcIQYjhDDEWI4QgxHiOEIMRwhhiPEcIQYjpCfXV/A36ampuJ8dna21dd5eHioZk9PT62+Rt+54ggxHCGGI8RwhHS2OU4b4bOzs/iz8/Pzw76ccnd3V83W19ermZvo31xxhBiOEMMRYjhCOtsc7+3tVbPJycn4s6urq9Xs6uqq0eukTXg6iT45Oalmj4+P1Wx3d7eaHR4eNrqWPnHFEWI4QgxHiOEIMRwhY2UEzwBMf9mkv6rSEX8ppUxPT1ezURz9397eVrP09kdX19clVxwhhiPEcIQYjpCRvOWQNoobGxvVLG0ySynl5uammi0uLjZ6nUFcX19Xs7Q5Tm9huDmWAsMRYjhCDEfIp/ok58LCQpy/vdWH2+lembZPcO/v7/Hv9p0rjhDDEWI4QgxHyKfaHL8nbXrTbRnphHlzc7OapRvd060f29vb1ez19bWapcem9J0rjhDDEWI4QgxHyEjuOR6VlZWVanZ5eVnN0gb3+fm5mqVbKAb5VGmfuOIIMRwhhiPEcIR8iZPjptImNW1m04Z5fHx8KNfUV644QgxHiOEIMRwhvTo5bmpnZ6eaHRwc4H8vPVz76OiomvXphNkVR4jhCDEcIYYjpFcnx21Lp85zc3PVbHl5uZo1vZ3j+Pi4mp2fn1ezz/b0C1ccIYYjxHCEGI6Qb3ly3PTe5EHuL06n0zMzM9UsPdu56Un0R66nba44QgxHiOEIMRwh33JznJ5MkR4Nl74HPT2fue1r+cgXpIziGhNXHCGGI8RwhBiOkG+5OU5OT0+rWdqQdvW0ipeXlzhPHyQcxXeju+IIMRwhhiPEcIR4z/EfFxcX1WxpaamatX37RZJOk9Oj5krJ3xSYTpOTQTbMrjhCDEeI4QgxHCGeHP/HILc8pA3q/v5+NUsftEun2GmjXkopExMTcf6v9H8Z5EN+rjhCDEeI4QgxHCFujluQPny3tbXV6HebPl85fUivlPe/cnvYXHGEGI4QwxFiOEIMR4h/VQ1JOuJfW1urZunRJ0l6u6KU7p4N6IojxHCEGI4QwxHi5liIK44QwxFiOEIMR4jhCDEcIYYjxHCEGI4QwxFiOEIMR4jhCDEcIYYjxHCEGI4QwxFiOEIMR4jhCDEcIYYjxHCEGI4QwxFiOEIMR4jhCPkFXP3XAsK4GT8AAAAASUVORK5CYII=\" y=\"-7.064407\"/>\r\n   </g>\r\n  </g>\r\n  <g id=\"axes_5\">\r\n   <g clip-path=\"url(#p91cd1c325b)\">\r\n    <image height=\"142\" id=\"image4355e28987\" transform=\"scale(1 -1)translate(0 -142)\" width=\"142\" x=\"688.149153\" xlink:href=\"data:image/png;base64,\r\niVBORw0KGgoAAAANSUhEUgAAAI4AAACOCAYAAADn/TAIAAADEklEQVR4nO3dMU7jQBiGYWfFJaBCokQcAA4BDQUNnAMJGiS4CLQ0cAg4AEoHLRyDLXa7GVaTz8k6dp6nHGFkpFejH2vizLqu++5gQb+GvgHGSThEhENEOES2hr6B1NXVVbF2e3vbdO319XWxdnd31/ueNokdh4hwiAiHiHCIzLqRPjk+Pj4u1p6enpqunc1my76djWPHISIcIsIhIhwio31yPJ/P42trg/Xz83Of29k4dhwiwiEiHCLCITLaJ8c1rUctvr6+irWdnZ2V3NNU2XGICIeIcIgIh8ikhuOa7++2P+/19bVYOzo6WvbtTIYdh4hwiAiHiHCITH449sG91bDjEBEOEeEQEQ4R4RCZ/H9VNff398Xa+fl507UnJyfF2iYedLfjEBEOEeEQEQ6RjRyOaz4/P4u17e3tYs25nT/sOESEQ0Q4RIRDxHD8197eXrH2/v7edO3Dw0OxdnFx0fue1pkdh4hwiAiHiHCIGI7/oc9LuKf+hNmOQ0Q4RIRDRDhEDMcLenl5KdYODw+brp3SE2Y7DhHhEBEOEeEQMRwvqHb8ojb0tg7MY/2Anx2HiHCICIeIcIgYjpegz3sGx/pNNnYcIsIhIhwiwiFiOF6RPueVx/BibjsOEeEQEQ4R4RAxHP9Hfd6vXBuYu264odmOQ0Q4RIRDRDhEDMcrUjubvL+/X6y1Pk3+yVBnlu04RIRDRDhEhENka+gbaFEbNM/Ozoq1t7e3Yu3y8rJY293dXcp9/UvtC0RW4eDgoFgzHLO2hENEOESEQ2StnhzXjh10XfvRg0001PuU7ThEhENEOESEQ2Sw4bjPB9YWURseW7/5rubx8bHp505PT+Nra+bzeXX94+Mj/p192HGICIeIcIgIh8hgw3Hr+4J/Uhtwb25uirWhhseps+MQEQ4R4RARDhHhEFmr8ziMhx2HiHCICIeIcIgIh4hwiAiHiHCICIeIcIgIh4hwiAiHiHCICIeIcIgIh4hwiAiHiHCICIeIcIgIh4hwiAiHiHCICIeIcIgIh4hwiAiHiHCICIeIcIj8BvXKmhYgCs4hAAAAAElFTkSuQmCC\" y=\"-7.064407\"/>\r\n   </g>\r\n  </g>\r\n  <g id=\"axes_6\">\r\n   <g clip-path=\"url(#p6d5564f29e)\">\r\n    <image height=\"142\" id=\"imagec9c2050ce8\" transform=\"scale(1 -1)translate(0 -142)\" width=\"142\" x=\"858.386441\" xlink:href=\"data:image/png;base64,\r\niVBORw0KGgoAAAANSUhEUgAAAI4AAACOCAYAAADn/TAIAAADoElEQVR4nO3dMUorWxzH8ZPH3YS2FhauQMEVBLRJYaO1SxAUbAy4AcFaGwsbBVcg6ALE0laX4Sve7c65j/E3c40TPp/yjzFTfDmcTCYzk1LKZ4Ev+mfRB8A4CYeIcIgIh4hwiAiHiHCICIeIcIgIh4hwiAiHiHCICIeIcIgIh4hwiAiHiHCICIeIcIgIh4hwiAiHyK9FH0BqbW2tml1fX1ezzc3NQd/3+fm5mj08PFSzm5ubavb29jbosSySFYeIcIgIh4hwiEzKCO5WsbOzU82Ojo6q2dAb4T4+Pj6q2fb2djUb64bZikNEOESEQ0Q4RIRDZBSfqj4/f/whdtL164r5fP4dh9OLFYeIcIgIh4hwiNgc/9b6iuDi4qKaTafTajb0Vx27u7vV7P7+ftD36MuKQ0Q4RIRDRDhERnux+tBWVlY6/d3W1lY1a10vdHd3Fx/L5eVlNXt9fW3+7aKu57HiEBEOEeEQEQ4RZ46/qHVpxPn5eafXzmazara/v9/pta0z26WUsrq62un1Q7PiEBEOEeEQEQ4Rm+O/pHXLldvb22rWOkvc9Sx2KaVMJpOvHdhArDhEhENEOESEQ2TpN8cnJyfV7OXlpZr13aQuis0xoyIcIsIhIhwio7jmuHUWtuvlCC2tH7e1rund2NioZmPdRA/NikNEOESEQ0Q4REZx5vj4+LianZ2dxf+vz9nW1lNr9vb2Or12fX29mnXd5Lc+IJRSysHBQafXD82KQ0Q4RIRDRDhERrE5bnl/f69mXc/gjuFWaT+dFYeIcIgIh4hwiIx2c/z09FTNut5veNkfe/gdrDhEhENEOESEQ2S0m+Oh7y3c9RZtzjD/x4pDRDhEhENEOERGuzluXft7enpazfr8cK9lUXeH+GmsOESEQ0Q4RIRDZLSb466urq6qWZ8Nc+uSjMPDw2q27GeYrThEhENEOESEQ2TpN8etM8yPj4/VrM/t2PpsmFub99bDQn7aZtuKQ0Q4RIRDRDhEhENk6T9VddXnl6FdtZ5k07qXYetT2qKeL/4nVhwiwiEiHCLCIWJz/D9aN+aeTqfVbOhNdEtrY11KKfP5/K+/d4sVh4hwiAiHiHCI2Bx/Uev6nu94BGPrpt6lLO46HSsOEeEQEQ4R4RAZxXPHf5LWTbO73kh7NptVs9avSltniV2szlIQDhHhEBEOEWeOiVhxiAiHiHCICIeIcIgIh4hwiAiHiHCICIeIcIgIh4hwiAiHyL8cNcvJnhfJcAAAAABJRU5ErkJggg==\" y=\"-7.064407\"/>\r\n   </g>\r\n  </g>\r\n  <g id=\"axes_7\">\r\n   <g clip-path=\"url(#p7bd1e71337)\">\r\n    <image height=\"142\" id=\"image43c9e972b3\" transform=\"scale(1 -1)translate(0 -142)\" width=\"142\" x=\"1028.623729\" xlink:href=\"data:image/png;base64,\r\niVBORw0KGgoAAAANSUhEUgAAAI4AAACOCAYAAADn/TAIAAAD4klEQVR4nO3dP0okQRhA8XbZS2g6goF4AAVPIGhq4lzACwgKJgpewAtoMoGJwpxA0AOIgaCpHmM3MLM+oeZVT/Uf3i8sdKaFR1EzVlevNE3zr5EW9KfrC9AwGY4QwxFiOEIMR4jhCDEcIYYjxHCEGI4QwxFiOEIMR4jhCPnb9QXkmEwmydjm5mYytrW11er7zmazZOzj46PV9xgqZxwhhiPEcIQYjpCVpqM9x9GC9/z8PPzZo6OjZV9Otufn52RsPp8nY5eXlzUupzPOOEIMR4jhCDEcIVUWx9FC+PHxMRlbXV3Nfs3b29usn1tfX0/Gtre3s9+HihbRV1dXydjDw8PSr2UZnHGEGI4QwxFiOEKqLI5PT0+TsYuLi+zfjxbC0+kUX0/ut9Y1vrE+OztLxobwrbMzjhDDEWI4QgxHiOEIGcRm9be3t1ZfL9pwHn1Ku7u7S8ZOTk6SsZJ/YeR+uuzbJy1nHCGGI8RwhBiOkCqL4+Pj4xpv07por0w0Fv1LJfqbc/cbLfLvmK4Wzc44QgxHiOEIMRwhVRbHi2xCH6JogRodkVKyQb9vC2ZnHCGGI8RwhBiOkEFsqxiiaOvG7u5uMlZ6R2u0aK5xdqEzjhDDEWI4QgxHSJU7OZ+enpKxRfbpRkeG7OzsFF1TX5Te5Rr5+vpKxtbW1ope8ydnHCGGI8RwhBiOkEEccxKJzvYby5Ndbm5ukrHSI1faPk7FGUeI4QgxHCGGI2Sw2yoODw+Tsb6d6EBFp2T06Qk6TeOMI8hwhBiOEMMRUmVx/PLy0vprRqdBjGVxHJ2I8dvTcrpaNDvjCDEcIYYjxHCEVFkcv76+1nibUSs963lvby8Zc1uFqjMcIYYjxHCEVFkcR3uBDw4OkrH7+/vs14xOdIj2No/l2+SNjY2i339/f2/pSr454wgxHCGGI8RwhHS25zjaOhCdStE0+SdbRDf5RYvK6Ga++XyejHW1sN7f30/GSrdPtP2UQWccIYYjxHCEGI6QKqdV5IpOaWia7vbVRkeiXV9fJ2PRnupo8T+ZTJKx6MbCRZ6uF11jdJ6y5xyrFwxHiOEIMRwhvVoc/+bz8zMZG/tT93767Ya86XRa+Uq+OeMIMRwhhiPEcIQMYnEcbTNYZH9yX0TbRqLtHDWecFfKGUeI4QgxHCGGI8RwhAziU1VkGU+kyTGmT0YlnHGEGI4QwxFiOEIG+/SYGndZjn2BW8IZR4jhCDEcIYYjZLDfHKtbzjhCDEeI4QgxHCGGI8RwhBiOEMMRYjhCDEeI4QgxHCGGI8RwhBiOEMMRYjhCDEeI4QgxHCGGI8RwhBiOEMMR8h8JqeXf0MGsyQAAAABJRU5ErkJggg==\" y=\"-7.064407\"/>\r\n   </g>\r\n  </g>\r\n  <g id=\"axes_8\">\r\n   <g clip-path=\"url(#p9587916624)\">\r\n    <image height=\"142\" id=\"imagef332b84461\" transform=\"scale(1 -1)translate(0 -142)\" width=\"142\" x=\"1198.861017\" xlink:href=\"data:image/png;base64,\r\niVBORw0KGgoAAAANSUhEUgAAAI4AAACOCAYAAADn/TAIAAADeElEQVR4nO3dMUpjURiG4TjMJrTVTlyAgp2doI2t1oJL0CZgNqKtjdZ2gi7ASlCw0mXMLOD8M9z5jBPP9XnKH0Ju8XI4uTm5WZpMJr8m8I9+LPoC6JNwiAiHiHCICIeIcIgIh4hwiAiHiHCICIeIcIgIh4hwiAiHiHCICIeIcIgIh8jPRV/AZ1tdXW1ml5eXzWxzc7OZvb+/N7Pb29tmNp1Om9nLy8vQS+ySFYeIcIgIh4hwiCxNRvSDvL29vWZ2fX3dzKpN7+vr66D3qDbRlf39/WZ2c3Mz6LU9sOIQEQ4R4RARDpFRbY7v7++bWbWZPTs7a2az2WzQewzdgFfW1taaWa93mK04RIRDRDhEhENEOES6/VRVnbN5fn4e9Np5f7r5yFcdKysr8fsukhWHiHCICIeIcIh0e1h9fX09fu28b/NX52weHh6aWfX1x+npaTMb+vXHIllxiAiHiHCICIdIt5vjjY2N+LXVnd55HyQ/PDxsZtWd7d3d3WZmc8xoCYeIcIgIh0i3m+OPODg4aGbz3hwPvTtd3U2ujox8tUPtVhwiwiEiHCLCIdLt5vjx8TF+7c7OTjPrYUP6lVhxiAiHiHCICIdItz/Iq7y9vTWz5eXlQa+tfix3fHzczIbeYR77j/SsOESEQ0Q4RIRDZFSb4+rHbefn53N9j+qfZ56enprZyclJM6s26r0+SNuKQ0Q4RIRDRDhEuj1WUfnIUYtq01sdvxg6q1QP5u5hI1yx4hARDhHhEBEOkVFtjquNZnVsobqDW939PTo6ms+FjZAVh4hwiAiHiHCIjOpYRWXon4X0evZ3Uaw4RIRDRDhEhENk9JvjysXFRTOrnktc/ZHH1tbWp1xTb6w4RIRDRDhEhEPkW26OP3I3eXt7u5l9x0e+WXGICIeIcIgIh8i33BxXhj7pYt7HL3p9vrIVh4hwiAiHiHCI2Bz/xf84flG9x9XVVTP7ak+1sOIQEQ4R4RARDhHhEPGp6i+qrwPu7u6aWfXYlOqZgtPptJlV54CqZwXOZrM/XuciWHGICIeIcIgIh8iongE4b9W5mOqwerVhrr6aqGa9suIQEQ4R4RARDhF3jj/J2B+lYsUhIhwiwiEiHCI2x0SsOESEQ0Q4RIRDRDhEhENEOESEQ0Q4RIRDRDhEhENEOESEQ0Q4RIRDRDhEhENEOER+AyuV1UqvMpqIAAAAAElFTkSuQmCC\" y=\"-7.064407\"/>\r\n   </g>\r\n  </g>\r\n  <g id=\"axes_9\">\r\n   <g clip-path=\"url(#p183e3d7ae2)\">\r\n    <image height=\"142\" id=\"imagee659fc81c4\" transform=\"scale(1 -1)translate(0 -142)\" width=\"142\" x=\"1369.098305\" xlink:href=\"data:image/png;base64,\r\niVBORw0KGgoAAAANSUhEUgAAAI4AAACOCAYAAADn/TAIAAADs0lEQVR4nO3dP0orURhA8cnjbUIrQTtxAQp21tra6AbcQEAhCLoEwTo2FlZCVmCRBYiFoGCly3hvAfcbuJ6Jc+eO51d+5M8Uh8vNcJNMmqb510jf9Kf0BahOhiPEcIQYjhDDEWI4QgxHiOEIMRwhhiPEcIQYjhDDEWI4QgxHiOEIMRwhhiPEcIT8LX0B1OHhYTLb2dnJeu7Z2VkyW1tby3rucrlMZovFIuu519fXWY+rgSuOEMMRYjhCDEfIpCn0hbz5fJ7MTk5OClxJWXd3d8ns8vIymb2/v/dxOdlccYQYjhDDEWI4Qqq9czwW0QeCg4ODZHZzcxM+v9TdaFccIYYjxHCEGI4QwxFS7FPV6+vryl/z6+srmX18fCSzt7e3ZPbw8JD1HtPpNOtxGxsbySz3zE/0uKurq/Cxz8/Pyezx8THrfbpwxRFiOEIMR4jhCCl2HicSHUBvmnhDGm1wh3SOZXNzM5nNZrNk1vUMUvSBYH19vdNr5nDFEWI4QgxHiOEIGdTmeOyiDfPT01Myy73D3GZrayuZrfpDgiuOEMMRYjhCDEfIqA6rR5vPyPb2djJ7eXlJZrkbyuh9j4+Pk1mXn1dpE30TtI+75a44QgxHiOEIMRwhVdw5Pj8/T2bRRjOSu/mMjid00XXTm6uPu8QRVxwhhiPEcIQYjpBBbY7b7vxG54vHLNqo7+/vh48tdabaFUeI4QgxHCGGI2RUxypq5A9k61cxHCGGI8RwhAzqznGb6Fcsbm9vk1kfRxkuLi7wc+/v75PZ0Da9uVxxhBiOEMMRYjhCqtgcR6JzyG2/BbxKk8nkx9+jBq44QgxHiOEIMRwh1R6ryP1LwVVvmKO72H386cbQuOIIMRwhhiPEcIRUe+c4Vx93mI+OjpLZ2DfMrjhCDEeI4QgxHCFVbI7b/jkvR7RJ/fz8TGarPq889g2zK44QwxFiOEIMR8igNsfz+Tycd/mL5eVymcx2d3fx63URfZmv1i/pueIIMRwhhiPEcIQU2xxHv2n8237PuGniDXPueeqSXHGEGI4QwxFiOEIMR4ifqgaohrM8rjhCDEeI4QgxHCGDOo/T9teKs9nsx987+v/uUud2ojNEe3t7Ba6knSuOEMMRYjhCDEfIoH4DsO2Q9unpac9X8j3RN02n02kyy91sLxaLztf001xxhBiOEMMRYjhCBnXnWPVwxRFiOEIMR4jhCDEcIYYjxHCEGI4QwxFiOEIMR4jhCDEcIYYjxHCEGI4QwxFiOEIMR8h/x6a+l4YLWekAAAAASUVORK5CYII=\" y=\"-7.064407\"/>\r\n   </g>\r\n  </g>\r\n  <g id=\"axes_10\">\r\n   <g clip-path=\"url(#pb6d8ee7709)\">\r\n    <image height=\"142\" id=\"image0e8f9586f1\" transform=\"scale(1 -1)translate(0 -142)\" width=\"142\" x=\"1539.335593\" xlink:href=\"data:image/png;base64,\r\niVBORw0KGgoAAAANSUhEUgAAAI4AAACOCAYAAADn/TAIAAACb0lEQVR4nO3dwVEiQRiAUdjadAxAg9CA9CgBQRUpYAAG5B48zkDBN7ho+96xD1QfvvqrC5qZ9Wq1+ljBhf7cegP8TMIhEQ6JcEiEQyIcEuGQCIdEOCTCIREOiXBIhEMiHBLhkAiHRDgkwiERDsnfW2/gmj4++vXp9Xp9xZ2Mz8QhEQ6JcEiEQzLU4XiJuYP109PTZG232/2P7Xx7Jg6JcEiEQyIckqEOx29vb5O1+/v7/Hl3d3eTNYfjTyYOiXBIhEMiHBLhkKxXAz0D8Pn5ebL2+vqaP88dneNMHBLhkAiHRDgkQ/3k8P7+fust/BomDolwSIRDIhySob45nnM4HCZr597RcVn9OBOHRDgkwiERDslQ3xzP2e/3k7VzD8cuqx9n4pAIh0Q4JMIhGf6b48fHx8nadrvNn+ce8icTh0Q4JMIhEQ7J8IfjOUv+uPfy8jJZ22w2i/f005g4JMIhEQ6JcEh+5eF4jjfPXMbEIREOiXBIhEMiHBLhkAiHRDgkwiEZ/g9555q7LrHkGcmjM3FIhEMiHBLhkLhWccK5Vy3mXun48PBw7e18KyYOiXBIhEMiHBKH4xOW/HFv9HvIJg6JcEiEQyIcEtcqvsjcwXqkp1qYOCTCIREOiXBIHI5P8Drq40wcEuGQCIdEOCSuVVxoyeuoR7pqYeKQCIdEOCTCIREOiZ8cLrTkPeYjMXFIhEMiHBLhkDgcf5G5R5+MxMQhEQ6JcEiEQ+I+zhXMPStw9PeTmzgkwiERDolwSByOSUwcEuGQCIdEOCTCIREOiXBIhEMiHBLhkAiHRDgkwiERDolwSIRDIhwS4ZAIh+QfJZlXMAn1AggAAAAASUVORK5CYII=\" y=\"-7.064407\"/>\r\n   </g>\r\n  </g>\r\n </g>\r\n <defs>\r\n  <clipPath id=\"p9d50bb6c03\">\r\n   <rect height=\"141.864407\" width=\"141.864407\" x=\"7.2\" y=\"7.2\"/>\r\n  </clipPath>\r\n  <clipPath id=\"p1c974f3b59\">\r\n   <rect height=\"141.864407\" width=\"141.864407\" x=\"177.437288\" y=\"7.2\"/>\r\n  </clipPath>\r\n  <clipPath id=\"p92e9b5111d\">\r\n   <rect height=\"141.864407\" width=\"141.864407\" x=\"347.674576\" y=\"7.2\"/>\r\n  </clipPath>\r\n  <clipPath id=\"p0c95b5fdf8\">\r\n   <rect height=\"141.864407\" width=\"141.864407\" x=\"517.911864\" y=\"7.2\"/>\r\n  </clipPath>\r\n  <clipPath id=\"p91cd1c325b\">\r\n   <rect height=\"141.864407\" width=\"141.864407\" x=\"688.149153\" y=\"7.2\"/>\r\n  </clipPath>\r\n  <clipPath id=\"p6d5564f29e\">\r\n   <rect height=\"141.864407\" width=\"141.864407\" x=\"858.386441\" y=\"7.2\"/>\r\n  </clipPath>\r\n  <clipPath id=\"p7bd1e71337\">\r\n   <rect height=\"141.864407\" width=\"141.864407\" x=\"1028.623729\" y=\"7.2\"/>\r\n  </clipPath>\r\n  <clipPath id=\"p9587916624\">\r\n   <rect height=\"141.864407\" width=\"141.864407\" x=\"1198.861017\" y=\"7.2\"/>\r\n  </clipPath>\r\n  <clipPath id=\"p183e3d7ae2\">\r\n   <rect height=\"141.864407\" width=\"141.864407\" x=\"1369.098305\" y=\"7.2\"/>\r\n  </clipPath>\r\n  <clipPath id=\"pb6d8ee7709\">\r\n   <rect height=\"141.864407\" width=\"141.864407\" x=\"1539.335593\" y=\"7.2\"/>\r\n  </clipPath>\r\n </defs>\r\n</svg>\r\n",
      "image/png": "[encoded data removed]"
     },
     "metadata": {
      "needs_background": "light"
     }
    },
    {
     "output_type": "display_data",
     "data": {
      "text/plain": "HBox(children=(HTML(value=''), FloatProgress(value=0.0, max=392.0), HTML(value='')))",
      "application/vnd.jupyter.widget-view+json": {
       "version_major": 2,
       "version_minor": 0,
       "model_id": "dde4d93e7c49481c8242caa8432dc384"
      }
     },
     "metadata": {}
    },
    {
     "output_type": "stream",
     "name": "stdout",
     "text": [
      "\n"
     ]
    },
    {
     "output_type": "display_data",
     "data": {
      "text/plain": "<Figure size 2160x216 with 10 Axes>",
      "image/svg+xml": "<?xml version=\"1.0\" encoding=\"utf-8\" standalone=\"no\"?>\r\n<!DOCTYPE svg PUBLIC \"-//W3C//DTD SVG 1.1//EN\"\r\n  \"http://www.w3.org/Graphics/SVG/1.1/DTD/svg11.dtd\">\r\n<!-- Created with matplotlib (https://matplotlib.org/) -->\r\n<svg height=\"156.264407pt\" version=\"1.1\" viewBox=\"0 0 1688.4 156.264407\" width=\"1688.4pt\" xmlns=\"http://www.w3.org/2000/svg\" xmlns:xlink=\"http://www.w3.org/1999/xlink\">\r\n <metadata>\r\n  <rdf:RDF xmlns:cc=\"http://creativecommons.org/ns#\" xmlns:dc=\"http://purl.org/dc/elements/1.1/\" xmlns:rdf=\"http://www.w3.org/1999/02/22-rdf-syntax-ns#\">\r\n   <cc:Work>\r\n    <dc:type rdf:resource=\"http://purl.org/dc/dcmitype/StillImage\"/>\r\n    <dc:date>2020-12-15T14:04:24.289062</dc:date>\r\n    <dc:format>image/svg+xml</dc:format>\r\n    <dc:creator>\r\n     <cc:Agent>\r\n      <dc:title>Matplotlib v3.3.3, https://matplotlib.org/</dc:title>\r\n     </cc:Agent>\r\n    </dc:creator>\r\n   </cc:Work>\r\n  </rdf:RDF>\r\n </metadata>\r\n <defs>\r\n  <style type=\"text/css\">*{stroke-linecap:butt;stroke-linejoin:round;}</style>\r\n </defs>\r\n <g id=\"figure_1\">\r\n  <g id=\"patch_1\">\r\n   <path d=\"M 0 156.264407 \r\nL 1688.4 156.264407 \r\nL 1688.4 0 \r\nL 0 0 \r\nz\r\n\" style=\"fill:none;\"/>\r\n  </g>\r\n  <g id=\"axes_1\">\r\n   <g clip-path=\"url(#p182c2570e8)\">\r\n    <image height=\"142\" id=\"image4e3344b21a\" transform=\"scale(1 -1)translate(0 -142)\" width=\"142\" x=\"7.2\" xlink:href=\"data:image/png;base64,\r\niVBORw0KGgoAAAANSUhEUgAAAI4AAACOCAYAAADn/TAIAAAD1ElEQVR4nO3dPUozURSH8euLm7ATLFyDgp2doI2FTVILbiCgpYIbCNjbWKSJ4AoEXYOgYKXL8F3APYGTZyYz+Xh+5cH5EP5cTu7cubNVSvkr0pz+9X0DWk0GR4jBEWJwhBgcIQZHiMERYnCEGBwhBkeIwRFicIQYHCEGR4jBEWJwhBgcIQZHiMERst33DWySvb29qvb4+FjVBoNBVfv6+lrIPVGOOEIMjhCDI8TgCFmq5jhqHuexTA1kthGOLNP/MYsjjhCDI8TgCDE4Qjppjq+vr6va1dVVVdvZ2Wl0nd/f36o2Ho+r2tPTU1Vr0pCenp5WtdFoVNV2d3er2tHREb5unxxxhBgcIQZHiMERYnCEbJWW9wCMfmFMp9M2L7EQNzc3VS369XVxcVHVbm9vU9c4Ozuras/Pz6ljl40jjhCDI8TgCDE4Qlpvjt/e3qrawcFB6tj39/ew/vLykjp+EY8xMrKPOu7u7hZ+L11xxBFicIQYHCEGR0jrzfHfX+50USN8f38f/m3bs6vR+qDs7G8kWoQ+HA7x+VaBI44QgyPE4AgxOEJab47bbjxLiRvpz8/PqjaZTKpa1FhHb1lG52siWqbhzLE2nsERYnCEGBwhrTfHkahhPjk5qWrRm46lNFsaES15yJ4vOvb7+7uqZZeNuOZYG8/gCDE4QgyOkE6a46ail/zOz8+r2vHxcep8UYMbrWvObofy8/NT1bIN+KrOMDviCDE4QgyOEIMjZCWa42UXLdN4fX2tatmGeRVmmB1xhBgcIQZHiMERYnO8IE0a5miN9eHhYTs31hJHHCEGR4jBEWJwhNgcd6hJwxzNJpfS34yyI44QgyPE4AgxOEJsjnuW3Rd61h7Qfc0oO+IIMThCDI4QgyOkk++OdyX74t7Hx0dV6+sluOhFwKg5nrUjRjQb3eQb6lmOOEIMjhCDI8TgCFmrmeMmeyxHM7ODwaCqddF4zrP7RV+7XTjiCDE4QgyOEIMjZK1mjqOt16L9lLMzs9GHQaKv4UUz0dlt4Jra399v/ZwZjjhCDI4QgyPE4AhZq5njrCb7EmdFHxC5vLxMHTsajararGUVfe1s4YgjxOAIMThCDI4QgyNkrR45ZEW/bh4eHlLHjsfjqpZ9rDGdTlPXWAWOOEIMjhCDI8TgCNnIRw5daPuLMtE6oFJKGQ6H891YSxxxhBgcIQZHiMERYnPcoahhzuriDdJ5OOIIMThCDI4QgyPE5liII44QgyPE4AgxOEIMjhCDI8TgCDE4QgyOEIMjxOAIMThCDI4QgyPE4AgxOEIMjhCDI8TgCPkP3fjsadYrAr4AAAAASUVORK5CYII=\" y=\"-7.064407\"/>\r\n   </g>\r\n  </g>\r\n  <g id=\"axes_2\">\r\n   <g clip-path=\"url(#pf5c8286aa3)\">\r\n    <image height=\"142\" id=\"imageaea8625b6d\" transform=\"scale(1 -1)translate(0 -142)\" width=\"142\" x=\"177.437288\" xlink:href=\"data:image/png;base64,\r\niVBORw0KGgoAAAANSUhEUgAAAI4AAACOCAYAAADn/TAIAAADvklEQVR4nO3dMU4jMRhAYbPiEtQUFFEOABIdHRJp08AFOAJIaUDiApyAlgakdOkiJQeIKJBCC8fY7fHPangzGTvwvtLabIbVk+UdPOOdlNLfJH3Tn9IXoO1kOEIMR4jhCDEcIYYjxHCEGI4QwxFiOEIMR4jhCDEcIYYjxHCEGI4QwxFiOEIMR8hu6Qug9vf3s7HJZJKNnZ+f93E5mYeHh2zs9fU1G7u9ve3jcjrnjCPEcIQYjhDDEbKTtuCBvLOzs2zs6empwJV0b7lcZmN3d3fZ2PPzcx+X05gzjhDDEWI4QgxHSFWL4+hucEoprdfrnq+krI+Pj2zs/v4+/LOl7jw74wgxHCGGI8RwhBiOkKr244zH49KXUIW9vb1s7PLysvHn+/ifljOOEMMRYjhCDEdIsV85RL9eiDZ4p5TS4eHhpi/nRxmNRtlY1/t5nHGEGI4QwxFiOEKK3TmO7hJvwyL4+vo6Gzs9PW302b5+vmgjf3Tdbe4wO+MIMRwhhiPEcIRUta2ipDZPVDZdZEZPpA6Hw2zs5uam0d9XkjOOEMMRYjhCDEfIr1wcl3q1SPT3vby8ZGPRnei2d50PDg5aff4zZxwhhiPEcIQYjpBie47f39+zsehBtE2IFsdHR0e9fHcTm3jnYdc/szOOEMMRYjhCDEdIsTvHs9ksG+vrpJfa3ykY3WGOFrcpldun7YwjxHCEGI4QwxFSbHFc6sjDlOIjDvU9zjhCDEeI4QgxHCG/cs/xarUqfQn/9dUpOjVxxhFiOEIMR4jhCPnxi+PomMLazvD+bDAYZGO1vebOGUeI4QgxHCGGI6TY4jh67+4mXmEW7W2uydXVVTbW9t8h2p/c9TYWZxwhhiPEcIQYjpBii+O+tjacnJxkY9G2hbe3t06/N/qO6I7wd46FbipaCHf98znjCDEcIYYjxHCEFHuVW2SxWITjXW8piLZaHB8fN/psdLJfyRPyoiO3Ly4uOv+ez5xxhBiOEMMRYjhCfvye40j0PuXaX+8WLYJT6mchHHHGEWI4QgxHiOEIMRwhVf3K4avXe8zn82ysr5NmNi3aWD6dTrOxpmeb98UZR4jhCDEcIYYjpKrF8VeiRXNNC+Zof0/0BOnj42M2Fp073vXG8k1wxhFiOEIMR4jhCNmKxXEkWjBPJpNsLHqqMdrb0uZEmeip1NrfM9iWM44QwxFiOEIMR8jWLo5VljOOEMMRYjhCDEeI4QgxHCGGI8RwhBiOEMMRYjhCDEeI4QgxHCGGI8RwhBiOEMMRYjhC/gH4QMJCt420RQAAAABJRU5ErkJggg==\" y=\"-7.064407\"/>\r\n   </g>\r\n  </g>\r\n  <g id=\"axes_3\">\r\n   <g clip-path=\"url(#pb01d4b47cb)\">\r\n    <image height=\"142\" id=\"image1313f4b05a\" transform=\"scale(1 -1)translate(0 -142)\" width=\"142\" x=\"347.674576\" xlink:href=\"data:image/png;base64,\r\niVBORw0KGgoAAAANSUhEUgAAAI4AAACOCAYAAADn/TAIAAADR0lEQVR4nO3cMUrsQADH4fh4l9BKsLAQD2BhZydoY2FjL3gBwUKEFbyAF7CydcHOzsITWAgKdh7Dd4AZIfvfZJP1fV85GHcWfgxjTGalaZrvBmb0Z+gJsJyEQ0Q4RIRDRDhEhENEOESEQ0Q4RP4OPYH/ycXFRTE2mUyKscPDw2JsOp32MqeUFYeIcIgIh4hwiNgc92RjY6MYOzs7G2Am/bDiEBEOEeEQEQ4Rm+OebG1tFWOrq6sDzKQfVhwiwiEiHCLCISIcIsIhIhwiwiEiHCLuHPdke3t76Cn0yopDRDhEhENEOESEQ0Q4RIRDRDhEhENEOET8y6En+/v7Q0+hV1YcIsIhIhwiwiHyqzbHtaNF5nF5eRlfu7OzE1/7+voaX7soVhwiwiEiHCLCITKqzfFPm9vj4+NirHae3m86RmTsrDhEhENEOESEQ2Qhm+Paprd2V3Zvb696vU3v+FhxiAiHiHCICIdI55vjg4ODYuz8/LwYm+exg7F5eXlp9XNtv3PtcO2Pj4+Z5tQ3Kw4R4RARDhHhEOl8c1w7+27ejXBt8/n+/t7q2qurq7k+O9V2fsvKikNEOESEQ0Q4RDrfHG9ubsbXfn19VcdPTk6KsTHdSe36RcBlYMUhIhwiwiEiHCKdb47f3t66/pWMkBWHiHCICIeIcIh0vjm+vr4uxtqeLPHTi3e10ypqn8PiWHGICIeIcIgIh8iojnL7TWqPiLQ9daP2AuN0Op17Tl2y4hARDhHhEBEOkYVsjk9PT4uxh4eHRXz0QtSef769vS3GJpNJq9+3vr4+75R6Z8UhIhwiwiEiHCIrTdN8D/HBd3d3xVjtxbumqd+F3d3dLcbG/pLe8/NzMVa7m1z7vmtra91MrCNWHCLCISIcIsIhMthjFbO8uPf5+dnfRHpS26jXvkdtc/z09NTHlDplxSEiHCLCISIcIsIhMthfVff398VY7Y3Ppmmax8fHYmxM/15o6+bmphg7OjoqxoY61HsWVhwiwiEiHCLCITLY8zgsNysOEeEQEQ4R4RARDhHhEBEOEeEQEQ4R4RARDhHhEBEOEeEQEQ4R4RARDhHhEBEOEeEQEQ4R4RARDhHhEBEOEeEQEQ4R4RARDpF/8M90I6qTr8YAAAAASUVORK5CYII=\" y=\"-7.064407\"/>\r\n   </g>\r\n  </g>\r\n  <g id=\"axes_4\">\r\n   <g clip-path=\"url(#p1a29495539)\">\r\n    <image height=\"142\" id=\"image72d4173881\" transform=\"scale(1 -1)translate(0 -142)\" width=\"142\" x=\"517.911864\" xlink:href=\"data:image/png;base64,\r\niVBORw0KGgoAAAANSUhEUgAAAI4AAACOCAYAAADn/TAIAAADjElEQVR4nO3dMUpkWRiG4dPDbEJTAyMXoGBmJmhqorHgEhREUHADbkATAxONzQRdgJgpGOkyZoKeaM4/w/W7dlVrPU/4U9VVDS+H46lbt3601v5q8EF/TPsN8DUJh4hwiAiHiHCICIeIcIgIh4hwiAiHiHCICIeIcIgIh4hwiAiHiHCICIeIcIgIh4hwiAiHiHCICIfIn9N64fPz88GPvbq66mZPT0+Dnvvy8jL4dRjOikNEOESEQ0Q4RH60CdytotoIb29v/+qXba21dnFx0c2Ojo66mU30x1hxiAiHiHCICIeIcIhM5K+q+/v7bra8vNzNDg4Oyuc/Pj52s6WlpW62vr4+6HUqm5ub3ezm5mbQc2eRFYeIcIgIh4hwiExkc1x5e3vrZnNzc+Vjx3xssLCw0M0ODw+7WfURSLVZPzk5Kd/jrLHiEBEOEeEQEQ6RqW2OK/v7++X8+Pi4m72/v3ez3d3dbjb09Lc63X5+fu5mOzs7g/69786KQ0Q4RIRDRDhEfqvN8X+pTn/v7u66WXXyPPTUuXpcdZrsovafrDhEhENEOESEQ+RLbI6Hqk6eq1PniksoPsaKQ0Q4RIRDRDhEvtXmuDLm1Pnh4aGbOU3+yYpDRDhEhENEOES+/ea4MuaEubrW+fb2tpsNvan3V91YW3GICIeIcIgIh8jUfj3mK6hu7zb0FnLX19fdrNpYn52ddbPLy8tu9rttoq04RIRDRDhEhENkJk+ONzY2ulm1mR1z7+PqdHpxcbGbVZdpVJdznJ6elq8zrXsxW3GICIeIcIgIh8hMbo6r65Cr27ZVd7D47Fu5jbkPc2uTeY8VKw4R4RARDhHhEJnJzXFl6G+jT+uX9KofTWmt/iLhJO68YcUhIhwiwiEiHCKuOf5H9QW6tbW1bvbZl19UqtPk19fX8rGrq6vdrDpNrozZMFtxiAiHiHCICIeIk+P/MeaShzE/eV2dYlcb9dZam5+fL+f/Vv1fxnzJz4pDRDhEhENEOERsjj9B9eW7vb29Qc+tLouoVF/Sa621lZWVQc//bFYcIsIhIhwiwiEiHCL+qvpFqiP+ra2tblbd+qRSfVzR2vTuDWjFISIcIsIhIhwiNsdErDhEhENEOESEQ0Q4RIRDRDhEhENEOESEQ0Q4RIRDRDhEhENEOESEQ0Q4RIRDRDhEhENEOESEQ0Q4RIRDRDhEhENEOESEQ0Q4RP4GynjVjNI87VkAAAAASUVORK5CYII=\" y=\"-7.064407\"/>\r\n   </g>\r\n  </g>\r\n  <g id=\"axes_5\">\r\n   <g clip-path=\"url(#pfde3478698)\">\r\n    <image height=\"142\" id=\"imagecd6687b914\" transform=\"scale(1 -1)translate(0 -142)\" width=\"142\" x=\"688.149153\" xlink:href=\"data:image/png;base64,\r\niVBORw0KGgoAAAANSUhEUgAAAI4AAACOCAYAAADn/TAIAAADRUlEQVR4nO3dsU0jQRiG4fWJJiBCggxRALSABAmBE2iABpAgQYIeiCEhIAGJFqAARGZSKOMu4LIZ0Pqzzdrr5wl/ne82eDUa9obxoGmavw2M6U/XD8BiEg4R4RARDpGVrh9g1s7OzorZ5eVlMdvc3Cxm7+/vM3mmPrDiEBEOEeEQEQ6R3m+O9/b2Wv254XBYzK6urqb9OL1hxSEiHCLCISIcIr3fHD89PRWznZ2dYnZyclLM7u7uipm3yV+sOESEQ0Q4RIRDZNAs4Znjj4+PYra6ulrMzs/Pi5m3yV+sOESEQ0Q4RIRDZCk3x23PIdccHBwUs8fHx4mfadFYcYgIh4hwiAiHyFJujmvavk3+/PwsZmtrazN5pnlmxSEiHCLCISIcIsIh4qeq/zY2NorZaDRq9dll/G8IKw4R4RARDhHhELE5/sHz83Mxq/0WaE3fN8xWHCLCISIcIsIh0vtrTibR9oqUmuvr62L29vZWzBb12hQrDhHhEBEOEeEQ8eZ4TDc3N8Xs6Oio1Wdvb2+L2fHx8cTP1AUrDhHhEBEOEeEQ8eZ4TPf398Ws7ea49vWNi8qKQ0Q4RIRDRDhEvDmegkneJg8Gg2k/zq+w4hARDhHhEBEOEZvjKajddFE7QlE7r/zy8lLMahvreTubbMUhIhwiwiEiHCI2xzOyv79fzB4eHlp9dhG+0tGKQ0Q4RIRDRDhEbI5/0STHL2ob5qbpbtNsxSEiHCLCISIcIjbHM1I7arG1tVXM2r5N/k5X9ylbcYgIh4hwiAiHyELcVlHbaA6Hw2L2+vpazE5PT4vZ+vr6VJ7rJ7XvLJ+F7e3tYmZzzNwSDhHhEBEOkbl6c1w7dtA07Y8eLKPaL/Tt7u7O/N+14hARDhHhEBEOkc42x5P8wto4apvH0WgU/321e45rDg8P48/W1L5dr2m6u8XCikNEOESEQ0Q4RDrbHLe9/uw7tQ3uxcVFMZu3K9D6wopDRDhEhENEOESEQ2SuzuOwOKw4RIRDRDhEhENEOESEQ0Q4RIRDRDhEhENEOESEQ0Q4RIRDRDhEhENEOESEQ0Q4RIRDRDhEhENEOESEQ0Q4RIRDRDhEhENEOESEQ0Q4RIRDRDhEhEPkHzZ0m+T+/5weAAAAAElFTkSuQmCC\" y=\"-7.064407\"/>\r\n   </g>\r\n  </g>\r\n  <g id=\"axes_6\">\r\n   <g clip-path=\"url(#p95217f7718)\">\r\n    <image height=\"142\" id=\"image6a3cf6da57\" transform=\"scale(1 -1)translate(0 -142)\" width=\"142\" x=\"858.386441\" xlink:href=\"data:image/png;base64,\r\niVBORw0KGgoAAAANSUhEUgAAAI4AAACOCAYAAADn/TAIAAADqElEQVR4nO3dMUokQRSA4ZrFS2gkKBh4AgUzswFNDEw09g4jiOCARzDWxMBEwcxM0DMImuox3GDD91jav1p7avy/8LFu98JPUfbW9IxKKZ9F+qI/Q9+A2mQ4QgxHiOEIMRwhhiPEcIQYjhDDEWI4QgxHiOEIMRwhhiPEcIQYjhDDEWI4QgxHiOEIMRwhhiPEcIQYjpCFoW+AWllZCbOrq6sw29jYwNd4fn4Os/v7+zC7vr4Os7e3N3zdFrjiCDEcIYYjxHCEjEqjb6vY2dkJs9vb2wHuJJdt1E9PT8Os1U20K44QwxFiOEIMR4jhCGn2t6rLy8swOzg4GOBO6hwfH4fZdDod4E6+xhVHiOEIMRwhhiOkic1xdvbm9fX126+bncdZXl7u9LOLi4ud/tzHx0eYbW1thdms/deEK44QwxFiOEIMR0gTm+P39/cw67r5rFGzcZ1MJmF2dnbW6brZpnxzc7PTz/4UVxwhhiPEcIQYjpAmNsefn7Nzi9mG+eHhIcwODw/DrGbDnB2/KGW4IxiuOEIMR4jhCDEcIb9yc5xtcPt+Ep1dI1Nz/KKU4Y5guOIIMRwhhiPEcIQ0sTnu+8N3q6urYfb4+BhmP3F0o1b2b3FzrJllOEIMR4jhCGn2Bdk1ss1j9gT25OQkzLa3t8OshU1031xxhBiOEMMRYjhCmtgcv7y8fPs1sg1zdm44e3PG/v5+p2usra2FWdcn4NkLt0sZ7i0WrjhCDEeI4QgxHCFNHKvI1LzBYnd3N8zu7u6q7+k3ccURYjhCDEeI4QhpdnP89PQUZl2/Y7zVdwvPElccIYYjxHCEGI6QZjfHfX/vePZu4fPz8zDzCfM/rjhCDEeI4QgxHCHNbo6zs7/ZB+j6/krp0WjU69/XKlccIYYjxHCEGI6QZjfHXfX9GrjsSMbR0VGYzfsTZlccIYYjxHCEGI6Qud8cZ0+Y+36ncc2GOdu839zcdPrZIbniCDEcIYYjxHCEGI6Quf+tqquaT4Z2lX13ePa949lvaUtLS73eSy1XHCGGI8RwhBiOEDfH/zGZTMJsPB6HWd+b6Ey2sS6llOl0+u3XzrjiCDEcIYYjxHCEuDn+oux8z/r6ephdXFyEWc2Zn+yl3qUMd07HFUeI4QgxHCGGI6SJr1acJdlLs7u+SHtvby/Msk+VZk+JPayuuWA4QgxHiOEI8cmxEFccIYYjxHCEGI4QwxFiOEIMR4jhCDEcIYYjxHCEGI4QwxFiOEL+AuoT1meq0J31AAAAAElFTkSuQmCC\" y=\"-7.064407\"/>\r\n   </g>\r\n  </g>\r\n  <g id=\"axes_7\">\r\n   <g clip-path=\"url(#p127308772c)\">\r\n    <image height=\"142\" id=\"imaged4f31a6f61\" transform=\"scale(1 -1)translate(0 -142)\" width=\"142\" x=\"1028.623729\" xlink:href=\"data:image/png;base64,\r\niVBORw0KGgoAAAANSUhEUgAAAI4AAACOCAYAAADn/TAIAAAD6klEQVR4nO3dMUrsUBSH8evjbcJawcIVWNjZCdpOoxuYDQgjiKBLEKy1sbBxwM5OmFmAWAja6jJ8vfcIyXdDbjLv+5UHTaL8uZzJnNyspZS+k9TSn9oXoHEyOEIMjhCDI8TgCDE4QgyOEIMjxOAIMThCDI4QgyPE4AgxOEL+1r6ALs1ms0Y/t7+/n9V2dnbweQ8PD7PafD7HxxsDVxwhBkeIwRFicISspRHMHEdN73Q6zWrr6+t9XA62Sk20K44QgyPE4AgxOEIG1RxvbGyE9dvb26xWcqd3SMbaMLviCDE4QgyOEIMjZFDN8WKxCOtdN8JRs93U3t5eVuv6jvUYGmZXHCEGR4jBEWJwhBgcIdU+VUVfL7y/vxcdc7lcZrWjo6Os9vHxgc8RXffZ2Vmj8zbV9O9IqexvKeGKI8TgCDE4QgyOkGrN8cHBQVZ7eHgoOmb0VcLx8XHRManv727/raenp2H98vKy0/M05YojxOAIMThCDI6QXrY5iRrhk5OTzs9zf3/f+TGpzc3NrFYydH9xcdH43H00zK44QgyOEIMjxOAIqbYH4Ko8ifmbaNwhGo14fn7Oam2G36P9DO/u7hpdTwlXHCEGR4jBEWJwhFRrjr++vrLa0PfwKxU1qFdXV1mtzV3i6EPG9vZ2o3OXcMURYnCEGBwhBkdIteZ41RvhpqK7vFtbW1mtzQN+19fXWe319TWrlTTMrjhCDI4QgyPE4AjppTmOGrNoR4ZVH7WIRA3q+fl5Vov2Hkwp/pAR1SaTSVYrmU12xRFicIQYHCEGR0gvzXH0NX9pIxyNZQxtE2kqapifnp7Cny3ZMq6EK44QgyPE4AgxOEKq3TlWO29vb0W/Hz24551j9c7gCDE4QgyOkF6a4+hOaPT6wDb7HEejA7PZLKvV2ge4a9EcchulL1j5yRVHiMERYnCEGBwh1R7Ii0YgojnklMr2Ao6aymgP4sfHx6xWq7GO9oUuHZ8ovfP8kyuOEIMjxOAIMThCqr0hL3JzcxPWa83VRnPN0dZrLy8vWS1q/qNXT0cPyk2n06z22+4e0TXu7u5mNbdy0yAYHCEGR4jBETKo5vg3n5+fWe1/2wouerteSvVej+2KI8TgCDE4QgyOkFE0x9GYQZv55KGIxkaicY4+3nBXyhVHiMERYnCEGBwhBkfIKD5VRaKnNtu8kpBapU9GJVxxhBgcIQZHiMERUu1JzlJ9PGW56g1uCVccIQZHiMERYnCEjPbOsepyxRFicIQYHCEGR4jBEWJwhBgcIQZHiMERYnCEGBwhBkeIwRFicIQYHCEGR4jBEWJwhBgcIQZHiMERYnCEGBwhBkfIP0yZ6OgHBJkFAAAAAElFTkSuQmCC\" y=\"-7.064407\"/>\r\n   </g>\r\n  </g>\r\n  <g id=\"axes_8\">\r\n   <g clip-path=\"url(#p292f3f0fbc)\">\r\n    <image height=\"142\" id=\"imageae670c761a\" transform=\"scale(1 -1)translate(0 -142)\" width=\"142\" x=\"1198.861017\" xlink:href=\"data:image/png;base64,\r\niVBORw0KGgoAAAANSUhEUgAAAI4AAACOCAYAAADn/TAIAAADHUlEQVR4nO3dsU1jQRSGUbPaJiAFiR6QyMiQoALcCEjIEpRAA5ASEZMRUAMSxC5jN9ls7qLht8G84ZxwBPYLPl0Nj+fx1mw2+zODD/q16QtgmoRDRDhEhENEOESEQ0Q4RIRDRDhEhENEOESEQ0Q4RIRDRDhEhENEOESEQ0Q4RH5v+gJ63N7eNmtnZ2fx6y2Xy2bt8fGxWVssFs3a29tb/L4jMXGICIeIcIgIh8jWbAIfyDs/P2/W9vf3m7WXl5eun1tlY316etqsPTw8xK83VSYOEeEQEQ4R4RCZxOZ43XZ3d5u1y8vLZq13E723t9esjX6H2cQhIhwiwiEiHCLCIfIj/6rq1fsc0N3dXbM2n88/5Zq+CxOHiHCICIeIcIjYHL+j+tfE6+tr1++O/tyOiUNEOESEQ0Q4RGyOP6h6cP7q6qpZe35+btYODg4+5Zo2wcQhIhwiwiEiHCI2xx9U3U1+enpq1ra3t5u1ke4mmzhEhENEOESEQ2T4zXF1p/f4+Ljrd6vni6tPaPbeTa7OHtzZ2em6lu/GxCEiHCLCISIcIpM4ILvXyclJs1ZtUntVzxdfXFzEr1fdTZ4qE4eIcIgIh4hwiAy1Of4Kq2y2R2LiEBEOEeEQEQ4Rm+N/quPYjo6O1voeNzc3a329TTJxiAiHiHCICIfIUJvj6sNt1XO+1eMN1dcyjn5W8SpMHCLCISIcIsIhMvwH8nrPKh7pw3JfwcQhIhwiwiEiHCLDb44rvd98N/pZxaswcYgIh4hwiAiHyI/cHK9yN/nw8LBZq453G52JQ0Q4RIRDRDhEfuTmuLKps4qrjfoUNtsmDhHhEBEOEeEQsTl+x1c8flG9x/39fbP23b5Jz8QhIhwiwiEiHCLCIeKvqnes8h3j1ZmCi8WiWev9hprr6+v/XucmmDhEhENEOESEQ2SoMwDXrXoupnpYvdowV/+aqNamysQhIhwiwiEiHCLuHH+S0Y9SMXGICIeIcIgIh4jNMRETh4hwiAiHiHCICIeIcIgIh4hwiAiHiHCICIeIcIgIh4hwiAiHiHCICIeIcIgIh8hfBlmpUsa2e8cAAAAASUVORK5CYII=\" y=\"-7.064407\"/>\r\n   </g>\r\n  </g>\r\n  <g id=\"axes_9\">\r\n   <g clip-path=\"url(#p8d03107e13)\">\r\n    <image height=\"142\" id=\"image151c0736ba\" transform=\"scale(1 -1)translate(0 -142)\" width=\"142\" x=\"1369.098305\" xlink:href=\"data:image/png;base64,\r\niVBORw0KGgoAAAANSUhEUgAAAI4AAACOCAYAAADn/TAIAAADZUlEQVR4nO3dMUosSwCG0Z7L3YSZoKkL0NhYE1Ndx4CCiYIbEIw1MVVwC7oAU011Gb70QdVA+8/0dPXcc8JCZzr4KMq2unrWdd1PB7/0Z+wLYJqEQ0Q4RIRDRDhEhENEOESEQ0Q4RIRDRDhEhENEOESEQ0Q4RIRDRDhEhENEOET+jn0B/3d0dFQdPzk5KcZOT0+Hvpzevr+/i7Hb29ti7PHxsRj7/Pwc5JqGZsYhIhwiwiEiHCKzrqEH8n5+mrmUQby9vRVjNzc3xdjz8/M6LmcpZhwiwiEiHCLCIWJx3KDj4+NirLUFsxmHiHCICIeIcIgIh0hTf1Ut2o/T197eXjH2/v7e63fn83kxtr29HV/L1tZW/Ls1u7u71fGx9vOYcYgIh4hwiAiHSFOL401SW+g/PT3Fn1f7N0TXjfevCDMOEeEQEQ4R4RBp6knOTVJbtF5cXBRjV1dXvT6vdld80fesgxmHiHCICIeIcIhMdnG8s7PT6+dWve2g79aP2tEsh4eHK72WMZlxiAiHiHCICIfIJBbH9/f3xVjfMwAfHh7i763t893f348/bxl9906vixmHiHCICIeIcIhMYs/x6+trMTbWInUdamcFHhwcjHAli5lxiAiHiHCICIdIU3eOF22VWObUiNbV7myfnZ2NcCW/Y8YhIhwiwiEiHCKTuHNc2+d7d3dXjK36+LSa2kN1fXm1Iv884RARDhHhEJnE4rjm/Py8GOt78sMyZrPZ4N8xBWYcIsIhIhwiwiHS1LaK37i+vu71c6teMNfuYrf22sN1MOMQEQ4R4RARDpHJ3jnuax13mKfwnvBVM+MQEQ4R4RARDpFJLI6Xea10bZH69fVVjK16v/KmL5jNOESEQ0Q4RIRDpKnFce08467rf6ZxTe1YtLGOgas9zDfVh/TMOESEQ0Q4RIRDZLTFce3Yto+PjxGuZFy1BXPf/dRjMuMQEQ4R4RARDhHhEPFXVYOmsJfHjENEOESEQ0Q4RJraj7Po7TGXl5eDf3dL7xj3akU2lnCICIeIcIg0dQbgok3arb9qsPak6Xw+L8b6LrZfXl6WvqahmXGICIeIcIgIh0hTd46ZDjMOEeEQEQ4R4RARDhHhEBEOEeEQEQ4R4RARDhHhEBEOEeEQEQ4R4RARDhHhEBEOkf8AG+ChnKT4PckAAAAASUVORK5CYII=\" y=\"-7.064407\"/>\r\n   </g>\r\n  </g>\r\n  <g id=\"axes_10\">\r\n   <g clip-path=\"url(#p41936c258f)\">\r\n    <image height=\"142\" id=\"image7552794e80\" transform=\"scale(1 -1)translate(0 -142)\" width=\"142\" x=\"1539.335593\" xlink:href=\"data:image/png;base64,\r\niVBORw0KGgoAAAANSUhEUgAAAI4AAACOCAYAAADn/TAIAAACcUlEQVR4nO3dQWoiQRiAUR3mUuYKghcyy3ihgFfQA+RAmUWW3SPt5ySO5XvLgkAHPn7KStlZr1arzxVc6de9H4DHJBwS4ZAIh0Q4JMIhEQ6JcEiEQyIcEuGQCIdEOCTCIREOiXBIhEMiHBLhkPy+9wMssd/vJ2tvb2+TtfV6/ROPw8rEIRIOiXBIhEPyEJvjpU6n02Tt5eXlDk8yPhOHRDgkwiERDslQm+PNZjNZmzt1PhwOP/E4QzNxSIRDIhwS4ZAIh2SoT1VzttvtZM2nqtuZOCTCIREOiXBI1qsHfUH20gvsS7nofh0Th0Q4JMIhEQ7Jw26O53x+9l/l9fV1suaE+e9MHBLhkAiHRDgkQ22OnSb/HBOHRDgkwiERDslQd46XnvQu3TDvdrvJ2vv7+1XPNCoTh0Q4JMIhEQ7JUCfHS91y/cJp8hcTh0Q4JMIhEQ7JUCfHS83dL156muydgl9MHBLhkAiHRDgkT3lyPMdp8nVMHBLhkAiHRDgkT3lyPOeW0+RnZOKQCIdEOCTCIXFyfMHS0+Tz+TxZG/3/nZs4JMIhEQ6JcEhsji+45dVwo1+1MHFIhEMiHBLhkLhW8U1G/+KeiUMiHBLhkAiHxOb4go+Pj3s/wn/LxCERDolwSIRD4lrFlU6n02Rts9ks+tmRrlqYOCTCIREOiXBIhEPiTw5XOh6Pk7Wln6pGYuKQCIdEOCTCIbE5/iZzrz4ZiYlDIhwS4ZAIh8R9nH9g7l2Bcy/c9k1Onp5wSIRDIhwSm2MSE4dEOCTCIREOiXBIhEMiHBLhkAiHRDgkwiERDolwSIRDIhwS4ZAIh0Q4JMIh+QOBklXrZqJxHgAAAABJRU5ErkJggg==\" y=\"-7.064407\"/>\r\n   </g>\r\n  </g>\r\n </g>\r\n <defs>\r\n  <clipPath id=\"p182c2570e8\">\r\n   <rect height=\"141.864407\" width=\"141.864407\" x=\"7.2\" y=\"7.2\"/>\r\n  </clipPath>\r\n  <clipPath id=\"pf5c8286aa3\">\r\n   <rect height=\"141.864407\" width=\"141.864407\" x=\"177.437288\" y=\"7.2\"/>\r\n  </clipPath>\r\n  <clipPath id=\"pb01d4b47cb\">\r\n   <rect height=\"141.864407\" width=\"141.864407\" x=\"347.674576\" y=\"7.2\"/>\r\n  </clipPath>\r\n  <clipPath id=\"p1a29495539\">\r\n   <rect height=\"141.864407\" width=\"141.864407\" x=\"517.911864\" y=\"7.2\"/>\r\n  </clipPath>\r\n  <clipPath id=\"pfde3478698\">\r\n   <rect height=\"141.864407\" width=\"141.864407\" x=\"688.149153\" y=\"7.2\"/>\r\n  </clipPath>\r\n  <clipPath id=\"p95217f7718\">\r\n   <rect height=\"141.864407\" width=\"141.864407\" x=\"858.386441\" y=\"7.2\"/>\r\n  </clipPath>\r\n  <clipPath id=\"p127308772c\">\r\n   <rect height=\"141.864407\" width=\"141.864407\" x=\"1028.623729\" y=\"7.2\"/>\r\n  </clipPath>\r\n  <clipPath id=\"p292f3f0fbc\">\r\n   <rect height=\"141.864407\" width=\"141.864407\" x=\"1198.861017\" y=\"7.2\"/>\r\n  </clipPath>\r\n  <clipPath id=\"p8d03107e13\">\r\n   <rect height=\"141.864407\" width=\"141.864407\" x=\"1369.098305\" y=\"7.2\"/>\r\n  </clipPath>\r\n  <clipPath id=\"p41936c258f\">\r\n   <rect height=\"141.864407\" width=\"141.864407\" x=\"1539.335593\" y=\"7.2\"/>\r\n  </clipPath>\r\n </defs>\r\n</svg>\r\n",
      "image/png": "[encoded data removed]"
     },
     "metadata": {
      "needs_background": "light"
     }
    }
   ],
   "source": [
    "batch = next(iter(val_dataset))\n",
    "process_batch(batch[0][0:10])"
   ]
  },
  {
   "source": [
    "## What's next?\n",
    "\n",
    "To explore the model further you can examine one of the following points:\n",
    "\n",
    "- Change the hyperparameters: e.g. the number of layers from 8 to 24 - do not forget to adjust the batch size such that the model still fits into your memory.\n",
    "- Use a different dataset: e.g. 'cifar10' - do not forget to adjust the image size variables and recompute the centroids, change the centroids size to a bigger number (128).\n",
    "- Add a classification head: only the generative pretraining is implemented, yet. Add a final dense layer and a classification loss. First run the model with a generative loss only, than run it a second time with a mixed classification and generative loss to classify the inputs.\n",
    "- Use a different learning rate schedule or activation function: the original ImageGPT paper used a cosine schedule with no dropout and a gelu activation function."
   ],
   "cell_type": "markdown",
   "metadata": {}
  },
  {
   "source": [
    "## Further reading\n",
    "\n",
    "- [Transformers Tutorial](https://www.tensorflow.org/tutorials/text/transformer) - In depth tutorial on transformers in TF2.\n",
    "\n",
    "- [Illustrated Transformers Guide](http://jalammar.github.io/illustrated-transformer/) - Quick and intuitive explanation of transformers.\n",
    "\n",
    "- [Image GPT Blog](https://openai.com/blog/image-gpt/) - original ImageGPT by Chen et al.\n",
    "\n",
    "- [ImageGPT in PyTorch](https://github.com/teddykoker/image-gpt) - an implementation of the code above for PyTorch\n"
   ],
   "cell_type": "markdown",
   "metadata": {}
  },
  {
   "cell_type": "code",
   "execution_count": null,
   "metadata": {},
   "outputs": [],
   "source": []
  }
 ],
 "metadata": {
  "accelerator": "GPU",
  "colab": {
   "collapsed_sections": [
    "s_qNSzzyaCbD"
   ],
   "name": "transformer.ipynb",
   "toc_visible": true
  },
  "kernelspec": {
   "display_name": "Python 3",
   "name": "python3",
   "language": "python"
  },
  "language_info": {
   "codemirror_mode": {
    "name": "ipython",
    "version": 3
   },
   "file_extension": ".py",
   "mimetype": "text/x-python",
   "name": "python",
   "nbconvert_exporter": "python",
   "pygments_lexer": "ipython3",
   "version": "3.8.6-final"
  }
 },
 "nbformat": 4,
 "nbformat_minor": 0
}